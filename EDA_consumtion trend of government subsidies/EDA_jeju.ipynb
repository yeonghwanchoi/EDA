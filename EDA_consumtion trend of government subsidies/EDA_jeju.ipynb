{
 "metadata": {
  "language_info": {
   "codemirror_mode": {
    "name": "ipython",
    "version": 3
   },
   "file_extension": ".py",
   "mimetype": "text/x-python",
   "name": "python",
   "nbconvert_exporter": "python",
   "pygments_lexer": "ipython3",
   "version": "3.8.5-final"
  },
  "orig_nbformat": 2,
  "kernelspec": {
   "name": "python3",
   "display_name": "Python 3",
   "language": "python"
  }
 },
 "nbformat": 4,
 "nbformat_minor": 2,
 "cells": [
  {
   "cell_type": "code",
   "execution_count": 113,
   "metadata": {},
   "outputs": [
    {
     "output_type": "execute_result",
     "data": {
      "text/plain": [
       "'/Users/yeonghwanchoi/Documents/git/EDA/EDA_consumtion trend of government subsidies/data/KRI-DAC_Jeju_data6.txt'"
      ]
     },
     "metadata": {},
     "execution_count": 113
    }
   ],
   "source": [
    "# load data\n",
    "from glob import glob \n",
    "raw_data = glob(\"/Users/yeonghwanchoi/Documents/git/EDA/EDA_consumtion trend of government subsidies/data/*\")\n",
    "raw_data[0]"
   ]
  },
  {
   "cell_type": "code",
   "execution_count": 114,
   "metadata": {},
   "outputs": [],
   "source": [
    "# conncat data\n",
    "from glob import glob \n",
    "concat_list=[]\n",
    "for i in range(0,len(raw_data)):\n",
    "    df=pd.read_csv(raw_data[i])\n",
    "    df[\"월\"]=raw_data[i].split(\".\")[0][-1:]\n",
    "    concat_list.append(df)"
   ]
  },
  {
   "cell_type": "code",
   "execution_count": 115,
   "metadata": {},
   "outputs": [
    {
     "output_type": "execute_result",
     "data": {
      "text/plain": [
       "        OBJECTID  Field1      YM     SIDO SIGUNGU FranClass  Type Time  \\\n",
       "0              1       1  202006  제주특별자치도     제주시        영세  일반한식  00시   \n",
       "1              2       2  202006  제주특별자치도     제주시        영세  단란주점  00시   \n",
       "2              3       3  202006  제주특별자치도     제주시       중소1   편의점  00시   \n",
       "3              4       4  202006  제주특별자치도     제주시        영세   편의점  00시   \n",
       "4              5       5  202006  제주특별자치도     제주시        영세  일반한식  00시   \n",
       "...          ...     ...     ...      ...     ...       ...   ...  ...   \n",
       "280080    280081  280081  202008  제주특별자치도     제주시        영세   편의점   x시   \n",
       "280081    280082  280082  202008  제주특별자치도     제주시        영세  일반한식   x시   \n",
       "280082    280083  280083  202008  제주특별자치도     제주시        영세  일반한식   x시   \n",
       "280083    280084  280084  202008  제주특별자치도     제주시       중소1  중국음식   x시   \n",
       "280084    280085  280085  202008  제주특별자치도     제주시        영세  서양음식   x시   \n",
       "\n",
       "        TotalSpent  DisSpent  NumofSpent  NumofDisSpent      POINT_X  \\\n",
       "0           502000         0          10              0  877005.9834   \n",
       "1          1520000         0           8              0  877005.7447   \n",
       "2           482310         0          35              0  877056.6756   \n",
       "3            38050      5450           3              1  877055.9593   \n",
       "4            32000     32000           1              1  877055.4817   \n",
       "...            ...       ...         ...            ...          ...   \n",
       "280080       13700         0           2              0  950266.5976   \n",
       "280081       56000         0           1              0  950317.5379   \n",
       "280082       28000         0           1              0  950469.1585   \n",
       "280083       46000         0           3              0  950574.6388   \n",
       "280084        9000         0           1              0  950565.5176   \n",
       "\n",
       "             POINT_Y  월   X   Y  \n",
       "0       1.479766e+06  6 NaN NaN  \n",
       "1       1.479816e+06  6 NaN NaN  \n",
       "2       1.479616e+06  6 NaN NaN  \n",
       "3       1.479766e+06  6 NaN NaN  \n",
       "4       1.479866e+06  6 NaN NaN  \n",
       "...              ... ..  ..  ..  \n",
       "280080  1.502458e+06  8 NaN NaN  \n",
       "280081  1.502258e+06  8 NaN NaN  \n",
       "280082  1.501909e+06  8 NaN NaN  \n",
       "280083  1.500760e+06  8 NaN NaN  \n",
       "280084  1.502659e+06  8 NaN NaN  \n",
       "\n",
       "[1119429 rows x 17 columns]"
      ],
      "text/html": "<div>\n<style scoped>\n    .dataframe tbody tr th:only-of-type {\n        vertical-align: middle;\n    }\n\n    .dataframe tbody tr th {\n        vertical-align: top;\n    }\n\n    .dataframe thead th {\n        text-align: right;\n    }\n</style>\n<table border=\"1\" class=\"dataframe\">\n  <thead>\n    <tr style=\"text-align: right;\">\n      <th></th>\n      <th>OBJECTID</th>\n      <th>Field1</th>\n      <th>YM</th>\n      <th>SIDO</th>\n      <th>SIGUNGU</th>\n      <th>FranClass</th>\n      <th>Type</th>\n      <th>Time</th>\n      <th>TotalSpent</th>\n      <th>DisSpent</th>\n      <th>NumofSpent</th>\n      <th>NumofDisSpent</th>\n      <th>POINT_X</th>\n      <th>POINT_Y</th>\n      <th>월</th>\n      <th>X</th>\n      <th>Y</th>\n    </tr>\n  </thead>\n  <tbody>\n    <tr>\n      <th>0</th>\n      <td>1</td>\n      <td>1</td>\n      <td>202006</td>\n      <td>제주특별자치도</td>\n      <td>제주시</td>\n      <td>영세</td>\n      <td>일반한식</td>\n      <td>00시</td>\n      <td>502000</td>\n      <td>0</td>\n      <td>10</td>\n      <td>0</td>\n      <td>877005.9834</td>\n      <td>1.479766e+06</td>\n      <td>6</td>\n      <td>NaN</td>\n      <td>NaN</td>\n    </tr>\n    <tr>\n      <th>1</th>\n      <td>2</td>\n      <td>2</td>\n      <td>202006</td>\n      <td>제주특별자치도</td>\n      <td>제주시</td>\n      <td>영세</td>\n      <td>단란주점</td>\n      <td>00시</td>\n      <td>1520000</td>\n      <td>0</td>\n      <td>8</td>\n      <td>0</td>\n      <td>877005.7447</td>\n      <td>1.479816e+06</td>\n      <td>6</td>\n      <td>NaN</td>\n      <td>NaN</td>\n    </tr>\n    <tr>\n      <th>2</th>\n      <td>3</td>\n      <td>3</td>\n      <td>202006</td>\n      <td>제주특별자치도</td>\n      <td>제주시</td>\n      <td>중소1</td>\n      <td>편의점</td>\n      <td>00시</td>\n      <td>482310</td>\n      <td>0</td>\n      <td>35</td>\n      <td>0</td>\n      <td>877056.6756</td>\n      <td>1.479616e+06</td>\n      <td>6</td>\n      <td>NaN</td>\n      <td>NaN</td>\n    </tr>\n    <tr>\n      <th>3</th>\n      <td>4</td>\n      <td>4</td>\n      <td>202006</td>\n      <td>제주특별자치도</td>\n      <td>제주시</td>\n      <td>영세</td>\n      <td>편의점</td>\n      <td>00시</td>\n      <td>38050</td>\n      <td>5450</td>\n      <td>3</td>\n      <td>1</td>\n      <td>877055.9593</td>\n      <td>1.479766e+06</td>\n      <td>6</td>\n      <td>NaN</td>\n      <td>NaN</td>\n    </tr>\n    <tr>\n      <th>4</th>\n      <td>5</td>\n      <td>5</td>\n      <td>202006</td>\n      <td>제주특별자치도</td>\n      <td>제주시</td>\n      <td>영세</td>\n      <td>일반한식</td>\n      <td>00시</td>\n      <td>32000</td>\n      <td>32000</td>\n      <td>1</td>\n      <td>1</td>\n      <td>877055.4817</td>\n      <td>1.479866e+06</td>\n      <td>6</td>\n      <td>NaN</td>\n      <td>NaN</td>\n    </tr>\n    <tr>\n      <th>...</th>\n      <td>...</td>\n      <td>...</td>\n      <td>...</td>\n      <td>...</td>\n      <td>...</td>\n      <td>...</td>\n      <td>...</td>\n      <td>...</td>\n      <td>...</td>\n      <td>...</td>\n      <td>...</td>\n      <td>...</td>\n      <td>...</td>\n      <td>...</td>\n      <td>...</td>\n      <td>...</td>\n      <td>...</td>\n    </tr>\n    <tr>\n      <th>280080</th>\n      <td>280081</td>\n      <td>280081</td>\n      <td>202008</td>\n      <td>제주특별자치도</td>\n      <td>제주시</td>\n      <td>영세</td>\n      <td>편의점</td>\n      <td>x시</td>\n      <td>13700</td>\n      <td>0</td>\n      <td>2</td>\n      <td>0</td>\n      <td>950266.5976</td>\n      <td>1.502458e+06</td>\n      <td>8</td>\n      <td>NaN</td>\n      <td>NaN</td>\n    </tr>\n    <tr>\n      <th>280081</th>\n      <td>280082</td>\n      <td>280082</td>\n      <td>202008</td>\n      <td>제주특별자치도</td>\n      <td>제주시</td>\n      <td>영세</td>\n      <td>일반한식</td>\n      <td>x시</td>\n      <td>56000</td>\n      <td>0</td>\n      <td>1</td>\n      <td>0</td>\n      <td>950317.5379</td>\n      <td>1.502258e+06</td>\n      <td>8</td>\n      <td>NaN</td>\n      <td>NaN</td>\n    </tr>\n    <tr>\n      <th>280082</th>\n      <td>280083</td>\n      <td>280083</td>\n      <td>202008</td>\n      <td>제주특별자치도</td>\n      <td>제주시</td>\n      <td>영세</td>\n      <td>일반한식</td>\n      <td>x시</td>\n      <td>28000</td>\n      <td>0</td>\n      <td>1</td>\n      <td>0</td>\n      <td>950469.1585</td>\n      <td>1.501909e+06</td>\n      <td>8</td>\n      <td>NaN</td>\n      <td>NaN</td>\n    </tr>\n    <tr>\n      <th>280083</th>\n      <td>280084</td>\n      <td>280084</td>\n      <td>202008</td>\n      <td>제주특별자치도</td>\n      <td>제주시</td>\n      <td>중소1</td>\n      <td>중국음식</td>\n      <td>x시</td>\n      <td>46000</td>\n      <td>0</td>\n      <td>3</td>\n      <td>0</td>\n      <td>950574.6388</td>\n      <td>1.500760e+06</td>\n      <td>8</td>\n      <td>NaN</td>\n      <td>NaN</td>\n    </tr>\n    <tr>\n      <th>280084</th>\n      <td>280085</td>\n      <td>280085</td>\n      <td>202008</td>\n      <td>제주특별자치도</td>\n      <td>제주시</td>\n      <td>영세</td>\n      <td>서양음식</td>\n      <td>x시</td>\n      <td>9000</td>\n      <td>0</td>\n      <td>1</td>\n      <td>0</td>\n      <td>950565.5176</td>\n      <td>1.502659e+06</td>\n      <td>8</td>\n      <td>NaN</td>\n      <td>NaN</td>\n    </tr>\n  </tbody>\n</table>\n<p>1119429 rows × 17 columns</p>\n</div>"
     },
     "metadata": {},
     "execution_count": 115
    }
   ],
   "source": [
    "df=pd.concat(concat_list)\n",
    "df"
   ]
  },
  {
   "cell_type": "code",
   "execution_count": 18,
   "metadata": {},
   "outputs": [],
   "source": [
    "# montly_spend = "
   ]
  },
  {
   "cell_type": "code",
   "execution_count": 19,
   "metadata": {},
   "outputs": [],
   "source": [
    "#dropped useless columns \n",
    "df.columns=df.columns.str.lower()\n",
    "df.drop(['sido','x',\"objectid\",'y'],axis = 1, inplace=True)"
   ]
  },
  {
   "cell_type": "code",
   "execution_count": null,
   "metadata": {},
   "outputs": [],
   "source": [
    "#rename koren named columns to eng\n",
    "  "
   ]
  },
  {
   "cell_type": "code",
   "execution_count": 33,
   "metadata": {},
   "outputs": [],
   "source": [
    "from pyproj import Proj \n",
    "proj_itrf = Proj(init='epsg:5179')\n",
    "proj_wgs84 = Proj(init='epsg:4326')"
   ]
  },
  {
   "cell_type": "code",
   "execution_count": 36,
   "metadata": {},
   "outputs": [],
   "source": [
    "df[\"lon\"],df[\"lat\"] = transform(proj_itrf,proj_wgs84,df['point_x'],df[\"point_y\"])"
   ]
  },
  {
   "cell_type": "code",
   "execution_count": 37,
   "metadata": {},
   "outputs": [
    {
     "output_type": "execute_result",
     "data": {
      "text/plain": [
       "126.52427851055405_33.51290574138535     1559\n",
       "126.52935695016222_33.49899169591379     1242\n",
       "126.52880376641139_33.499886709171996    1208\n",
       "126.47793511858133_33.48574932701181     1193\n",
       "126.58018359519565_33.516714007010115    1051\n",
       "                                         ... \n",
       "126.30425990442274_33.287409183817225       1\n",
       "126.69051885754698_33.51612507132969        1\n",
       "126.45625055766716_33.46474533801859        1\n",
       "126.21819468884902_33.24383319689915        1\n",
       "126.35828653698235_33.468897035464025       1\n",
       "Name: lon_lat, Length: 15369, dtype: int64"
      ]
     },
     "metadata": {},
     "execution_count": 37
    }
   ],
   "source": [
    "df[\"lon_lat\"]=df[\"lon\"].astype(str)+'_'+df[\"lat\"].astype(str)\n",
    "df[\"lon_lat\"].value_counts()"
   ]
  },
  {
   "cell_type": "code",
   "execution_count": 117,
   "metadata": {},
   "outputs": [],
   "source": [
    "#import rename module  \n",
    "import type_names\n",
    "input_data=type_names.rename()\n",
    "for key, value in input_data:\n",
    "    df[\"Type\"].replace(dict.fromkeys(key, value), inplace=True)"
   ]
  },
  {
   "cell_type": "code",
   "execution_count": 118,
   "metadata": {},
   "outputs": [
    {
     "output_type": "execute_result",
     "data": {
      "text/plain": [
       "        OBJECTID  Field1      YM     SIDO SIGUNGU FranClass   Type Time  \\\n",
       "0              1       1  202006  제주특별자치도     제주시        영세     외식  00시   \n",
       "1              2       2  202006  제주특별자치도     제주시        영세  유흥/주점  00시   \n",
       "2              3       3  202006  제주특별자치도     제주시       중소1    식료품  00시   \n",
       "3              4       4  202006  제주특별자치도     제주시        영세    식료품  00시   \n",
       "4              5       5  202006  제주특별자치도     제주시        영세     외식  00시   \n",
       "...          ...     ...     ...      ...     ...       ...    ...  ...   \n",
       "280080    280081  280081  202008  제주특별자치도     제주시        영세    식료품   x시   \n",
       "280081    280082  280082  202008  제주특별자치도     제주시        영세     외식   x시   \n",
       "280082    280083  280083  202008  제주특별자치도     제주시        영세     외식   x시   \n",
       "280083    280084  280084  202008  제주특별자치도     제주시       중소1     외식   x시   \n",
       "280084    280085  280085  202008  제주특별자치도     제주시        영세     외식   x시   \n",
       "\n",
       "        TotalSpent  DisSpent  NumofSpent  NumofDisSpent      POINT_X  \\\n",
       "0           502000         0          10              0  877005.9834   \n",
       "1          1520000         0           8              0  877005.7447   \n",
       "2           482310         0          35              0  877056.6756   \n",
       "3            38050      5450           3              1  877055.9593   \n",
       "4            32000     32000           1              1  877055.4817   \n",
       "...            ...       ...         ...            ...          ...   \n",
       "280080       13700         0           2              0  950266.5976   \n",
       "280081       56000         0           1              0  950317.5379   \n",
       "280082       28000         0           1              0  950469.1585   \n",
       "280083       46000         0           3              0  950574.6388   \n",
       "280084        9000         0           1              0  950565.5176   \n",
       "\n",
       "             POINT_Y  월   X   Y  \n",
       "0       1.479766e+06  6 NaN NaN  \n",
       "1       1.479816e+06  6 NaN NaN  \n",
       "2       1.479616e+06  6 NaN NaN  \n",
       "3       1.479766e+06  6 NaN NaN  \n",
       "4       1.479866e+06  6 NaN NaN  \n",
       "...              ... ..  ..  ..  \n",
       "280080  1.502458e+06  8 NaN NaN  \n",
       "280081  1.502258e+06  8 NaN NaN  \n",
       "280082  1.501909e+06  8 NaN NaN  \n",
       "280083  1.500760e+06  8 NaN NaN  \n",
       "280084  1.502659e+06  8 NaN NaN  \n",
       "\n",
       "[1119429 rows x 17 columns]"
      ],
      "text/html": "<div>\n<style scoped>\n    .dataframe tbody tr th:only-of-type {\n        vertical-align: middle;\n    }\n\n    .dataframe tbody tr th {\n        vertical-align: top;\n    }\n\n    .dataframe thead th {\n        text-align: right;\n    }\n</style>\n<table border=\"1\" class=\"dataframe\">\n  <thead>\n    <tr style=\"text-align: right;\">\n      <th></th>\n      <th>OBJECTID</th>\n      <th>Field1</th>\n      <th>YM</th>\n      <th>SIDO</th>\n      <th>SIGUNGU</th>\n      <th>FranClass</th>\n      <th>Type</th>\n      <th>Time</th>\n      <th>TotalSpent</th>\n      <th>DisSpent</th>\n      <th>NumofSpent</th>\n      <th>NumofDisSpent</th>\n      <th>POINT_X</th>\n      <th>POINT_Y</th>\n      <th>월</th>\n      <th>X</th>\n      <th>Y</th>\n    </tr>\n  </thead>\n  <tbody>\n    <tr>\n      <th>0</th>\n      <td>1</td>\n      <td>1</td>\n      <td>202006</td>\n      <td>제주특별자치도</td>\n      <td>제주시</td>\n      <td>영세</td>\n      <td>외식</td>\n      <td>00시</td>\n      <td>502000</td>\n      <td>0</td>\n      <td>10</td>\n      <td>0</td>\n      <td>877005.9834</td>\n      <td>1.479766e+06</td>\n      <td>6</td>\n      <td>NaN</td>\n      <td>NaN</td>\n    </tr>\n    <tr>\n      <th>1</th>\n      <td>2</td>\n      <td>2</td>\n      <td>202006</td>\n      <td>제주특별자치도</td>\n      <td>제주시</td>\n      <td>영세</td>\n      <td>유흥/주점</td>\n      <td>00시</td>\n      <td>1520000</td>\n      <td>0</td>\n      <td>8</td>\n      <td>0</td>\n      <td>877005.7447</td>\n      <td>1.479816e+06</td>\n      <td>6</td>\n      <td>NaN</td>\n      <td>NaN</td>\n    </tr>\n    <tr>\n      <th>2</th>\n      <td>3</td>\n      <td>3</td>\n      <td>202006</td>\n      <td>제주특별자치도</td>\n      <td>제주시</td>\n      <td>중소1</td>\n      <td>식료품</td>\n      <td>00시</td>\n      <td>482310</td>\n      <td>0</td>\n      <td>35</td>\n      <td>0</td>\n      <td>877056.6756</td>\n      <td>1.479616e+06</td>\n      <td>6</td>\n      <td>NaN</td>\n      <td>NaN</td>\n    </tr>\n    <tr>\n      <th>3</th>\n      <td>4</td>\n      <td>4</td>\n      <td>202006</td>\n      <td>제주특별자치도</td>\n      <td>제주시</td>\n      <td>영세</td>\n      <td>식료품</td>\n      <td>00시</td>\n      <td>38050</td>\n      <td>5450</td>\n      <td>3</td>\n      <td>1</td>\n      <td>877055.9593</td>\n      <td>1.479766e+06</td>\n      <td>6</td>\n      <td>NaN</td>\n      <td>NaN</td>\n    </tr>\n    <tr>\n      <th>4</th>\n      <td>5</td>\n      <td>5</td>\n      <td>202006</td>\n      <td>제주특별자치도</td>\n      <td>제주시</td>\n      <td>영세</td>\n      <td>외식</td>\n      <td>00시</td>\n      <td>32000</td>\n      <td>32000</td>\n      <td>1</td>\n      <td>1</td>\n      <td>877055.4817</td>\n      <td>1.479866e+06</td>\n      <td>6</td>\n      <td>NaN</td>\n      <td>NaN</td>\n    </tr>\n    <tr>\n      <th>...</th>\n      <td>...</td>\n      <td>...</td>\n      <td>...</td>\n      <td>...</td>\n      <td>...</td>\n      <td>...</td>\n      <td>...</td>\n      <td>...</td>\n      <td>...</td>\n      <td>...</td>\n      <td>...</td>\n      <td>...</td>\n      <td>...</td>\n      <td>...</td>\n      <td>...</td>\n      <td>...</td>\n      <td>...</td>\n    </tr>\n    <tr>\n      <th>280080</th>\n      <td>280081</td>\n      <td>280081</td>\n      <td>202008</td>\n      <td>제주특별자치도</td>\n      <td>제주시</td>\n      <td>영세</td>\n      <td>식료품</td>\n      <td>x시</td>\n      <td>13700</td>\n      <td>0</td>\n      <td>2</td>\n      <td>0</td>\n      <td>950266.5976</td>\n      <td>1.502458e+06</td>\n      <td>8</td>\n      <td>NaN</td>\n      <td>NaN</td>\n    </tr>\n    <tr>\n      <th>280081</th>\n      <td>280082</td>\n      <td>280082</td>\n      <td>202008</td>\n      <td>제주특별자치도</td>\n      <td>제주시</td>\n      <td>영세</td>\n      <td>외식</td>\n      <td>x시</td>\n      <td>56000</td>\n      <td>0</td>\n      <td>1</td>\n      <td>0</td>\n      <td>950317.5379</td>\n      <td>1.502258e+06</td>\n      <td>8</td>\n      <td>NaN</td>\n      <td>NaN</td>\n    </tr>\n    <tr>\n      <th>280082</th>\n      <td>280083</td>\n      <td>280083</td>\n      <td>202008</td>\n      <td>제주특별자치도</td>\n      <td>제주시</td>\n      <td>영세</td>\n      <td>외식</td>\n      <td>x시</td>\n      <td>28000</td>\n      <td>0</td>\n      <td>1</td>\n      <td>0</td>\n      <td>950469.1585</td>\n      <td>1.501909e+06</td>\n      <td>8</td>\n      <td>NaN</td>\n      <td>NaN</td>\n    </tr>\n    <tr>\n      <th>280083</th>\n      <td>280084</td>\n      <td>280084</td>\n      <td>202008</td>\n      <td>제주특별자치도</td>\n      <td>제주시</td>\n      <td>중소1</td>\n      <td>외식</td>\n      <td>x시</td>\n      <td>46000</td>\n      <td>0</td>\n      <td>3</td>\n      <td>0</td>\n      <td>950574.6388</td>\n      <td>1.500760e+06</td>\n      <td>8</td>\n      <td>NaN</td>\n      <td>NaN</td>\n    </tr>\n    <tr>\n      <th>280084</th>\n      <td>280085</td>\n      <td>280085</td>\n      <td>202008</td>\n      <td>제주특별자치도</td>\n      <td>제주시</td>\n      <td>영세</td>\n      <td>외식</td>\n      <td>x시</td>\n      <td>9000</td>\n      <td>0</td>\n      <td>1</td>\n      <td>0</td>\n      <td>950565.5176</td>\n      <td>1.502659e+06</td>\n      <td>8</td>\n      <td>NaN</td>\n      <td>NaN</td>\n    </tr>\n  </tbody>\n</table>\n<p>1119429 rows × 17 columns</p>\n</div>"
     },
     "metadata": {},
     "execution_count": 118
    }
   ],
   "source": [
    "for key, value in input_data:\n",
    "    df[\"Type\"].replace(dict.fromkeys(key, value), inplace=True)\n",
    "df"
   ]
  },
  {
   "cell_type": "code",
   "execution_count": null,
   "metadata": {},
   "outputs": [],
   "source": []
  },
  {
   "cell_type": "code",
   "execution_count": null,
   "metadata": {},
   "outputs": [],
   "source": []
  },
  {
   "cell_type": "code",
   "execution_count": null,
   "metadata": {},
   "outputs": [],
   "source": []
  },
  {
   "cell_type": "code",
   "execution_count": null,
   "metadata": {},
   "outputs": [],
   "source": []
  },
  {
   "cell_type": "code",
   "execution_count": null,
   "metadata": {},
   "outputs": [],
   "source": []
  },
  {
   "cell_type": "code",
   "execution_count": null,
   "metadata": {},
   "outputs": [],
   "source": []
  },
  {
   "cell_type": "code",
   "execution_count": null,
   "metadata": {},
   "outputs": [],
   "source": []
  },
  {
   "cell_type": "code",
   "execution_count": null,
   "metadata": {},
   "outputs": [],
   "source": []
  },
  {
   "cell_type": "code",
   "execution_count": null,
   "metadata": {},
   "outputs": [],
   "source": []
  }
 ]
}