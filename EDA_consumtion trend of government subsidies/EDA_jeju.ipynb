{
 "metadata": {
  "language_info": {
   "codemirror_mode": {
    "name": "ipython",
    "version": 3
   },
   "file_extension": ".py",
   "mimetype": "text/x-python",
   "name": "python",
   "nbconvert_exporter": "python",
   "pygments_lexer": "ipython3",
   "version": "3.8.5-final"
  },
  "orig_nbformat": 2,
  "kernelspec": {
   "name": "python3",
   "display_name": "Python 3",
   "language": "python"
  }
 },
 "nbformat": 4,
 "nbformat_minor": 2,
 "cells": [
  {
   "cell_type": "code",
   "execution_count": 2,
   "metadata": {},
   "outputs": [
    {
     "output_type": "execute_result",
     "data": {
      "text/plain": [
       "['/Users/yeonghwanchoi/Documents/git/EDA/EDA_consumtion trend of government subsidies/data/KRI-DAC_Jeju_data6.txt',\n",
       " '/Users/yeonghwanchoi/Documents/git/EDA/EDA_consumtion trend of government subsidies/data/KRI-DAC_Jeju_data7.txt',\n",
       " '/Users/yeonghwanchoi/Documents/git/EDA/EDA_consumtion trend of government subsidies/data/KRI-DAC_Jeju_data5.txt',\n",
       " '/Users/yeonghwanchoi/Documents/git/EDA/EDA_consumtion trend of government subsidies/data/KRI-DAC_Jeju_data8.txt']"
      ]
     },
     "metadata": {},
     "execution_count": 2
    }
   ],
   "source": [
    "from glob import glob \n",
    "raw_data = glob(\"/Users/yeonghwanchoi/Documents/git/EDA/EDA_consumtion trend of government subsidies/data/*\")\n",
    "raw_data"
   ]
  },
  {
   "cell_type": "code",
   "execution_count": null,
   "metadata": {},
   "outputs": [],
   "source": []
  }
 ]
}