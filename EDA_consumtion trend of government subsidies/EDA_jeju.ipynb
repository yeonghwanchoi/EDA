{
 "metadata": {
  "language_info": {
   "codemirror_mode": {
    "name": "ipython",
    "version": 3
   },
   "file_extension": ".py",
   "mimetype": "text/x-python",
   "name": "python",
   "nbconvert_exporter": "python",
   "pygments_lexer": "ipython3",
   "version": "3.8.5-final"
  },
  "orig_nbformat": 2,
  "kernelspec": {
   "name": "python3",
   "display_name": "Python 3",
   "language": "python"
  }
 },
 "nbformat": 4,
 "nbformat_minor": 2,
 "cells": [
  {
   "cell_type": "code",
   "execution_count": 15,
   "metadata": {},
   "outputs": [
    {
     "output_type": "execute_result",
     "data": {
      "text/plain": [
       "'/Users/yeonghwanchoi/Documents/git/EDA/EDA_consumtion trend of government subsidies/data/KRI-DAC_Jeju_data6.txt'"
      ]
     },
     "metadata": {},
     "execution_count": 15
    }
   ],
   "source": [
    "# load data\n",
    "from glob import glob \n",
    "raw_data = glob(\"/Users/yeonghwanchoi/Documents/git/EDA/EDA_consumtion trend of government subsidies/data/*\")\n",
    "raw_data[0]"
   ]
  },
  {
   "cell_type": "code",
   "execution_count": 16,
   "metadata": {},
   "outputs": [],
   "source": [
    "# conncat data\n",
    "from glob import glob \n",
    "concat_list=[]\n",
    "for i in range(0,len(raw_data)):\n",
    "    df=pd.read_csv(raw_data[i])\n",
    "    df[\"월\"]=raw_data[i].split(\".\")[0][-1:]\n",
    "    concat_list.append(df)"
   ]
  },
  {
   "cell_type": "code",
   "execution_count": 17,
   "metadata": {},
   "outputs": [
    {
     "output_type": "execute_result",
     "data": {
      "text/plain": [
       "   OBJECTID  Field1      YM     SIDO SIGUNGU FranClass  Type Time  TotalSpent  \\\n",
       "0         1       1  202006  제주특별자치도     제주시        영세  일반한식  00시      502000   \n",
       "1         2       2  202006  제주특별자치도     제주시        영세  단란주점  00시     1520000   \n",
       "2         3       3  202006  제주특별자치도     제주시       중소1   편의점  00시      482310   \n",
       "3         4       4  202006  제주특별자치도     제주시        영세   편의점  00시       38050   \n",
       "4         5       5  202006  제주특별자치도     제주시        영세  일반한식  00시       32000   \n",
       "\n",
       "   DisSpent  NumofSpent  NumofDisSpent      POINT_X       POINT_Y  월   X   Y  \n",
       "0         0          10              0  877005.9834  1.479766e+06  6 NaN NaN  \n",
       "1         0           8              0  877005.7447  1.479816e+06  6 NaN NaN  \n",
       "2         0          35              0  877056.6756  1.479616e+06  6 NaN NaN  \n",
       "3      5450           3              1  877055.9593  1.479766e+06  6 NaN NaN  \n",
       "4     32000           1              1  877055.4817  1.479866e+06  6 NaN NaN  "
      ],
      "text/html": "<div>\n<style scoped>\n    .dataframe tbody tr th:only-of-type {\n        vertical-align: middle;\n    }\n\n    .dataframe tbody tr th {\n        vertical-align: top;\n    }\n\n    .dataframe thead th {\n        text-align: right;\n    }\n</style>\n<table border=\"1\" class=\"dataframe\">\n  <thead>\n    <tr style=\"text-align: right;\">\n      <th></th>\n      <th>OBJECTID</th>\n      <th>Field1</th>\n      <th>YM</th>\n      <th>SIDO</th>\n      <th>SIGUNGU</th>\n      <th>FranClass</th>\n      <th>Type</th>\n      <th>Time</th>\n      <th>TotalSpent</th>\n      <th>DisSpent</th>\n      <th>NumofSpent</th>\n      <th>NumofDisSpent</th>\n      <th>POINT_X</th>\n      <th>POINT_Y</th>\n      <th>월</th>\n      <th>X</th>\n      <th>Y</th>\n    </tr>\n  </thead>\n  <tbody>\n    <tr>\n      <th>0</th>\n      <td>1</td>\n      <td>1</td>\n      <td>202006</td>\n      <td>제주특별자치도</td>\n      <td>제주시</td>\n      <td>영세</td>\n      <td>일반한식</td>\n      <td>00시</td>\n      <td>502000</td>\n      <td>0</td>\n      <td>10</td>\n      <td>0</td>\n      <td>877005.9834</td>\n      <td>1.479766e+06</td>\n      <td>6</td>\n      <td>NaN</td>\n      <td>NaN</td>\n    </tr>\n    <tr>\n      <th>1</th>\n      <td>2</td>\n      <td>2</td>\n      <td>202006</td>\n      <td>제주특별자치도</td>\n      <td>제주시</td>\n      <td>영세</td>\n      <td>단란주점</td>\n      <td>00시</td>\n      <td>1520000</td>\n      <td>0</td>\n      <td>8</td>\n      <td>0</td>\n      <td>877005.7447</td>\n      <td>1.479816e+06</td>\n      <td>6</td>\n      <td>NaN</td>\n      <td>NaN</td>\n    </tr>\n    <tr>\n      <th>2</th>\n      <td>3</td>\n      <td>3</td>\n      <td>202006</td>\n      <td>제주특별자치도</td>\n      <td>제주시</td>\n      <td>중소1</td>\n      <td>편의점</td>\n      <td>00시</td>\n      <td>482310</td>\n      <td>0</td>\n      <td>35</td>\n      <td>0</td>\n      <td>877056.6756</td>\n      <td>1.479616e+06</td>\n      <td>6</td>\n      <td>NaN</td>\n      <td>NaN</td>\n    </tr>\n    <tr>\n      <th>3</th>\n      <td>4</td>\n      <td>4</td>\n      <td>202006</td>\n      <td>제주특별자치도</td>\n      <td>제주시</td>\n      <td>영세</td>\n      <td>편의점</td>\n      <td>00시</td>\n      <td>38050</td>\n      <td>5450</td>\n      <td>3</td>\n      <td>1</td>\n      <td>877055.9593</td>\n      <td>1.479766e+06</td>\n      <td>6</td>\n      <td>NaN</td>\n      <td>NaN</td>\n    </tr>\n    <tr>\n      <th>4</th>\n      <td>5</td>\n      <td>5</td>\n      <td>202006</td>\n      <td>제주특별자치도</td>\n      <td>제주시</td>\n      <td>영세</td>\n      <td>일반한식</td>\n      <td>00시</td>\n      <td>32000</td>\n      <td>32000</td>\n      <td>1</td>\n      <td>1</td>\n      <td>877055.4817</td>\n      <td>1.479866e+06</td>\n      <td>6</td>\n      <td>NaN</td>\n      <td>NaN</td>\n    </tr>\n  </tbody>\n</table>\n</div>"
     },
     "metadata": {},
     "execution_count": 17
    }
   ],
   "source": [
    "df=pd.concat(concat_list)\n",
    "df.head()"
   ]
  },
  {
   "cell_type": "code",
   "execution_count": 18,
   "metadata": {},
   "outputs": [],
   "source": [
    "# montly_spend = "
   ]
  },
  {
   "cell_type": "code",
   "execution_count": 19,
   "metadata": {},
   "outputs": [],
   "source": [
    "#dropped useless columns \n",
    "df.columns=df.columns.str.lower()\n",
    "df.drop(['sido','x',\"objectid\",'y'],axis = 1, inplace=True)"
   ]
  },
  {
   "cell_type": "code",
   "execution_count": null,
   "metadata": {},
   "outputs": [],
   "source": [
    "#rename koren named columns to eng\n",
    "  "
   ]
  },
  {
   "cell_type": "code",
   "execution_count": 33,
   "metadata": {},
   "outputs": [],
   "source": [
    "from pyproj import Proj \n",
    "proj_itrf = Proj(init='epsg:5179')\n",
    "proj_wgs84 = Proj(init='epsg:4326')"
   ]
  },
  {
   "cell_type": "code",
   "execution_count": 36,
   "metadata": {},
   "outputs": [],
   "source": [
    "df[\"lon\"],df[\"lat\"] = transform(proj_itrf,proj_wgs84,df['point_x'],df[\"point_y\"])"
   ]
  },
  {
   "cell_type": "code",
   "execution_count": 37,
   "metadata": {},
   "outputs": [
    {
     "output_type": "execute_result",
     "data": {
      "text/plain": [
       "126.52427851055405_33.51290574138535     1559\n",
       "126.52935695016222_33.49899169591379     1242\n",
       "126.52880376641139_33.499886709171996    1208\n",
       "126.47793511858133_33.48574932701181     1193\n",
       "126.58018359519565_33.516714007010115    1051\n",
       "                                         ... \n",
       "126.30425990442274_33.287409183817225       1\n",
       "126.69051885754698_33.51612507132969        1\n",
       "126.45625055766716_33.46474533801859        1\n",
       "126.21819468884902_33.24383319689915        1\n",
       "126.35828653698235_33.468897035464025       1\n",
       "Name: lon_lat, Length: 15369, dtype: int64"
      ]
     },
     "metadata": {},
     "execution_count": 37
    }
   ],
   "source": [
    "df[\"lon_lat\"]=df[\"lon\"].astype(str)+'_'+df[\"lat\"].astype(str)\n",
    "df[\"lon_lat\"].value_counts()"
   ]
  },
  {
   "cell_type": "code",
   "execution_count": 43,
   "metadata": {},
   "outputs": [
    {
     "output_type": "execute_result",
     "data": {
      "text/plain": [
       "(1119429, 15369)"
      ]
     },
     "metadata": {},
     "execution_count": 43
    }
   ],
   "source": []
  },
  {
   "cell_type": "code",
   "execution_count": null,
   "metadata": {},
   "outputs": [],
   "source": []
  },
  {
   "cell_type": "code",
   "execution_count": null,
   "metadata": {},
   "outputs": [],
   "source": []
  },
  {
   "cell_type": "code",
   "execution_count": null,
   "metadata": {},
   "outputs": [],
   "source": []
  },
  {
   "cell_type": "code",
   "execution_count": null,
   "metadata": {},
   "outputs": [],
   "source": []
  },
  {
   "cell_type": "code",
   "execution_count": null,
   "metadata": {},
   "outputs": [],
   "source": []
  },
  {
   "cell_type": "code",
   "execution_count": null,
   "metadata": {},
   "outputs": [],
   "source": []
  },
  {
   "cell_type": "code",
   "execution_count": null,
   "metadata": {},
   "outputs": [],
   "source": []
  },
  {
   "cell_type": "code",
   "execution_count": null,
   "metadata": {},
   "outputs": [],
   "source": []
  },
  {
   "cell_type": "code",
   "execution_count": null,
   "metadata": {},
   "outputs": [],
   "source": []
  },
  {
   "cell_type": "code",
   "execution_count": null,
   "metadata": {},
   "outputs": [],
   "source": []
  }
 ]
}