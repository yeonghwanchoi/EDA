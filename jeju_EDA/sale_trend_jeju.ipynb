{
  "nbformat": 4,
  "nbformat_minor": 0,
  "metadata": {
    "colab": {
      "name": "sale_trend_jeju.ipynb",
      "provenance": [],
      "collapsed_sections": [],
      "include_colab_link": true
    },
    "kernelspec": {
      "display_name": "Python 3",
      "language": "python",
      "name": "python3"
    },
    "language_info": {
      "codemirror_mode": {
        "name": "ipython",
        "version": 3
      },
      "file_extension": ".py",
      "mimetype": "text/x-python",
      "name": "python",
      "nbconvert_exporter": "python",
      "pygments_lexer": "ipython3",
      "version": "3.8.5"
    },
    "toc": {
      "base_numbering": 1,
      "nav_menu": {},
      "number_sections": true,
      "sideBar": true,
      "skip_h1_title": false,
      "title_cell": "Table of Contents",
      "title_sidebar": "Contents",
      "toc_cell": false,
      "toc_position": {},
      "toc_section_display": true,
      "toc_window_display": false
    },
    "varInspector": {
      "cols": {
        "lenName": 16,
        "lenType": 16,
        "lenVar": 40
      },
      "kernels_config": {
        "python": {
          "delete_cmd_postfix": "",
          "delete_cmd_prefix": "del ",
          "library": "var_list.py",
          "varRefreshCmd": "print(var_dic_list())"
        },
        "r": {
          "delete_cmd_postfix": ") ",
          "delete_cmd_prefix": "rm(",
          "library": "var_list.r",
          "varRefreshCmd": "cat(var_dic_list()) "
        }
      },
      "types_to_exclude": [
        "module",
        "function",
        "builtin_function_or_method",
        "instance",
        "_Feature"
      ],
      "window_display": false
    },
    "widgets": {
      "application/vnd.jupyter.widget-state+json": {
        "83c1cf902e6845c48e9f65f8e3988b5f": {
          "model_module": "@jupyter-widgets/controls",
          "model_name": "HBoxModel",
          "state": {
            "_view_name": "HBoxView",
            "_dom_classes": [],
            "_model_name": "HBoxModel",
            "_view_module": "@jupyter-widgets/controls",
            "_model_module_version": "1.5.0",
            "_view_count": null,
            "_view_module_version": "1.5.0",
            "box_style": "",
            "layout": "IPY_MODEL_8cfaa78fe30e47978cba59710fe56a25",
            "_model_module": "@jupyter-widgets/controls",
            "children": [
              "IPY_MODEL_d2a33299d71e44b18245fa7fa0d64482",
              "IPY_MODEL_3b5979ac332342ca897c63c19fe4ca9c"
            ]
          }
        },
        "8cfaa78fe30e47978cba59710fe56a25": {
          "model_module": "@jupyter-widgets/base",
          "model_name": "LayoutModel",
          "state": {
            "_view_name": "LayoutView",
            "grid_template_rows": null,
            "right": null,
            "justify_content": null,
            "_view_module": "@jupyter-widgets/base",
            "overflow": null,
            "_model_module_version": "1.2.0",
            "_view_count": null,
            "flex_flow": null,
            "width": null,
            "min_width": null,
            "border": null,
            "align_items": null,
            "bottom": null,
            "_model_module": "@jupyter-widgets/base",
            "top": null,
            "grid_column": null,
            "overflow_y": null,
            "overflow_x": null,
            "grid_auto_flow": null,
            "grid_area": null,
            "grid_template_columns": null,
            "flex": null,
            "_model_name": "LayoutModel",
            "justify_items": null,
            "grid_row": null,
            "max_height": null,
            "align_content": null,
            "visibility": null,
            "align_self": null,
            "height": null,
            "min_height": null,
            "padding": null,
            "grid_auto_rows": null,
            "grid_gap": null,
            "max_width": null,
            "order": null,
            "_view_module_version": "1.2.0",
            "grid_template_areas": null,
            "object_position": null,
            "object_fit": null,
            "grid_auto_columns": null,
            "margin": null,
            "display": null,
            "left": null
          }
        },
        "d2a33299d71e44b18245fa7fa0d64482": {
          "model_module": "@jupyter-widgets/controls",
          "model_name": "FloatProgressModel",
          "state": {
            "_view_name": "ProgressView",
            "style": "IPY_MODEL_8eca67126c7846a481d4bfefd19cbc5d",
            "_dom_classes": [],
            "description": "100%",
            "_model_name": "FloatProgressModel",
            "bar_style": "success",
            "max": 1609,
            "_view_module": "@jupyter-widgets/controls",
            "_model_module_version": "1.5.0",
            "value": 1609,
            "_view_count": null,
            "_view_module_version": "1.5.0",
            "orientation": "horizontal",
            "min": 0,
            "description_tooltip": null,
            "_model_module": "@jupyter-widgets/controls",
            "layout": "IPY_MODEL_9b3321518dc34b5e80378be606e7c1dc"
          }
        },
        "3b5979ac332342ca897c63c19fe4ca9c": {
          "model_module": "@jupyter-widgets/controls",
          "model_name": "HTMLModel",
          "state": {
            "_view_name": "HTMLView",
            "style": "IPY_MODEL_c26ecab287be4359ac82d2c9bbb304e3",
            "_dom_classes": [],
            "description": "",
            "_model_name": "HTMLModel",
            "placeholder": "​",
            "_view_module": "@jupyter-widgets/controls",
            "_model_module_version": "1.5.0",
            "value": " 1609/1609 [10:32&lt;00:00,  2.54it/s]",
            "_view_count": null,
            "_view_module_version": "1.5.0",
            "description_tooltip": null,
            "_model_module": "@jupyter-widgets/controls",
            "layout": "IPY_MODEL_87b1bf4ab69b431f8d9850c59480c825"
          }
        },
        "8eca67126c7846a481d4bfefd19cbc5d": {
          "model_module": "@jupyter-widgets/controls",
          "model_name": "ProgressStyleModel",
          "state": {
            "_view_name": "StyleView",
            "_model_name": "ProgressStyleModel",
            "description_width": "initial",
            "_view_module": "@jupyter-widgets/base",
            "_model_module_version": "1.5.0",
            "_view_count": null,
            "_view_module_version": "1.2.0",
            "bar_color": null,
            "_model_module": "@jupyter-widgets/controls"
          }
        },
        "9b3321518dc34b5e80378be606e7c1dc": {
          "model_module": "@jupyter-widgets/base",
          "model_name": "LayoutModel",
          "state": {
            "_view_name": "LayoutView",
            "grid_template_rows": null,
            "right": null,
            "justify_content": null,
            "_view_module": "@jupyter-widgets/base",
            "overflow": null,
            "_model_module_version": "1.2.0",
            "_view_count": null,
            "flex_flow": null,
            "width": null,
            "min_width": null,
            "border": null,
            "align_items": null,
            "bottom": null,
            "_model_module": "@jupyter-widgets/base",
            "top": null,
            "grid_column": null,
            "overflow_y": null,
            "overflow_x": null,
            "grid_auto_flow": null,
            "grid_area": null,
            "grid_template_columns": null,
            "flex": null,
            "_model_name": "LayoutModel",
            "justify_items": null,
            "grid_row": null,
            "max_height": null,
            "align_content": null,
            "visibility": null,
            "align_self": null,
            "height": null,
            "min_height": null,
            "padding": null,
            "grid_auto_rows": null,
            "grid_gap": null,
            "max_width": null,
            "order": null,
            "_view_module_version": "1.2.0",
            "grid_template_areas": null,
            "object_position": null,
            "object_fit": null,
            "grid_auto_columns": null,
            "margin": null,
            "display": null,
            "left": null
          }
        },
        "c26ecab287be4359ac82d2c9bbb304e3": {
          "model_module": "@jupyter-widgets/controls",
          "model_name": "DescriptionStyleModel",
          "state": {
            "_view_name": "StyleView",
            "_model_name": "DescriptionStyleModel",
            "description_width": "",
            "_view_module": "@jupyter-widgets/base",
            "_model_module_version": "1.5.0",
            "_view_count": null,
            "_view_module_version": "1.2.0",
            "_model_module": "@jupyter-widgets/controls"
          }
        },
        "87b1bf4ab69b431f8d9850c59480c825": {
          "model_module": "@jupyter-widgets/base",
          "model_name": "LayoutModel",
          "state": {
            "_view_name": "LayoutView",
            "grid_template_rows": null,
            "right": null,
            "justify_content": null,
            "_view_module": "@jupyter-widgets/base",
            "overflow": null,
            "_model_module_version": "1.2.0",
            "_view_count": null,
            "flex_flow": null,
            "width": null,
            "min_width": null,
            "border": null,
            "align_items": null,
            "bottom": null,
            "_model_module": "@jupyter-widgets/base",
            "top": null,
            "grid_column": null,
            "overflow_y": null,
            "overflow_x": null,
            "grid_auto_flow": null,
            "grid_area": null,
            "grid_template_columns": null,
            "flex": null,
            "_model_name": "LayoutModel",
            "justify_items": null,
            "grid_row": null,
            "max_height": null,
            "align_content": null,
            "visibility": null,
            "align_self": null,
            "height": null,
            "min_height": null,
            "padding": null,
            "grid_auto_rows": null,
            "grid_gap": null,
            "max_width": null,
            "order": null,
            "_view_module_version": "1.2.0",
            "grid_template_areas": null,
            "object_position": null,
            "object_fit": null,
            "grid_auto_columns": null,
            "margin": null,
            "display": null,
            "left": null
          }
        }
      }
    }
  },
  "cells": [
    {
      "cell_type": "markdown",
      "metadata": {
        "id": "view-in-github",
        "colab_type": "text"
      },
      "source": [
        "<a href=\"https://colab.research.google.com/github/yeonghwanchoi/EDA/blob/master/jeju_EDA/sale_trend_jeju.ipynb\" target=\"_parent\"><img src=\"https://colab.research.google.com/assets/colab-badge.svg\" alt=\"Open In Colab\"/></a>"
      ]
    },
    {
      "cell_type": "code",
      "metadata": {
        "colab": {
          "base_uri": "https://localhost:8080/"
        },
        "id": "2T0HsIYGb1Xh",
        "outputId": "31121246-8423-452f-c7c4-4b70489d40a2"
      },
      "source": [
        "# Important library for many geopython libraries\n",
        "!apt install gdal-bin python-gdal python3-gdal \n",
        "# Install rtree - Geopandas requirment\n",
        "!apt install python3-rtree \n",
        "# Install Geopandas\n",
        "!pip install git+git://github.com/geopandas/geopandas.git\n",
        "# Install descartes - Geopandas requirment\n",
        "!pip install descartes \n",
        "# Install Folium for Geographic data visualization\n",
        "!pip install folium\n",
        "# Install plotlyExpress\n",
        "!pip install plotly_express"
      ],
      "execution_count": 2,
      "outputs": [
        {
          "output_type": "stream",
          "text": [
            "Reading package lists... Done\n",
            "Building dependency tree       \n",
            "Reading state information... Done\n",
            "gdal-bin is already the newest version (2.2.3+dfsg-2).\n",
            "python-gdal is already the newest version (2.2.3+dfsg-2).\n",
            "python3-gdal is already the newest version (2.2.3+dfsg-2).\n",
            "0 upgraded, 0 newly installed, 0 to remove and 39 not upgraded.\n",
            "Reading package lists... Done\n",
            "Building dependency tree       \n",
            "Reading state information... Done\n",
            "python3-rtree is already the newest version (0.8.3+ds-1).\n",
            "0 upgraded, 0 newly installed, 0 to remove and 39 not upgraded.\n",
            "Collecting git+git://github.com/geopandas/geopandas.git\n",
            "  Cloning git://github.com/geopandas/geopandas.git to /tmp/pip-req-build-9o9z96pb\n",
            "  Running command git clone -q git://github.com/geopandas/geopandas.git /tmp/pip-req-build-9o9z96pb\n",
            "Requirement already satisfied (use --upgrade to upgrade): geopandas==0.9.0+36.gcb88dd4 from git+git://github.com/geopandas/geopandas.git in /usr/local/lib/python3.7/dist-packages\n",
            "Requirement already satisfied: pandas>=0.24.0 in /usr/local/lib/python3.7/dist-packages (from geopandas==0.9.0+36.gcb88dd4) (1.1.5)\n",
            "Requirement already satisfied: shapely>=1.6 in /usr/local/lib/python3.7/dist-packages (from geopandas==0.9.0+36.gcb88dd4) (1.7.1)\n",
            "Requirement already satisfied: fiona>=1.8 in /usr/local/lib/python3.7/dist-packages (from geopandas==0.9.0+36.gcb88dd4) (1.8.20)\n",
            "Requirement already satisfied: pyproj>=2.2.0 in /usr/local/lib/python3.7/dist-packages (from geopandas==0.9.0+36.gcb88dd4) (3.1.0)\n",
            "Requirement already satisfied: numpy>=1.15.4 in /usr/local/lib/python3.7/dist-packages (from pandas>=0.24.0->geopandas==0.9.0+36.gcb88dd4) (1.19.5)\n",
            "Requirement already satisfied: python-dateutil>=2.7.3 in /usr/local/lib/python3.7/dist-packages (from pandas>=0.24.0->geopandas==0.9.0+36.gcb88dd4) (2.8.1)\n",
            "Requirement already satisfied: pytz>=2017.2 in /usr/local/lib/python3.7/dist-packages (from pandas>=0.24.0->geopandas==0.9.0+36.gcb88dd4) (2018.9)\n",
            "Requirement already satisfied: six>=1.7 in /usr/local/lib/python3.7/dist-packages (from fiona>=1.8->geopandas==0.9.0+36.gcb88dd4) (1.15.0)\n",
            "Requirement already satisfied: certifi in /usr/local/lib/python3.7/dist-packages (from fiona>=1.8->geopandas==0.9.0+36.gcb88dd4) (2021.5.30)\n",
            "Requirement already satisfied: click>=4.0 in /usr/local/lib/python3.7/dist-packages (from fiona>=1.8->geopandas==0.9.0+36.gcb88dd4) (7.1.2)\n",
            "Requirement already satisfied: click-plugins>=1.0 in /usr/local/lib/python3.7/dist-packages (from fiona>=1.8->geopandas==0.9.0+36.gcb88dd4) (1.1.1)\n",
            "Requirement already satisfied: munch in /usr/local/lib/python3.7/dist-packages (from fiona>=1.8->geopandas==0.9.0+36.gcb88dd4) (2.5.0)\n",
            "Requirement already satisfied: setuptools in /usr/local/lib/python3.7/dist-packages (from fiona>=1.8->geopandas==0.9.0+36.gcb88dd4) (57.0.0)\n",
            "Requirement already satisfied: attrs>=17 in /usr/local/lib/python3.7/dist-packages (from fiona>=1.8->geopandas==0.9.0+36.gcb88dd4) (21.2.0)\n",
            "Requirement already satisfied: cligj>=0.5 in /usr/local/lib/python3.7/dist-packages (from fiona>=1.8->geopandas==0.9.0+36.gcb88dd4) (0.7.2)\n",
            "Building wheels for collected packages: geopandas\n",
            "  Building wheel for geopandas (setup.py) ... \u001b[?25l\u001b[?25hdone\n",
            "  Created wheel for geopandas: filename=geopandas-0.9.0+36.gcb88dd4-py2.py3-none-any.whl size=996489 sha256=9b4d3d2ead143858d275928630264b04c3366a110ee93ed81c1d609dfe72a8f9\n",
            "  Stored in directory: /tmp/pip-ephem-wheel-cache-94fgyutj/wheels/91/24/71/376c9c67192694168352afcccc2d264248f7e2cc6192997186\n",
            "Successfully built geopandas\n",
            "Requirement already satisfied: descartes in /usr/local/lib/python3.7/dist-packages (1.1.0)\n",
            "Requirement already satisfied: matplotlib in /usr/local/lib/python3.7/dist-packages (from descartes) (3.2.2)\n",
            "Requirement already satisfied: python-dateutil>=2.1 in /usr/local/lib/python3.7/dist-packages (from matplotlib->descartes) (2.8.1)\n",
            "Requirement already satisfied: kiwisolver>=1.0.1 in /usr/local/lib/python3.7/dist-packages (from matplotlib->descartes) (1.3.1)\n",
            "Requirement already satisfied: pyparsing!=2.0.4,!=2.1.2,!=2.1.6,>=2.0.1 in /usr/local/lib/python3.7/dist-packages (from matplotlib->descartes) (2.4.7)\n",
            "Requirement already satisfied: cycler>=0.10 in /usr/local/lib/python3.7/dist-packages (from matplotlib->descartes) (0.10.0)\n",
            "Requirement already satisfied: numpy>=1.11 in /usr/local/lib/python3.7/dist-packages (from matplotlib->descartes) (1.19.5)\n",
            "Requirement already satisfied: six>=1.5 in /usr/local/lib/python3.7/dist-packages (from python-dateutil>=2.1->matplotlib->descartes) (1.15.0)\n",
            "Requirement already satisfied: folium in /usr/local/lib/python3.7/dist-packages (0.8.3)\n",
            "Requirement already satisfied: numpy in /usr/local/lib/python3.7/dist-packages (from folium) (1.19.5)\n",
            "Requirement already satisfied: six in /usr/local/lib/python3.7/dist-packages (from folium) (1.15.0)\n",
            "Requirement already satisfied: branca>=0.3.0 in /usr/local/lib/python3.7/dist-packages (from folium) (0.4.2)\n",
            "Requirement already satisfied: jinja2 in /usr/local/lib/python3.7/dist-packages (from folium) (2.11.3)\n",
            "Requirement already satisfied: requests in /usr/local/lib/python3.7/dist-packages (from folium) (2.23.0)\n",
            "Requirement already satisfied: MarkupSafe>=0.23 in /usr/local/lib/python3.7/dist-packages (from jinja2->folium) (2.0.1)\n",
            "Requirement already satisfied: certifi>=2017.4.17 in /usr/local/lib/python3.7/dist-packages (from requests->folium) (2021.5.30)\n",
            "Requirement already satisfied: chardet<4,>=3.0.2 in /usr/local/lib/python3.7/dist-packages (from requests->folium) (3.0.4)\n",
            "Requirement already satisfied: idna<3,>=2.5 in /usr/local/lib/python3.7/dist-packages (from requests->folium) (2.10)\n",
            "Requirement already satisfied: urllib3!=1.25.0,!=1.25.1,<1.26,>=1.21.1 in /usr/local/lib/python3.7/dist-packages (from requests->folium) (1.24.3)\n",
            "Requirement already satisfied: plotly_express in /usr/local/lib/python3.7/dist-packages (0.4.1)\n",
            "Requirement already satisfied: pandas>=0.20.0 in /usr/local/lib/python3.7/dist-packages (from plotly_express) (1.1.5)\n",
            "Requirement already satisfied: scipy>=0.18 in /usr/local/lib/python3.7/dist-packages (from plotly_express) (1.4.1)\n",
            "Requirement already satisfied: numpy>=1.11 in /usr/local/lib/python3.7/dist-packages (from plotly_express) (1.19.5)\n",
            "Requirement already satisfied: statsmodels>=0.9.0 in /usr/local/lib/python3.7/dist-packages (from plotly_express) (0.10.2)\n",
            "Requirement already satisfied: plotly>=4.1.0 in /usr/local/lib/python3.7/dist-packages (from plotly_express) (4.4.1)\n",
            "Requirement already satisfied: patsy>=0.5 in /usr/local/lib/python3.7/dist-packages (from plotly_express) (0.5.1)\n",
            "Requirement already satisfied: pytz>=2017.2 in /usr/local/lib/python3.7/dist-packages (from pandas>=0.20.0->plotly_express) (2018.9)\n",
            "Requirement already satisfied: python-dateutil>=2.7.3 in /usr/local/lib/python3.7/dist-packages (from pandas>=0.20.0->plotly_express) (2.8.1)\n",
            "Requirement already satisfied: retrying>=1.3.3 in /usr/local/lib/python3.7/dist-packages (from plotly>=4.1.0->plotly_express) (1.3.3)\n",
            "Requirement already satisfied: six in /usr/local/lib/python3.7/dist-packages (from plotly>=4.1.0->plotly_express) (1.15.0)\n"
          ],
          "name": "stdout"
        }
      ]
    },
    {
      "cell_type": "markdown",
      "metadata": {
        "id": "uoPKKNgrMz1A"
      },
      "source": [
        "# EDA : sale trend in jeju island \n",
        "\n",
        "1.data preprocessing \n"
      ]
    },
    {
      "cell_type": "code",
      "metadata": {
        "colab": {
          "base_uri": "https://localhost:8080/"
        },
        "id": "L3bJjvpyb1Xk",
        "outputId": "0bf584e2-d7ba-4ca0-af2d-b67b9e97c2e8"
      },
      "source": [
        "#data load\n",
        "\n",
        "from google.colab import drive\n",
        "drive.mount('/content/drive')\n",
        "\n",
        "import warnings\n",
        "warnings.filterwarnings(action='ignore')\n",
        "\n",
        "import numpy as np\n",
        "import pandas as pd\n",
        "\n",
        "import matplotlib.pyplot as plt\n",
        "import matplotlib as mpl\n",
        "import seaborn as sns\n",
        "\n",
        "plt.rc('font', family='AppleGothic')\n",
        "\n",
        "import folium \n",
        "import geopandas as gpd\n",
        "from IPython.display import Image\n",
        "\n",
        "import tqdm # progress bar \n",
        "import os, sys\n",
        "\n",
        "from scipy.spatial import distance\n",
        "from sklearn.cluster import AgglomerativeClustering"
      ],
      "execution_count": 3,
      "outputs": [
        {
          "output_type": "stream",
          "text": [
            "Drive already mounted at /content/drive; to attempt to forcibly remount, call drive.mount(\"/content/drive\", force_remount=True).\n"
          ],
          "name": "stdout"
        }
      ]
    },
    {
      "cell_type": "code",
      "metadata": {
        "id": "SHLLguZZb1Xm"
      },
      "source": [
        "path = '/content/drive/MyDrive/colab/jeju/data/'\n",
        "\n",
        "data5= pd.read_csv(os.path.join(path,'KRI-DAC_Jeju_data5.txt'))\n",
        "data6= pd.read_csv(os.path.join(path,'KRI-DAC_Jeju_data6.txt'))\n",
        "data7= pd.read_csv(os.path.join(path,'KRI-DAC_Jeju_data7.txt'))\n",
        "data8= pd.read_csv(os.path.join(path,'KRI-DAC_Jeju_data8.txt'))\n",
        "\n",
        "df = pd.concat([data5, data6, data7, data8]).drop(['X','Y'], axis=1).reset_index(drop=True)\n",
        "df.columns=df.columns.str.lower()"
      ],
      "execution_count": 4,
      "outputs": []
    },
    {
      "cell_type": "code",
      "metadata": {
        "id": "a7dSeA-Kb1Xm"
      },
      "source": [
        "# df.describe()"
      ],
      "execution_count": 5,
      "outputs": []
    },
    {
      "cell_type": "code",
      "metadata": {
        "id": "s0kqAHlHYiCH"
      },
      "source": [
        "#data preprocessing"
      ],
      "execution_count": 6,
      "outputs": []
    },
    {
      "cell_type": "code",
      "metadata": {
        "id": "krDzPslDjDok"
      },
      "source": [
        "# geocoding\n",
        "\n",
        "# \n",
        "path = '/content/drive/MyDrive/colab/jeju/data/'\n",
        "\n",
        "data5= pd.read_csv(os.path.join(path,'KRI-DAC_Jeju_data5.txt'))\n",
        "data6= pd.read_csv(os.path.join(path,'KRI-DAC_Jeju_data6.txt'))\n",
        "data7= pd.read_csv(os.path.join(path,'KRI-DAC_Jeju_data7.txt'))\n",
        "data8= pd.read_csv(os.path.join(path,'KRI-DAC_Jeju_data8.txt'))\n",
        "\n",
        "df = pd.concat([data5, data6, data7, data8]).drop(['X','Y'], axis=1).reset_index(drop=True)\n",
        "df.columns=df.columns.str.lower()\n",
        "\n",
        "\n",
        "\n",
        "from pyproj import Proj, transform \n",
        "proj_itrf = Proj(init='epsg:5178') # korean grid\n",
        "proj_wgs84 = Proj(init='epsg:4326') # World Geodetic System\n",
        "\n",
        "df[\"lon\"],df[\"lat\"] = transform(proj_itrf,proj_wgs84,df['point_x'],df['point_y']) # itrf --> lon/lat\n",
        "df['geometry'] = gpd.points_from_xy(df.lon, df.lat) # points \n",
        "\n",
        "boundary = gpd.read_file(os.path.join(path, 'LSMD_ADM_SECT_UMD_50.shp'),crs='EPSG:5178',encoding='euc-kr').to_crs('EPSG:4326') # load data (WGS)\n"
      ],
      "execution_count": 291,
      "outputs": []
    },
    {
      "cell_type": "code",
      "metadata": {
        "colab": {
          "base_uri": "https://localhost:8080/",
          "height": 479
        },
        "id": "BW2zYAzL56uH",
        "outputId": "11d13a70-48f5-4616-ed1b-1b15ec7d48c7"
      },
      "source": [
        "df.head()"
      ],
      "execution_count": 292,
      "outputs": [
        {
          "output_type": "execute_result",
          "data": {
            "text/html": [
              "<div>\n",
              "<style scoped>\n",
              "    .dataframe tbody tr th:only-of-type {\n",
              "        vertical-align: middle;\n",
              "    }\n",
              "\n",
              "    .dataframe tbody tr th {\n",
              "        vertical-align: top;\n",
              "    }\n",
              "\n",
              "    .dataframe thead th {\n",
              "        text-align: right;\n",
              "    }\n",
              "</style>\n",
              "<table border=\"1\" class=\"dataframe\">\n",
              "  <thead>\n",
              "    <tr style=\"text-align: right;\">\n",
              "      <th></th>\n",
              "      <th>objectid</th>\n",
              "      <th>field1</th>\n",
              "      <th>ym</th>\n",
              "      <th>sido</th>\n",
              "      <th>sigungu</th>\n",
              "      <th>franclass</th>\n",
              "      <th>type</th>\n",
              "      <th>time</th>\n",
              "      <th>totalspent</th>\n",
              "      <th>disspent</th>\n",
              "      <th>numofspent</th>\n",
              "      <th>numofdisspent</th>\n",
              "      <th>point_x</th>\n",
              "      <th>point_y</th>\n",
              "      <th>lon</th>\n",
              "      <th>lat</th>\n",
              "      <th>geometry</th>\n",
              "    </tr>\n",
              "  </thead>\n",
              "  <tbody>\n",
              "    <tr>\n",
              "      <th>0</th>\n",
              "      <td>1</td>\n",
              "      <td>1</td>\n",
              "      <td>202005</td>\n",
              "      <td>제주특별자치도</td>\n",
              "      <td>제주시</td>\n",
              "      <td>영세</td>\n",
              "      <td>일반한식</td>\n",
              "      <td>00시</td>\n",
              "      <td>363000</td>\n",
              "      <td>66500</td>\n",
              "      <td>10</td>\n",
              "      <td>2</td>\n",
              "      <td>877005.9834</td>\n",
              "      <td>1.479766e+06</td>\n",
              "      <td>126.176746</td>\n",
              "      <td>33.305090</td>\n",
              "      <td>POINT (126.17675 33.30509)</td>\n",
              "    </tr>\n",
              "    <tr>\n",
              "      <th>1</th>\n",
              "      <td>2</td>\n",
              "      <td>2</td>\n",
              "      <td>202005</td>\n",
              "      <td>제주특별자치도</td>\n",
              "      <td>제주시</td>\n",
              "      <td>영세</td>\n",
              "      <td>단란주점</td>\n",
              "      <td>00시</td>\n",
              "      <td>1180000</td>\n",
              "      <td>0</td>\n",
              "      <td>3</td>\n",
              "      <td>0</td>\n",
              "      <td>877005.7447</td>\n",
              "      <td>1.479816e+06</td>\n",
              "      <td>126.176737</td>\n",
              "      <td>33.305540</td>\n",
              "      <td>POINT (126.17674 33.30554)</td>\n",
              "    </tr>\n",
              "    <tr>\n",
              "      <th>2</th>\n",
              "      <td>3</td>\n",
              "      <td>3</td>\n",
              "      <td>202005</td>\n",
              "      <td>제주특별자치도</td>\n",
              "      <td>제주시</td>\n",
              "      <td>중소1</td>\n",
              "      <td>편의점</td>\n",
              "      <td>00시</td>\n",
              "      <td>157670</td>\n",
              "      <td>6850</td>\n",
              "      <td>20</td>\n",
              "      <td>2</td>\n",
              "      <td>877056.6756</td>\n",
              "      <td>1.479616e+06</td>\n",
              "      <td>126.177311</td>\n",
              "      <td>33.303746</td>\n",
              "      <td>POINT (126.17731 33.30375)</td>\n",
              "    </tr>\n",
              "    <tr>\n",
              "      <th>3</th>\n",
              "      <td>4</td>\n",
              "      <td>4</td>\n",
              "      <td>202005</td>\n",
              "      <td>제주특별자치도</td>\n",
              "      <td>제주시</td>\n",
              "      <td>영세</td>\n",
              "      <td>편의점</td>\n",
              "      <td>00시</td>\n",
              "      <td>46600</td>\n",
              "      <td>0</td>\n",
              "      <td>2</td>\n",
              "      <td>0</td>\n",
              "      <td>877055.9593</td>\n",
              "      <td>1.479766e+06</td>\n",
              "      <td>126.177283</td>\n",
              "      <td>33.305098</td>\n",
              "      <td>POINT (126.17728 33.30510)</td>\n",
              "    </tr>\n",
              "    <tr>\n",
              "      <th>4</th>\n",
              "      <td>5</td>\n",
              "      <td>5</td>\n",
              "      <td>202005</td>\n",
              "      <td>제주특별자치도</td>\n",
              "      <td>제주시</td>\n",
              "      <td>영세</td>\n",
              "      <td>주점</td>\n",
              "      <td>00시</td>\n",
              "      <td>66000</td>\n",
              "      <td>0</td>\n",
              "      <td>2</td>\n",
              "      <td>0</td>\n",
              "      <td>877055.4817</td>\n",
              "      <td>1.479866e+06</td>\n",
              "      <td>126.177264</td>\n",
              "      <td>33.305999</td>\n",
              "      <td>POINT (126.17726 33.30600)</td>\n",
              "    </tr>\n",
              "  </tbody>\n",
              "</table>\n",
              "</div>"
            ],
            "text/plain": [
              "   objectid  field1      ym  ...         lon        lat                    geometry\n",
              "0         1       1  202005  ...  126.176746  33.305090  POINT (126.17675 33.30509)\n",
              "1         2       2  202005  ...  126.176737  33.305540  POINT (126.17674 33.30554)\n",
              "2         3       3  202005  ...  126.177311  33.303746  POINT (126.17731 33.30375)\n",
              "3         4       4  202005  ...  126.177283  33.305098  POINT (126.17728 33.30510)\n",
              "4         5       5  202005  ...  126.177264  33.305999  POINT (126.17726 33.30600)\n",
              "\n",
              "[5 rows x 17 columns]"
            ]
          },
          "metadata": {
            "tags": []
          },
          "execution_count": 292
        }
      ]
    },
    {
      "cell_type": "code",
      "metadata": {
        "colab": {
          "base_uri": "https://localhost:8080/",
          "height": 949
        },
        "id": "aS4CeOUA10tx",
        "outputId": "b1cd0750-4a8b-41da-a303-06a6c463ef25"
      },
      "source": [
        "def towns_boundary(boundary, df): \n",
        "    coor_df = gpd.GeoDataFrame(columns={'town', 'geometry'}) # dataframe for coordinates \n",
        "    coors_list = df['geometry'].unique() \n",
        "    \n",
        "    for num in range(len(boundary)):\n",
        " \n",
        "        town_boundary_code= boundary.loc[num, 'geometry'] \n",
        "        town_name = boundary.loc[num, 'EMD_NM']\n",
        "        result = coors_list.within(town_boundary_code)\n",
        "\n",
        "        idx = [num for num, i in enumerate(result) if i]\n",
        "        coor_df = coor_df.append(gpd.GeoDataFrame({'town':[town_name for _ in range(len(idx))],'geometry':coors_list[idx]}))\n",
        "\n",
        "    coor_df = coor_df.drop_duplicates(subset='geometry', keep='first').reset_index(drop=True) #just in case before merge\n",
        "    df = df.merge(coor_df, how='left', on='geometry') \n",
        "\n",
        "    #if there is null data\n",
        "    null_data= df[df['town'].isnull()]['geometry']\n",
        "    coor_null = null_data.unique()\n",
        "    for code in coor_null:\n",
        "        idx = coor_df['geometry'].distance(code).argmin() # find a point near \n",
        "        town_name = coor_df.loc[idx, 'town']\n",
        "        coor_df = coor_df.append(gpd.GeoDataFrame({'town':[town_name], 'geometry': [code]}), ignore_index=True)\n",
        "        \n",
        "    df.drop(columns='town', inplace=True)\n",
        "    df = df.merge(coor_df, how='left', on='geometry')\n",
        "    return df, null_data    \n",
        "\n",
        "df, null_df = towns_boundary(boundary, df)\n",
        "df"
      ],
      "execution_count": 293,
      "outputs": [
        {
          "output_type": "execute_result",
          "data": {
            "text/html": [
              "<div>\n",
              "<style scoped>\n",
              "    .dataframe tbody tr th:only-of-type {\n",
              "        vertical-align: middle;\n",
              "    }\n",
              "\n",
              "    .dataframe tbody tr th {\n",
              "        vertical-align: top;\n",
              "    }\n",
              "\n",
              "    .dataframe thead th {\n",
              "        text-align: right;\n",
              "    }\n",
              "</style>\n",
              "<table border=\"1\" class=\"dataframe\">\n",
              "  <thead>\n",
              "    <tr style=\"text-align: right;\">\n",
              "      <th></th>\n",
              "      <th>objectid</th>\n",
              "      <th>field1</th>\n",
              "      <th>ym</th>\n",
              "      <th>sido</th>\n",
              "      <th>sigungu</th>\n",
              "      <th>franclass</th>\n",
              "      <th>type</th>\n",
              "      <th>time</th>\n",
              "      <th>totalspent</th>\n",
              "      <th>disspent</th>\n",
              "      <th>numofspent</th>\n",
              "      <th>numofdisspent</th>\n",
              "      <th>point_x</th>\n",
              "      <th>point_y</th>\n",
              "      <th>lon</th>\n",
              "      <th>lat</th>\n",
              "      <th>geometry</th>\n",
              "      <th>town</th>\n",
              "    </tr>\n",
              "  </thead>\n",
              "  <tbody>\n",
              "    <tr>\n",
              "      <th>0</th>\n",
              "      <td>1</td>\n",
              "      <td>1</td>\n",
              "      <td>202005</td>\n",
              "      <td>제주특별자치도</td>\n",
              "      <td>제주시</td>\n",
              "      <td>영세</td>\n",
              "      <td>일반한식</td>\n",
              "      <td>00시</td>\n",
              "      <td>363000</td>\n",
              "      <td>66500</td>\n",
              "      <td>10</td>\n",
              "      <td>2</td>\n",
              "      <td>877005.9834</td>\n",
              "      <td>1.479766e+06</td>\n",
              "      <td>126.176746</td>\n",
              "      <td>33.305090</td>\n",
              "      <td>POINT (126.17675 33.30509)</td>\n",
              "      <td>한경면</td>\n",
              "    </tr>\n",
              "    <tr>\n",
              "      <th>1</th>\n",
              "      <td>2</td>\n",
              "      <td>2</td>\n",
              "      <td>202005</td>\n",
              "      <td>제주특별자치도</td>\n",
              "      <td>제주시</td>\n",
              "      <td>영세</td>\n",
              "      <td>단란주점</td>\n",
              "      <td>00시</td>\n",
              "      <td>1180000</td>\n",
              "      <td>0</td>\n",
              "      <td>3</td>\n",
              "      <td>0</td>\n",
              "      <td>877005.7447</td>\n",
              "      <td>1.479816e+06</td>\n",
              "      <td>126.176737</td>\n",
              "      <td>33.305540</td>\n",
              "      <td>POINT (126.17674 33.30554)</td>\n",
              "      <td>한경면</td>\n",
              "    </tr>\n",
              "    <tr>\n",
              "      <th>2</th>\n",
              "      <td>3</td>\n",
              "      <td>3</td>\n",
              "      <td>202005</td>\n",
              "      <td>제주특별자치도</td>\n",
              "      <td>제주시</td>\n",
              "      <td>중소1</td>\n",
              "      <td>편의점</td>\n",
              "      <td>00시</td>\n",
              "      <td>157670</td>\n",
              "      <td>6850</td>\n",
              "      <td>20</td>\n",
              "      <td>2</td>\n",
              "      <td>877056.6756</td>\n",
              "      <td>1.479616e+06</td>\n",
              "      <td>126.177311</td>\n",
              "      <td>33.303746</td>\n",
              "      <td>POINT (126.17731 33.30375)</td>\n",
              "      <td>한경면</td>\n",
              "    </tr>\n",
              "    <tr>\n",
              "      <th>3</th>\n",
              "      <td>4</td>\n",
              "      <td>4</td>\n",
              "      <td>202005</td>\n",
              "      <td>제주특별자치도</td>\n",
              "      <td>제주시</td>\n",
              "      <td>영세</td>\n",
              "      <td>편의점</td>\n",
              "      <td>00시</td>\n",
              "      <td>46600</td>\n",
              "      <td>0</td>\n",
              "      <td>2</td>\n",
              "      <td>0</td>\n",
              "      <td>877055.9593</td>\n",
              "      <td>1.479766e+06</td>\n",
              "      <td>126.177283</td>\n",
              "      <td>33.305098</td>\n",
              "      <td>POINT (126.17728 33.30510)</td>\n",
              "      <td>한경면</td>\n",
              "    </tr>\n",
              "    <tr>\n",
              "      <th>4</th>\n",
              "      <td>5</td>\n",
              "      <td>5</td>\n",
              "      <td>202005</td>\n",
              "      <td>제주특별자치도</td>\n",
              "      <td>제주시</td>\n",
              "      <td>영세</td>\n",
              "      <td>주점</td>\n",
              "      <td>00시</td>\n",
              "      <td>66000</td>\n",
              "      <td>0</td>\n",
              "      <td>2</td>\n",
              "      <td>0</td>\n",
              "      <td>877055.4817</td>\n",
              "      <td>1.479866e+06</td>\n",
              "      <td>126.177264</td>\n",
              "      <td>33.305999</td>\n",
              "      <td>POINT (126.17726 33.30600)</td>\n",
              "      <td>한경면</td>\n",
              "    </tr>\n",
              "    <tr>\n",
              "      <th>...</th>\n",
              "      <td>...</td>\n",
              "      <td>...</td>\n",
              "      <td>...</td>\n",
              "      <td>...</td>\n",
              "      <td>...</td>\n",
              "      <td>...</td>\n",
              "      <td>...</td>\n",
              "      <td>...</td>\n",
              "      <td>...</td>\n",
              "      <td>...</td>\n",
              "      <td>...</td>\n",
              "      <td>...</td>\n",
              "      <td>...</td>\n",
              "      <td>...</td>\n",
              "      <td>...</td>\n",
              "      <td>...</td>\n",
              "      <td>...</td>\n",
              "      <td>...</td>\n",
              "    </tr>\n",
              "    <tr>\n",
              "      <th>1119424</th>\n",
              "      <td>280081</td>\n",
              "      <td>280081</td>\n",
              "      <td>202008</td>\n",
              "      <td>제주특별자치도</td>\n",
              "      <td>제주시</td>\n",
              "      <td>영세</td>\n",
              "      <td>편의점</td>\n",
              "      <td>x시</td>\n",
              "      <td>13700</td>\n",
              "      <td>0</td>\n",
              "      <td>2</td>\n",
              "      <td>0</td>\n",
              "      <td>950266.5976</td>\n",
              "      <td>1.502458e+06</td>\n",
              "      <td>126.962369</td>\n",
              "      <td>33.515632</td>\n",
              "      <td>POINT (126.96237 33.51563)</td>\n",
              "      <td>우도면</td>\n",
              "    </tr>\n",
              "    <tr>\n",
              "      <th>1119425</th>\n",
              "      <td>280082</td>\n",
              "      <td>280082</td>\n",
              "      <td>202008</td>\n",
              "      <td>제주특별자치도</td>\n",
              "      <td>제주시</td>\n",
              "      <td>영세</td>\n",
              "      <td>일반한식</td>\n",
              "      <td>x시</td>\n",
              "      <td>56000</td>\n",
              "      <td>0</td>\n",
              "      <td>1</td>\n",
              "      <td>0</td>\n",
              "      <td>950317.5379</td>\n",
              "      <td>1.502258e+06</td>\n",
              "      <td>126.962928</td>\n",
              "      <td>33.513833</td>\n",
              "      <td>POINT (126.96293 33.51383)</td>\n",
              "      <td>우도면</td>\n",
              "    </tr>\n",
              "    <tr>\n",
              "      <th>1119426</th>\n",
              "      <td>280083</td>\n",
              "      <td>280083</td>\n",
              "      <td>202008</td>\n",
              "      <td>제주특별자치도</td>\n",
              "      <td>제주시</td>\n",
              "      <td>영세</td>\n",
              "      <td>일반한식</td>\n",
              "      <td>x시</td>\n",
              "      <td>28000</td>\n",
              "      <td>0</td>\n",
              "      <td>1</td>\n",
              "      <td>0</td>\n",
              "      <td>950469.1585</td>\n",
              "      <td>1.501909e+06</td>\n",
              "      <td>126.964580</td>\n",
              "      <td>33.510691</td>\n",
              "      <td>POINT (126.96458 33.51069)</td>\n",
              "      <td>우도면</td>\n",
              "    </tr>\n",
              "    <tr>\n",
              "      <th>1119427</th>\n",
              "      <td>280084</td>\n",
              "      <td>280084</td>\n",
              "      <td>202008</td>\n",
              "      <td>제주특별자치도</td>\n",
              "      <td>제주시</td>\n",
              "      <td>중소1</td>\n",
              "      <td>중국음식</td>\n",
              "      <td>x시</td>\n",
              "      <td>46000</td>\n",
              "      <td>0</td>\n",
              "      <td>3</td>\n",
              "      <td>0</td>\n",
              "      <td>950574.6388</td>\n",
              "      <td>1.500760e+06</td>\n",
              "      <td>126.965779</td>\n",
              "      <td>33.500332</td>\n",
              "      <td>POINT (126.96578 33.50033)</td>\n",
              "      <td>우도면</td>\n",
              "    </tr>\n",
              "    <tr>\n",
              "      <th>1119428</th>\n",
              "      <td>280085</td>\n",
              "      <td>280085</td>\n",
              "      <td>202008</td>\n",
              "      <td>제주특별자치도</td>\n",
              "      <td>제주시</td>\n",
              "      <td>영세</td>\n",
              "      <td>서양음식</td>\n",
              "      <td>x시</td>\n",
              "      <td>9000</td>\n",
              "      <td>0</td>\n",
              "      <td>1</td>\n",
              "      <td>0</td>\n",
              "      <td>950565.5176</td>\n",
              "      <td>1.502659e+06</td>\n",
              "      <td>126.965576</td>\n",
              "      <td>33.517462</td>\n",
              "      <td>POINT (126.96558 33.51746)</td>\n",
              "      <td>우도면</td>\n",
              "    </tr>\n",
              "  </tbody>\n",
              "</table>\n",
              "<p>1119429 rows × 18 columns</p>\n",
              "</div>"
            ],
            "text/plain": [
              "         objectid  field1      ym  ...        lat                    geometry town\n",
              "0               1       1  202005  ...  33.305090  POINT (126.17675 33.30509)  한경면\n",
              "1               2       2  202005  ...  33.305540  POINT (126.17674 33.30554)  한경면\n",
              "2               3       3  202005  ...  33.303746  POINT (126.17731 33.30375)  한경면\n",
              "3               4       4  202005  ...  33.305098  POINT (126.17728 33.30510)  한경면\n",
              "4               5       5  202005  ...  33.305999  POINT (126.17726 33.30600)  한경면\n",
              "...           ...     ...     ...  ...        ...                         ...  ...\n",
              "1119424    280081  280081  202008  ...  33.515632  POINT (126.96237 33.51563)  우도면\n",
              "1119425    280082  280082  202008  ...  33.513833  POINT (126.96293 33.51383)  우도면\n",
              "1119426    280083  280083  202008  ...  33.510691  POINT (126.96458 33.51069)  우도면\n",
              "1119427    280084  280084  202008  ...  33.500332  POINT (126.96578 33.50033)  우도면\n",
              "1119428    280085  280085  202008  ...  33.517462  POINT (126.96558 33.51746)  우도면\n",
              "\n",
              "[1119429 rows x 18 columns]"
            ]
          },
          "metadata": {
            "tags": []
          },
          "execution_count": 293
        }
      ]
    },
    {
      "cell_type": "code",
      "metadata": {
        "id": "qsAL_lmb9FBz"
      },
      "source": [
        "null_df.to_csv('null값.csv', index=True)\n",
        "df.to_csv('data.csv', index=False)"
      ],
      "execution_count": 294,
      "outputs": []
    },
    {
      "cell_type": "code",
      "metadata": {
        "id": "-QBd7lMcXSNL"
      },
      "source": [
        "def towns_boundary(boundary, df): \n",
        "    coor_df = gpd.GeoDataFrame(columns={'town', 'geometry'}) # dataframe for coordinates \n",
        "    coors_list = df['geometry'].unique() \n",
        "    \n",
        "    for num in range(len(boundary)):\n",
        " \n",
        "        town_boundary_code= boundary.loc[num, 'geometry'] \n",
        "        town_name = boundary.loc[num, 'EMD_NM']\n",
        "        result = coors_list.within(town_boundary_code)\n",
        "\n",
        "        idx = [num for num, i in enumerate(result) if i]\n",
        "        coor_df = coor_df.append(gpd.GeoDataFrame({'town':[town_name for _ in range(len(idx))],'geometry':coors_list[idx]}))\n",
        "\n",
        "    coor_df = coor_df.drop_duplicates(subset='geometry', keep='first').reset_index(drop=True) \n",
        "    df = df.merge(coor_df, how='left', on='geometry') \n",
        "\n",
        "    null_df = df.loc[df['town'].isnull(), 'geometry'] \n",
        "    print(\"Null data : {}\".format(len(null_df)))\n",
        "    \n",
        "    # 포함되지 않는 좌표는 가장 가까운 점의 동으로 설정\n",
        "    coor_null = null_df.unique()\n",
        "    for xy in tqdm.tqdm_notebook(coor_null):\n",
        "        idx = coor_df['geometry'].distance(xy).argmin()\n",
        "        dong_name = coor_df.loc[idx, 'town']\n",
        "        coor_df = coor_df.append(gpd.GeoDataFrame({'town':[dong_name], 'geometry': [xy]}), ignore_index=True)\n",
        "\n",
        "    df.drop(columns='town', inplace=True)\n",
        "    df = df.merge(coor_df, how='left', on='geometry')\n",
        "    return df, null_df"
      ],
      "execution_count": 271,
      "outputs": []
    },
    {
      "cell_type": "code",
      "metadata": {
        "colab": {
          "base_uri": "https://localhost:8080/",
          "height": 83,
          "referenced_widgets": [
            "83c1cf902e6845c48e9f65f8e3988b5f",
            "8cfaa78fe30e47978cba59710fe56a25",
            "d2a33299d71e44b18245fa7fa0d64482",
            "3b5979ac332342ca897c63c19fe4ca9c",
            "8eca67126c7846a481d4bfefd19cbc5d",
            "9b3321518dc34b5e80378be606e7c1dc",
            "c26ecab287be4359ac82d2c9bbb304e3",
            "87b1bf4ab69b431f8d9850c59480c825"
          ]
        },
        "id": "ZQHoCYyJPocg",
        "outputId": "b342764e-f9d0-4a28-9b86-b49dfc42c665"
      },
      "source": [
        "data,null_df=towns_boundary(boundary, df) "
      ],
      "execution_count": 272,
      "outputs": [
        {
          "output_type": "stream",
          "text": [
            "Null data : 101527\n"
          ],
          "name": "stdout"
        },
        {
          "output_type": "display_data",
          "data": {
            "application/vnd.jupyter.widget-view+json": {
              "model_id": "83c1cf902e6845c48e9f65f8e3988b5f",
              "version_major": 2,
              "version_minor": 0
            },
            "text/plain": [
              "HBox(children=(FloatProgress(value=0.0, max=1609.0), HTML(value='')))"
            ]
          },
          "metadata": {
            "tags": []
          }
        },
        {
          "output_type": "stream",
          "text": [
            "\n"
          ],
          "name": "stdout"
        }
      ]
    },
    {
      "cell_type": "code",
      "metadata": {
        "id": "O5QMjGthPoNR"
      },
      "source": [
        ""
      ],
      "execution_count": null,
      "outputs": []
    },
    {
      "cell_type": "code",
      "metadata": {
        "id": "HmJzLkvWb1Xn"
      },
      "source": [
        "# import sys\n",
        "# from data import api_key \n",
        "# key=api_key.google_api_key"
      ],
      "execution_count": null,
      "outputs": []
    },
    {
      "cell_type": "code",
      "metadata": {
        "id": "idqwdTMhb1Xo"
      },
      "source": [
        "df=pd.concat(concat_list)"
      ],
      "execution_count": null,
      "outputs": []
    },
    {
      "cell_type": "code",
      "metadata": {
        "id": "mYpRaFxfb1Xp"
      },
      "source": [
        "from pyproj import Proj, transform \n",
        "proj_itrf = Proj(init='epsg:5178')\n",
        "proj_wgs84 = Proj(init='epsg:4326')\n",
        "df[\"lon\"],df[\"lat\"] = transform(proj_itrf,proj_wgs84,df['point_x'],df[\"point_y\"])\n",
        "df.drop(['point_x','point_y',\"field1\",'ym'],inplace=True, axis=1)"
      ],
      "execution_count": null,
      "outputs": []
    },
    {
      "cell_type": "code",
      "metadata": {
        "id": "7pNsPBVSb1Xp"
      },
      "source": [
        "# df['lon_lat']=df['lon'].astype(str)+'_'+df['lat'].astype(str)"
      ],
      "execution_count": null,
      "outputs": []
    },
    {
      "cell_type": "code",
      "metadata": {
        "id": "SmMZLYYob1Xp"
      },
      "source": [
        "# df_lon_lat=df['lon_lat'].drop_duplicates()\n",
        "# df_lon_lat"
      ],
      "execution_count": null,
      "outputs": []
    },
    {
      "cell_type": "code",
      "metadata": {
        "id": "HFw4C4ycb1Xq"
      },
      "source": [
        "# import googlemaps\n",
        "# from datetime import datetime\n",
        "\n",
        "# gmaps = googlemaps.Client(key) \n",
        "# reverse_geocode_result = gmaps.reverse_geocode((33.302315,126.176746))\n",
        "# reverse_geocode_result\n",
        "# # geocode_result  "
      ],
      "execution_count": null,
      "outputs": []
    },
    {
      "cell_type": "code",
      "metadata": {
        "id": "_l_iLv8db1Xq"
      },
      "source": [
        "# import json\n",
        "# m=folium.Map(location=[48,-102],zoom_start=3)\n",
        "# folium.Choropleth(\n",
        "#     geo_data='./data/03_us-states.json',\n",
        "#     data=state_data, columns=[\"State\",'Unemployment'],\n",
        "#     nan_fill_color=\"purple\", nan_fill_opacity=0.4,\n",
        "#     key_on=\"    \", fill_color=\"YlGn\",\n",
        "#     legend_name=\"Unemployment Rate (%)\"\n",
        "# ).add_to(m)\n",
        "# m"
      ],
      "execution_count": null,
      "outputs": []
    },
    {
      "cell_type": "code",
      "metadata": {
        "id": "CZ4FYTM_b1Xq"
      },
      "source": [
        "#import rename module  \n",
        "import type_names\n",
        "input_data=type_names.rename()\n",
        "for key, value in input_data:\n",
        "    df[\"type\"].replace(dict.fromkeys(key, value), inplace=True)"
      ],
      "execution_count": null,
      "outputs": []
    },
    {
      "cell_type": "code",
      "metadata": {
        "id": "SN-HoawLb1Xq"
      },
      "source": [
        "df"
      ],
      "execution_count": null,
      "outputs": []
    },
    {
      "cell_type": "code",
      "metadata": {
        "id": "XfUrnRcNb1Xq"
      },
      "source": [
        "# data preprocessing\n",
        "\n",
        "df['sigungu']=df['sigungu'].replace(['제주시','서귀포시'],['jeju','Seogwipo'])\n",
        "df=df[df['time']!='x시'].reset_index(drop=True) # payments canceled \n",
        "df['time']=df['time'].apply(lambda x : x[:2])\n",
        "df.franclass=df.franclass.replace(['영세', '중소1', '중소', '중소2', '일반'],['under_0.3m','under_1m','under_0.5m','under_3m','over_3m'])\n",
        "df_final=df.rename(columns={'sigungu':'city','franclass':'class','totalspent':'total_income','disspent':'subsidies_income','numofspent':'num_of_payments','numofdisspent':'num_of_subspayment'})\n",
        "df_final[['total_income','subsidies_income']]=df_final[['total_income','subsidies_income']].astype(int).apply(lambda x:x/1000) #won to $, 1000:1\n",
        "df_final['non_subsidies_income']=df_final['total_income']-df_final['subsidies_income']"
      ],
      "execution_count": null,
      "outputs": []
    },
    {
      "cell_type": "code",
      "metadata": {
        "id": "SKe3uqkhb1Xr"
      },
      "source": [
        "df_final['month'].unique()"
      ],
      "execution_count": null,
      "outputs": []
    },
    {
      "cell_type": "code",
      "metadata": {
        "id": "rValTI_ib1Xr"
      },
      "source": [
        "# visualization \n",
        "#1. subsidies_income by month \n",
        "df_month_group=df_final.groupby('month')[\"subsidies_income\"].sum().reset_index()\n",
        "\n",
        "plt.figure(figsize=(10,6))\n",
        "sns.catplot(x=\"month\", y=\"subsidies_income\", ci=None, kind=\"bar\", data=df_month_group);"
      ],
      "execution_count": null,
      "outputs": []
    },
    {
      "cell_type": "code",
      "metadata": {
        "id": "bx2vwuGZb1Xr"
      },
      "source": [
        "df_final"
      ],
      "execution_count": null,
      "outputs": []
    },
    {
      "cell_type": "code",
      "metadata": {
        "id": "ZJ1BKxtZb1Xr"
      },
      "source": [
        "# all income by city \n",
        "# population = jeju_city (507,095), seogwipo (190,254), seogwipo/jeju_city = 0.375\n",
        "df_city_group= df_final.groupby('city')['total_income','non_subsidies_income',\"subsidies_income\"].sum() \n",
        "df_city_group\n",
        "\n",
        "f, ax = plt.subplots(1,3, figsize=(20,10))\n",
        "\n",
        "df_city_group['total_income'].plot.pie(explode=[0,0.1], autopct='%1.1f%%',ax=ax[0], shadow=True,fontsize=20)\n",
        "ax[0].set_title('total income by city',fontsize=20)\n",
        "\n",
        "df_city_group['non_subsidies_income'].plot.pie(explode=[0,0.1], autopct='%1.1f%%',ax=ax[1], shadow=True,fontsize=20)\n",
        "ax[1].set_title('non_subsidies_income by city',fontsize=20)\n",
        "\n",
        "df_city_group['subsidies_income'].plot.pie(explode=[0,0.1], autopct='%1.1f%%',ax=ax[2], shadow=True, fontsize=20)\n",
        "ax[2].set_title('subsidies_income by city',fontsize=20)\n"
      ],
      "execution_count": null,
      "outputs": []
    },
    {
      "cell_type": "code",
      "metadata": {
        "id": "79SMGLpFb1Xs"
      },
      "source": [
        "#\n",
        "df_5=df_final[df_final['month']=='5']\n",
        "df_5_sum=df_5[['non_subsidies_income','subsidies_income']].sum()\n",
        "\n",
        "plt.figure(figsize=(10,6))\n",
        "df_5_sum_plot=df_5_sum.plot.pie(explode=[0,0.1], autopct='%1.1f%%', shadow=True,fontsize=20)\n"
      ],
      "execution_count": null,
      "outputs": []
    },
    {
      "cell_type": "code",
      "metadata": {
        "id": "HN6YenIRb1Xs",
        "outputId": "aa8bb6b7-9b99-4d25-becd-a17ebfa80602"
      },
      "source": [
        "df_5_group_type=df_5.groupby('type')['total_income','non_subsidies_income',\"subsidies_income\"].sum() \n",
        "df_5_group_type.iloc[1]"
      ],
      "execution_count": null,
      "outputs": [
        {
          "output_type": "execute_result",
          "data": {
            "text/plain": [
              "total_income            1.292806e+07\n",
              "non_subsidies_income    1.091423e+07\n",
              "subsidies_income        2.013829e+06\n",
              "Name: automobile, dtype: float64"
            ]
          },
          "metadata": {
            "tags": []
          },
          "execution_count": 21
        }
      ]
    },
    {
      "cell_type": "code",
      "metadata": {
        "id": "X7HYHphnb1Xs"
      },
      "source": [
        "#error fix\n",
        "df_5_group_type.loc['beauty']=df_5_group_type.loc['beauty']+df_5_group_type.loc['화장품']\n",
        "df_5_group_type.drop(index='화장품', inplace=True)"
      ],
      "execution_count": null,
      "outputs": []
    },
    {
      "cell_type": "code",
      "metadata": {
        "id": "nduK9M1ub1Xt",
        "outputId": "559f56c7-4abd-4708-d424-ddfa1e34b5d8"
      },
      "source": [
        "df_5_group_type['replacement_rate']=df_5_group_type['subsidies_income']/df_5_group_type['non_subsidies_income']\n",
        "df_5_group_type.sort_values('replacement_rate',ascending=False)"
      ],
      "execution_count": null,
      "outputs": [
        {
          "output_type": "execute_result",
          "data": {
            "text/html": [
              "<div>\n",
              "<style scoped>\n",
              "    .dataframe tbody tr th:only-of-type {\n",
              "        vertical-align: middle;\n",
              "    }\n",
              "\n",
              "    .dataframe tbody tr th {\n",
              "        vertical-align: top;\n",
              "    }\n",
              "\n",
              "    .dataframe thead th {\n",
              "        text-align: right;\n",
              "    }\n",
              "</style>\n",
              "<table border=\"1\" class=\"dataframe\">\n",
              "  <thead>\n",
              "    <tr style=\"text-align: right;\">\n",
              "      <th></th>\n",
              "      <th>total_income</th>\n",
              "      <th>non_subsidies_income</th>\n",
              "      <th>subsidies_income</th>\n",
              "      <th>replacement_rate</th>\n",
              "    </tr>\n",
              "    <tr>\n",
              "      <th>type</th>\n",
              "      <th></th>\n",
              "      <th></th>\n",
              "      <th></th>\n",
              "      <th></th>\n",
              "    </tr>\n",
              "  </thead>\n",
              "  <tbody>\n",
              "    <tr>\n",
              "      <th>agriculture</th>\n",
              "      <td>6.499023e+06</td>\n",
              "      <td>4.669299e+06</td>\n",
              "      <td>1829724.194</td>\n",
              "      <td>0.391863</td>\n",
              "    </tr>\n",
              "    <tr>\n",
              "      <th>grocery</th>\n",
              "      <td>4.010482e+07</td>\n",
              "      <td>3.236285e+07</td>\n",
              "      <td>7741962.050</td>\n",
              "      <td>0.239224</td>\n",
              "    </tr>\n",
              "    <tr>\n",
              "      <th>housing</th>\n",
              "      <td>1.386279e+06</td>\n",
              "      <td>1.147461e+06</td>\n",
              "      <td>238817.841</td>\n",
              "      <td>0.208127</td>\n",
              "    </tr>\n",
              "    <tr>\n",
              "      <th>beauty</th>\n",
              "      <td>1.099585e+06</td>\n",
              "      <td>9.206987e+05</td>\n",
              "      <td>178886.697</td>\n",
              "      <td>0.194295</td>\n",
              "    </tr>\n",
              "    <tr>\n",
              "      <th>construction</th>\n",
              "      <td>4.322700e+06</td>\n",
              "      <td>3.621635e+06</td>\n",
              "      <td>701065.099</td>\n",
              "      <td>0.193577</td>\n",
              "    </tr>\n",
              "    <tr>\n",
              "      <th>automobile</th>\n",
              "      <td>1.292806e+07</td>\n",
              "      <td>1.091423e+07</td>\n",
              "      <td>2013829.169</td>\n",
              "      <td>0.184514</td>\n",
              "    </tr>\n",
              "    <tr>\n",
              "      <th>medical</th>\n",
              "      <td>1.110183e+07</td>\n",
              "      <td>9.426260e+06</td>\n",
              "      <td>1675572.420</td>\n",
              "      <td>0.177756</td>\n",
              "    </tr>\n",
              "    <tr>\n",
              "      <th>dinning</th>\n",
              "      <td>3.804076e+07</td>\n",
              "      <td>3.264970e+07</td>\n",
              "      <td>5391056.740</td>\n",
              "      <td>0.165118</td>\n",
              "    </tr>\n",
              "    <tr>\n",
              "      <th>service</th>\n",
              "      <td>4.397064e+06</td>\n",
              "      <td>3.777110e+06</td>\n",
              "      <td>619954.400</td>\n",
              "      <td>0.164135</td>\n",
              "    </tr>\n",
              "    <tr>\n",
              "      <th>leisure</th>\n",
              "      <td>9.888990e+06</td>\n",
              "      <td>8.657863e+06</td>\n",
              "      <td>1231127.305</td>\n",
              "      <td>0.142198</td>\n",
              "    </tr>\n",
              "    <tr>\n",
              "      <th>shopping</th>\n",
              "      <td>1.720078e+07</td>\n",
              "      <td>1.565526e+07</td>\n",
              "      <td>1545524.957</td>\n",
              "      <td>0.098722</td>\n",
              "    </tr>\n",
              "    <tr>\n",
              "      <th>education</th>\n",
              "      <td>8.582898e+06</td>\n",
              "      <td>7.907169e+06</td>\n",
              "      <td>675729.007</td>\n",
              "      <td>0.085458</td>\n",
              "    </tr>\n",
              "    <tr>\n",
              "      <th>entertain</th>\n",
              "      <td>1.781099e+06</td>\n",
              "      <td>1.648951e+06</td>\n",
              "      <td>132148.667</td>\n",
              "      <td>0.080141</td>\n",
              "    </tr>\n",
              "    <tr>\n",
              "      <th>liquor</th>\n",
              "      <td>4.620667e+06</td>\n",
              "      <td>4.512095e+06</td>\n",
              "      <td>108571.636</td>\n",
              "      <td>0.024062</td>\n",
              "    </tr>\n",
              "    <tr>\n",
              "      <th>travel</th>\n",
              "      <td>5.990732e+06</td>\n",
              "      <td>5.894607e+06</td>\n",
              "      <td>96124.442</td>\n",
              "      <td>0.016307</td>\n",
              "    </tr>\n",
              "  </tbody>\n",
              "</table>\n",
              "</div>"
            ],
            "text/plain": [
              "              total_income  non_subsidies_income  subsidies_income  \\\n",
              "type                                                                 \n",
              "agriculture   6.499023e+06          4.669299e+06       1829724.194   \n",
              "grocery       4.010482e+07          3.236285e+07       7741962.050   \n",
              "housing       1.386279e+06          1.147461e+06        238817.841   \n",
              "beauty        1.099585e+06          9.206987e+05        178886.697   \n",
              "construction  4.322700e+06          3.621635e+06        701065.099   \n",
              "automobile    1.292806e+07          1.091423e+07       2013829.169   \n",
              "medical       1.110183e+07          9.426260e+06       1675572.420   \n",
              "dinning       3.804076e+07          3.264970e+07       5391056.740   \n",
              "service       4.397064e+06          3.777110e+06        619954.400   \n",
              "leisure       9.888990e+06          8.657863e+06       1231127.305   \n",
              "shopping      1.720078e+07          1.565526e+07       1545524.957   \n",
              "education     8.582898e+06          7.907169e+06        675729.007   \n",
              "entertain     1.781099e+06          1.648951e+06        132148.667   \n",
              "liquor        4.620667e+06          4.512095e+06        108571.636   \n",
              "travel        5.990732e+06          5.894607e+06         96124.442   \n",
              "\n",
              "              replacement_rate  \n",
              "type                            \n",
              "agriculture           0.391863  \n",
              "grocery               0.239224  \n",
              "housing               0.208127  \n",
              "beauty                0.194295  \n",
              "construction          0.193577  \n",
              "automobile            0.184514  \n",
              "medical               0.177756  \n",
              "dinning               0.165118  \n",
              "service               0.164135  \n",
              "leisure               0.142198  \n",
              "shopping              0.098722  \n",
              "education             0.085458  \n",
              "entertain             0.080141  \n",
              "liquor                0.024062  \n",
              "travel                0.016307  "
            ]
          },
          "metadata": {
            "tags": []
          },
          "execution_count": 23
        }
      ]
    },
    {
      "cell_type": "code",
      "metadata": {
        "id": "GCCkUCfpb1Xt"
      },
      "source": [
        ""
      ],
      "execution_count": null,
      "outputs": []
    },
    {
      "cell_type": "code",
      "metadata": {
        "colab": {
          "base_uri": "https://localhost:8080/"
        },
        "id": "QBV-_kbfb1Xt",
        "outputId": "8e97ffe2-2bc0-4829-934e-a682dec1c467"
      },
      "source": [
        "import itertools\n",
        "a=list(itertools.permutations('ABCD', 2))\n",
        "print(a)"
      ],
      "execution_count": null,
      "outputs": [
        {
          "output_type": "stream",
          "text": [
            "[('A', 'B'), ('A', 'C'), ('A', 'D'), ('B', 'A'), ('B', 'C'), ('B', 'D'), ('C', 'A'), ('C', 'B'), ('C', 'D'), ('D', 'A'), ('D', 'B'), ('D', 'C')]\n"
          ],
          "name": "stdout"
        }
      ]
    },
    {
      "cell_type": "code",
      "metadata": {
        "id": "6mPYjCcaoR1G"
      },
      "source": [
        "df = gpd.read_file(gpd.datasets.get_path('nybb'))"
      ],
      "execution_count": null,
      "outputs": []
    },
    {
      "cell_type": "code",
      "metadata": {
        "colab": {
          "base_uri": "https://localhost:8080/",
          "height": 204
        },
        "id": "Rl_8PV3woidb",
        "outputId": "edfc5f6d-9e1b-4d97-df9e-baa3296dce3c"
      },
      "source": [
        "df"
      ],
      "execution_count": null,
      "outputs": [
        {
          "output_type": "execute_result",
          "data": {
            "text/html": [
              "<div>\n",
              "<style scoped>\n",
              "    .dataframe tbody tr th:only-of-type {\n",
              "        vertical-align: middle;\n",
              "    }\n",
              "\n",
              "    .dataframe tbody tr th {\n",
              "        vertical-align: top;\n",
              "    }\n",
              "\n",
              "    .dataframe thead th {\n",
              "        text-align: right;\n",
              "    }\n",
              "</style>\n",
              "<table border=\"1\" class=\"dataframe\">\n",
              "  <thead>\n",
              "    <tr style=\"text-align: right;\">\n",
              "      <th></th>\n",
              "      <th>BoroCode</th>\n",
              "      <th>BoroName</th>\n",
              "      <th>Shape_Leng</th>\n",
              "      <th>Shape_Area</th>\n",
              "      <th>geometry</th>\n",
              "    </tr>\n",
              "  </thead>\n",
              "  <tbody>\n",
              "    <tr>\n",
              "      <th>0</th>\n",
              "      <td>5</td>\n",
              "      <td>Staten Island</td>\n",
              "      <td>330470.010332</td>\n",
              "      <td>1.623820e+09</td>\n",
              "      <td>MULTIPOLYGON (((970217.022 145643.332, 970227....</td>\n",
              "    </tr>\n",
              "    <tr>\n",
              "      <th>1</th>\n",
              "      <td>4</td>\n",
              "      <td>Queens</td>\n",
              "      <td>896344.047763</td>\n",
              "      <td>3.045213e+09</td>\n",
              "      <td>MULTIPOLYGON (((1029606.077 156073.814, 102957...</td>\n",
              "    </tr>\n",
              "    <tr>\n",
              "      <th>2</th>\n",
              "      <td>3</td>\n",
              "      <td>Brooklyn</td>\n",
              "      <td>741080.523166</td>\n",
              "      <td>1.937479e+09</td>\n",
              "      <td>MULTIPOLYGON (((1021176.479 151374.797, 102100...</td>\n",
              "    </tr>\n",
              "    <tr>\n",
              "      <th>3</th>\n",
              "      <td>1</td>\n",
              "      <td>Manhattan</td>\n",
              "      <td>359299.096471</td>\n",
              "      <td>6.364715e+08</td>\n",
              "      <td>MULTIPOLYGON (((981219.056 188655.316, 980940....</td>\n",
              "    </tr>\n",
              "    <tr>\n",
              "      <th>4</th>\n",
              "      <td>2</td>\n",
              "      <td>Bronx</td>\n",
              "      <td>464392.991824</td>\n",
              "      <td>1.186925e+09</td>\n",
              "      <td>MULTIPOLYGON (((1012821.806 229228.265, 101278...</td>\n",
              "    </tr>\n",
              "  </tbody>\n",
              "</table>\n",
              "</div>"
            ],
            "text/plain": [
              "   BoroCode  ...                                           geometry\n",
              "0         5  ...  MULTIPOLYGON (((970217.022 145643.332, 970227....\n",
              "1         4  ...  MULTIPOLYGON (((1029606.077 156073.814, 102957...\n",
              "2         3  ...  MULTIPOLYGON (((1021176.479 151374.797, 102100...\n",
              "3         1  ...  MULTIPOLYGON (((981219.056 188655.316, 980940....\n",
              "4         2  ...  MULTIPOLYGON (((1012821.806 229228.265, 101278...\n",
              "\n",
              "[5 rows x 5 columns]"
            ]
          },
          "metadata": {
            "tags": []
          },
          "execution_count": 30
        }
      ]
    },
    {
      "cell_type": "code",
      "metadata": {
        "colab": {
          "base_uri": "https://localhost:8080/",
          "height": 204
        },
        "id": "sVHUIqtCpD4D",
        "outputId": "2b65eac7-6283-4885-dc54-b0a2633cceaf"
      },
      "source": [
        "import geopandas\n",
        "\n",
        "path_to_data = geopandas.datasets.get_path(\"nybb\")\n",
        "gdf = geopandas.read_file(path_to_data)\n",
        "\n",
        "gdf"
      ],
      "execution_count": null,
      "outputs": [
        {
          "output_type": "execute_result",
          "data": {
            "text/html": [
              "<div>\n",
              "<style scoped>\n",
              "    .dataframe tbody tr th:only-of-type {\n",
              "        vertical-align: middle;\n",
              "    }\n",
              "\n",
              "    .dataframe tbody tr th {\n",
              "        vertical-align: top;\n",
              "    }\n",
              "\n",
              "    .dataframe thead th {\n",
              "        text-align: right;\n",
              "    }\n",
              "</style>\n",
              "<table border=\"1\" class=\"dataframe\">\n",
              "  <thead>\n",
              "    <tr style=\"text-align: right;\">\n",
              "      <th></th>\n",
              "      <th>BoroCode</th>\n",
              "      <th>BoroName</th>\n",
              "      <th>Shape_Leng</th>\n",
              "      <th>Shape_Area</th>\n",
              "      <th>geometry</th>\n",
              "    </tr>\n",
              "  </thead>\n",
              "  <tbody>\n",
              "    <tr>\n",
              "      <th>0</th>\n",
              "      <td>5</td>\n",
              "      <td>Staten Island</td>\n",
              "      <td>330470.010332</td>\n",
              "      <td>1.623820e+09</td>\n",
              "      <td>MULTIPOLYGON (((970217.022 145643.332, 970227....</td>\n",
              "    </tr>\n",
              "    <tr>\n",
              "      <th>1</th>\n",
              "      <td>4</td>\n",
              "      <td>Queens</td>\n",
              "      <td>896344.047763</td>\n",
              "      <td>3.045213e+09</td>\n",
              "      <td>MULTIPOLYGON (((1029606.077 156073.814, 102957...</td>\n",
              "    </tr>\n",
              "    <tr>\n",
              "      <th>2</th>\n",
              "      <td>3</td>\n",
              "      <td>Brooklyn</td>\n",
              "      <td>741080.523166</td>\n",
              "      <td>1.937479e+09</td>\n",
              "      <td>MULTIPOLYGON (((1021176.479 151374.797, 102100...</td>\n",
              "    </tr>\n",
              "    <tr>\n",
              "      <th>3</th>\n",
              "      <td>1</td>\n",
              "      <td>Manhattan</td>\n",
              "      <td>359299.096471</td>\n",
              "      <td>6.364715e+08</td>\n",
              "      <td>MULTIPOLYGON (((981219.056 188655.316, 980940....</td>\n",
              "    </tr>\n",
              "    <tr>\n",
              "      <th>4</th>\n",
              "      <td>2</td>\n",
              "      <td>Bronx</td>\n",
              "      <td>464392.991824</td>\n",
              "      <td>1.186925e+09</td>\n",
              "      <td>MULTIPOLYGON (((1012821.806 229228.265, 101278...</td>\n",
              "    </tr>\n",
              "  </tbody>\n",
              "</table>\n",
              "</div>"
            ],
            "text/plain": [
              "   BoroCode  ...                                           geometry\n",
              "0         5  ...  MULTIPOLYGON (((970217.022 145643.332, 970227....\n",
              "1         4  ...  MULTIPOLYGON (((1029606.077 156073.814, 102957...\n",
              "2         3  ...  MULTIPOLYGON (((1021176.479 151374.797, 102100...\n",
              "3         1  ...  MULTIPOLYGON (((981219.056 188655.316, 980940....\n",
              "4         2  ...  MULTIPOLYGON (((1012821.806 229228.265, 101278...\n",
              "\n",
              "[5 rows x 5 columns]"
            ]
          },
          "metadata": {
            "tags": []
          },
          "execution_count": 61
        }
      ]
    },
    {
      "cell_type": "code",
      "metadata": {
        "id": "eMSpnn0sps_a"
      },
      "source": [
        "gdf = gdf.set_index(\"BoroName\")"
      ],
      "execution_count": null,
      "outputs": []
    },
    {
      "cell_type": "code",
      "metadata": {
        "colab": {
          "base_uri": "https://localhost:8080/",
          "height": 235
        },
        "id": "53FYyBgOwjXB",
        "outputId": "dbcc96a2-0faf-45ca-bd85-ac3149113e24"
      },
      "source": [
        "gdf"
      ],
      "execution_count": null,
      "outputs": [
        {
          "output_type": "execute_result",
          "data": {
            "text/html": [
              "<div>\n",
              "<style scoped>\n",
              "    .dataframe tbody tr th:only-of-type {\n",
              "        vertical-align: middle;\n",
              "    }\n",
              "\n",
              "    .dataframe tbody tr th {\n",
              "        vertical-align: top;\n",
              "    }\n",
              "\n",
              "    .dataframe thead th {\n",
              "        text-align: right;\n",
              "    }\n",
              "</style>\n",
              "<table border=\"1\" class=\"dataframe\">\n",
              "  <thead>\n",
              "    <tr style=\"text-align: right;\">\n",
              "      <th></th>\n",
              "      <th>BoroCode</th>\n",
              "      <th>Shape_Leng</th>\n",
              "      <th>Shape_Area</th>\n",
              "      <th>geometry</th>\n",
              "    </tr>\n",
              "    <tr>\n",
              "      <th>BoroName</th>\n",
              "      <th></th>\n",
              "      <th></th>\n",
              "      <th></th>\n",
              "      <th></th>\n",
              "    </tr>\n",
              "  </thead>\n",
              "  <tbody>\n",
              "    <tr>\n",
              "      <th>Staten Island</th>\n",
              "      <td>5</td>\n",
              "      <td>330470.010332</td>\n",
              "      <td>1.623820e+09</td>\n",
              "      <td>MULTIPOLYGON (((970217.022 145643.332, 970227....</td>\n",
              "    </tr>\n",
              "    <tr>\n",
              "      <th>Queens</th>\n",
              "      <td>4</td>\n",
              "      <td>896344.047763</td>\n",
              "      <td>3.045213e+09</td>\n",
              "      <td>MULTIPOLYGON (((1029606.077 156073.814, 102957...</td>\n",
              "    </tr>\n",
              "    <tr>\n",
              "      <th>Brooklyn</th>\n",
              "      <td>3</td>\n",
              "      <td>741080.523166</td>\n",
              "      <td>1.937479e+09</td>\n",
              "      <td>MULTIPOLYGON (((1021176.479 151374.797, 102100...</td>\n",
              "    </tr>\n",
              "    <tr>\n",
              "      <th>Manhattan</th>\n",
              "      <td>1</td>\n",
              "      <td>359299.096471</td>\n",
              "      <td>6.364715e+08</td>\n",
              "      <td>MULTIPOLYGON (((981219.056 188655.316, 980940....</td>\n",
              "    </tr>\n",
              "    <tr>\n",
              "      <th>Bronx</th>\n",
              "      <td>2</td>\n",
              "      <td>464392.991824</td>\n",
              "      <td>1.186925e+09</td>\n",
              "      <td>MULTIPOLYGON (((1012821.806 229228.265, 101278...</td>\n",
              "    </tr>\n",
              "  </tbody>\n",
              "</table>\n",
              "</div>"
            ],
            "text/plain": [
              "               BoroCode  ...                                           geometry\n",
              "BoroName                 ...                                                   \n",
              "Staten Island         5  ...  MULTIPOLYGON (((970217.022 145643.332, 970227....\n",
              "Queens                4  ...  MULTIPOLYGON (((1029606.077 156073.814, 102957...\n",
              "Brooklyn              3  ...  MULTIPOLYGON (((1021176.479 151374.797, 102100...\n",
              "Manhattan             1  ...  MULTIPOLYGON (((981219.056 188655.316, 980940....\n",
              "Bronx                 2  ...  MULTIPOLYGON (((1012821.806 229228.265, 101278...\n",
              "\n",
              "[5 rows x 4 columns]"
            ]
          },
          "metadata": {
            "tags": []
          },
          "execution_count": 63
        }
      ]
    },
    {
      "cell_type": "code",
      "metadata": {
        "id": "GYe4NaiQwkqC"
      },
      "source": [
        "a=gdf.boundary"
      ],
      "execution_count": null,
      "outputs": []
    },
    {
      "cell_type": "code",
      "metadata": {
        "colab": {
          "base_uri": "https://localhost:8080/"
        },
        "id": "d5zaEf3ywod8",
        "outputId": "3989fbf6-b342-4edb-c947-fb1517a9c38e"
      },
      "source": [
        "a"
      ],
      "execution_count": null,
      "outputs": [
        {
          "output_type": "execute_result",
          "data": {
            "text/plain": [
              "BoroName\n",
              "Staten Island    MULTILINESTRING ((970217.022 145643.332, 97022...\n",
              "Queens           MULTILINESTRING ((1029606.077 156073.814, 1029...\n",
              "Brooklyn         MULTILINESTRING ((1021176.479 151374.797, 1021...\n",
              "Manhattan        MULTILINESTRING ((981219.056 188655.316, 98094...\n",
              "Bronx            MULTILINESTRING ((1012821.806 229228.265, 1012...\n",
              "dtype: geometry"
            ]
          },
          "metadata": {
            "tags": []
          },
          "execution_count": 65
        }
      ]
    },
    {
      "cell_type": "code",
      "metadata": {
        "id": "TdV3aIFiwo8_"
      },
      "source": [
        ""
      ],
      "execution_count": null,
      "outputs": []
    },
    {
      "cell_type": "code",
      "metadata": {
        "id": "EfJdD0GA_2ez"
      },
      "source": [
        ""
      ],
      "execution_count": null,
      "outputs": []
    }
  ]
}