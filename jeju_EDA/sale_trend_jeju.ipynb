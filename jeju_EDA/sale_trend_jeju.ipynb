{
  "nbformat": 4,
  "nbformat_minor": 0,
  "metadata": {
    "kernelspec": {
      "display_name": "Python 3",
      "language": "python",
      "name": "python3"
    },
    "language_info": {
      "codemirror_mode": {
        "name": "ipython",
        "version": 3
      },
      "file_extension": ".py",
      "mimetype": "text/x-python",
      "name": "python",
      "nbconvert_exporter": "python",
      "pygments_lexer": "ipython3",
      "version": "3.8.5"
    },
    "toc": {
      "base_numbering": 1,
      "nav_menu": {},
      "number_sections": true,
      "sideBar": true,
      "skip_h1_title": false,
      "title_cell": "Table of Contents",
      "title_sidebar": "Contents",
      "toc_cell": false,
      "toc_position": {},
      "toc_section_display": true,
      "toc_window_display": false
    },
    "varInspector": {
      "cols": {
        "lenName": 16,
        "lenType": 16,
        "lenVar": 40
      },
      "kernels_config": {
        "python": {
          "delete_cmd_postfix": "",
          "delete_cmd_prefix": "del ",
          "library": "var_list.py",
          "varRefreshCmd": "print(var_dic_list())"
        },
        "r": {
          "delete_cmd_postfix": ") ",
          "delete_cmd_prefix": "rm(",
          "library": "var_list.r",
          "varRefreshCmd": "cat(var_dic_list()) "
        }
      },
      "types_to_exclude": [
        "module",
        "function",
        "builtin_function_or_method",
        "instance",
        "_Feature"
      ],
      "window_display": false
    },
    "colab": {
      "name": "sale_trend_jeju.ipynb",
      "provenance": [],
      "collapsed_sections": [],
      "include_colab_link": true
    }
  },
  "cells": [
    {
      "cell_type": "markdown",
      "metadata": {
        "id": "view-in-github",
        "colab_type": "text"
      },
      "source": [
        "<a href=\"https://colab.research.google.com/github/yeonghwanchoi/EDA/blob/master/jeju_EDA/sale_trend_jeju.ipynb\" target=\"_parent\"><img src=\"https://colab.research.google.com/assets/colab-badge.svg\" alt=\"Open In Colab\"/></a>"
      ]
    },
    {
      "cell_type": "code",
      "metadata": {
        "id": "jciZoa3YUjjz"
      },
      "source": [
        ""
      ],
      "execution_count": null,
      "outputs": []
    },
    {
      "cell_type": "code",
      "metadata": {
        "id": "2T0HsIYGb1Xh",
        "colab": {
          "base_uri": "https://localhost:8080/"
        },
        "outputId": "948d5d81-e225-436f-fc89-14820c33d0a2"
      },
      "source": [
        "# Important library for many geopython libraries\n",
        "!apt install gdal-bin python-gdal python3-gdal \n",
        "# Install rtree - Geopandas requirment\n",
        "!apt install python3-rtree \n",
        "# Install Geopandas\n",
        "!pip install git+git://github.com/geopandas/geopandas.git\n",
        "# Install descartes - Geopandas requirment\n",
        "!pip install descartes \n",
        "# Install Folium for Geographic data visualization\n",
        "!pip install folium\n",
        "# Install plotlyExpress\n",
        "!pip install plotly_express"
      ],
      "execution_count": 1,
      "outputs": [
        {
          "output_type": "stream",
          "text": [
            "Reading package lists... Done\n",
            "Building dependency tree       \n",
            "Reading state information... Done\n",
            "gdal-bin is already the newest version (2.2.3+dfsg-2).\n",
            "python-gdal is already the newest version (2.2.3+dfsg-2).\n",
            "The following additional packages will be installed:\n",
            "  python3-numpy\n",
            "Suggested packages:\n",
            "  python-numpy-doc python3-nose python3-numpy-dbg\n",
            "The following NEW packages will be installed:\n",
            "  python3-gdal python3-numpy\n",
            "0 upgraded, 2 newly installed, 0 to remove and 39 not upgraded.\n",
            "Need to get 2,288 kB of archives.\n",
            "After this operation, 13.2 MB of additional disk space will be used.\n",
            "Get:1 http://archive.ubuntu.com/ubuntu bionic/main amd64 python3-numpy amd64 1:1.13.3-2ubuntu1 [1,943 kB]\n",
            "Get:2 http://archive.ubuntu.com/ubuntu bionic/universe amd64 python3-gdal amd64 2.2.3+dfsg-2 [346 kB]\n",
            "Fetched 2,288 kB in 2s (956 kB/s)\n",
            "Selecting previously unselected package python3-numpy.\n",
            "(Reading database ... 160772 files and directories currently installed.)\n",
            "Preparing to unpack .../python3-numpy_1%3a1.13.3-2ubuntu1_amd64.deb ...\n",
            "Unpacking python3-numpy (1:1.13.3-2ubuntu1) ...\n",
            "Selecting previously unselected package python3-gdal.\n",
            "Preparing to unpack .../python3-gdal_2.2.3+dfsg-2_amd64.deb ...\n",
            "Unpacking python3-gdal (2.2.3+dfsg-2) ...\n",
            "Setting up python3-numpy (1:1.13.3-2ubuntu1) ...\n",
            "Setting up python3-gdal (2.2.3+dfsg-2) ...\n",
            "Processing triggers for man-db (2.8.3-2ubuntu0.1) ...\n",
            "Reading package lists... Done\n",
            "Building dependency tree       \n",
            "Reading state information... Done\n",
            "The following additional packages will be installed:\n",
            "  libspatialindex-c4v5 libspatialindex-dev libspatialindex4v5\n",
            "  python3-pkg-resources\n",
            "Suggested packages:\n",
            "  python3-setuptools\n",
            "The following NEW packages will be installed:\n",
            "  libspatialindex-c4v5 libspatialindex-dev libspatialindex4v5\n",
            "  python3-pkg-resources python3-rtree\n",
            "0 upgraded, 5 newly installed, 0 to remove and 39 not upgraded.\n",
            "Need to get 671 kB of archives.\n",
            "After this operation, 3,948 kB of additional disk space will be used.\n",
            "Get:1 http://archive.ubuntu.com/ubuntu bionic/universe amd64 libspatialindex4v5 amd64 1.8.5-5 [219 kB]\n",
            "Get:2 http://archive.ubuntu.com/ubuntu bionic/universe amd64 libspatialindex-c4v5 amd64 1.8.5-5 [51.7 kB]\n",
            "Get:3 http://archive.ubuntu.com/ubuntu bionic/main amd64 python3-pkg-resources all 39.0.1-2 [98.8 kB]\n",
            "Get:4 http://archive.ubuntu.com/ubuntu bionic/universe amd64 libspatialindex-dev amd64 1.8.5-5 [285 kB]\n",
            "Get:5 http://archive.ubuntu.com/ubuntu bionic/universe amd64 python3-rtree all 0.8.3+ds-1 [16.9 kB]\n",
            "Fetched 671 kB in 2s (302 kB/s)\n",
            "Selecting previously unselected package libspatialindex4v5:amd64.\n",
            "(Reading database ... 161182 files and directories currently installed.)\n",
            "Preparing to unpack .../libspatialindex4v5_1.8.5-5_amd64.deb ...\n",
            "Unpacking libspatialindex4v5:amd64 (1.8.5-5) ...\n",
            "Selecting previously unselected package libspatialindex-c4v5:amd64.\n",
            "Preparing to unpack .../libspatialindex-c4v5_1.8.5-5_amd64.deb ...\n",
            "Unpacking libspatialindex-c4v5:amd64 (1.8.5-5) ...\n",
            "Selecting previously unselected package python3-pkg-resources.\n",
            "Preparing to unpack .../python3-pkg-resources_39.0.1-2_all.deb ...\n",
            "Unpacking python3-pkg-resources (39.0.1-2) ...\n",
            "Selecting previously unselected package libspatialindex-dev:amd64.\n",
            "Preparing to unpack .../libspatialindex-dev_1.8.5-5_amd64.deb ...\n",
            "Unpacking libspatialindex-dev:amd64 (1.8.5-5) ...\n",
            "Selecting previously unselected package python3-rtree.\n",
            "Preparing to unpack .../python3-rtree_0.8.3+ds-1_all.deb ...\n",
            "Unpacking python3-rtree (0.8.3+ds-1) ...\n",
            "Setting up libspatialindex4v5:amd64 (1.8.5-5) ...\n",
            "Setting up python3-pkg-resources (39.0.1-2) ...\n",
            "Setting up libspatialindex-c4v5:amd64 (1.8.5-5) ...\n",
            "Setting up libspatialindex-dev:amd64 (1.8.5-5) ...\n",
            "Setting up python3-rtree (0.8.3+ds-1) ...\n",
            "Processing triggers for libc-bin (2.27-3ubuntu1.2) ...\n",
            "/sbin/ldconfig.real: /usr/local/lib/python3.7/dist-packages/ideep4py/lib/libmkldnn.so.0 is not a symbolic link\n",
            "\n",
            "Collecting git+git://github.com/geopandas/geopandas.git\n",
            "  Cloning git://github.com/geopandas/geopandas.git to /tmp/pip-req-build-qfy5dccq\n",
            "  Running command git clone -q git://github.com/geopandas/geopandas.git /tmp/pip-req-build-qfy5dccq\n",
            "Requirement already satisfied: pandas>=0.24.0 in /usr/local/lib/python3.7/dist-packages (from geopandas==0.9.0+36.gcb88dd4) (1.1.5)\n",
            "Requirement already satisfied: shapely>=1.6 in /usr/local/lib/python3.7/dist-packages (from geopandas==0.9.0+36.gcb88dd4) (1.7.1)\n",
            "Collecting fiona>=1.8\n",
            "\u001b[?25l  Downloading https://files.pythonhosted.org/packages/9c/fc/9807326c37a6bfb2393ae3e1cca147aa74844562c4d5daa782d6e97ad2bc/Fiona-1.8.20-cp37-cp37m-manylinux1_x86_64.whl (15.4MB)\n",
            "\u001b[K     |████████████████████████████████| 15.4MB 196kB/s \n",
            "\u001b[?25hCollecting pyproj>=2.2.0\n",
            "\u001b[?25l  Downloading https://files.pythonhosted.org/packages/11/1d/1c54c672c2faf08d28fe78e15d664c048f786225bef95ad87b6c435cf69e/pyproj-3.1.0-cp37-cp37m-manylinux2010_x86_64.whl (6.6MB)\n",
            "\u001b[K     |████████████████████████████████| 6.6MB 16.9MB/s \n",
            "\u001b[?25hRequirement already satisfied: pytz>=2017.2 in /usr/local/lib/python3.7/dist-packages (from pandas>=0.24.0->geopandas==0.9.0+36.gcb88dd4) (2018.9)\n",
            "Requirement already satisfied: python-dateutil>=2.7.3 in /usr/local/lib/python3.7/dist-packages (from pandas>=0.24.0->geopandas==0.9.0+36.gcb88dd4) (2.8.1)\n",
            "Requirement already satisfied: numpy>=1.15.4 in /usr/local/lib/python3.7/dist-packages (from pandas>=0.24.0->geopandas==0.9.0+36.gcb88dd4) (1.19.5)\n",
            "Collecting cligj>=0.5\n",
            "  Downloading https://files.pythonhosted.org/packages/73/86/43fa9f15c5b9fb6e82620428827cd3c284aa933431405d1bcf5231ae3d3e/cligj-0.7.2-py3-none-any.whl\n",
            "Requirement already satisfied: attrs>=17 in /usr/local/lib/python3.7/dist-packages (from fiona>=1.8->geopandas==0.9.0+36.gcb88dd4) (21.2.0)\n",
            "Requirement already satisfied: six>=1.7 in /usr/local/lib/python3.7/dist-packages (from fiona>=1.8->geopandas==0.9.0+36.gcb88dd4) (1.15.0)\n",
            "Requirement already satisfied: certifi in /usr/local/lib/python3.7/dist-packages (from fiona>=1.8->geopandas==0.9.0+36.gcb88dd4) (2021.5.30)\n",
            "Requirement already satisfied: setuptools in /usr/local/lib/python3.7/dist-packages (from fiona>=1.8->geopandas==0.9.0+36.gcb88dd4) (57.0.0)\n",
            "Collecting click-plugins>=1.0\n",
            "  Downloading https://files.pythonhosted.org/packages/e9/da/824b92d9942f4e472702488857914bdd50f73021efea15b4cad9aca8ecef/click_plugins-1.1.1-py2.py3-none-any.whl\n",
            "Requirement already satisfied: click>=4.0 in /usr/local/lib/python3.7/dist-packages (from fiona>=1.8->geopandas==0.9.0+36.gcb88dd4) (7.1.2)\n",
            "Collecting munch\n",
            "  Downloading https://files.pythonhosted.org/packages/cc/ab/85d8da5c9a45e072301beb37ad7f833cd344e04c817d97e0cc75681d248f/munch-2.5.0-py2.py3-none-any.whl\n",
            "Building wheels for collected packages: geopandas\n",
            "  Building wheel for geopandas (setup.py) ... \u001b[?25l\u001b[?25hdone\n",
            "  Created wheel for geopandas: filename=geopandas-0.9.0+36.gcb88dd4-py2.py3-none-any.whl size=996489 sha256=fa55d1e39f559012f3c9eb77bc77203c6b5a1f46f0de962864bc57fd41728510\n",
            "  Stored in directory: /tmp/pip-ephem-wheel-cache-_4mbv08v/wheels/91/24/71/376c9c67192694168352afcccc2d264248f7e2cc6192997186\n",
            "Successfully built geopandas\n",
            "Installing collected packages: cligj, click-plugins, munch, fiona, pyproj, geopandas\n",
            "Successfully installed click-plugins-1.1.1 cligj-0.7.2 fiona-1.8.20 geopandas-0.9.0+36.gcb88dd4 munch-2.5.0 pyproj-3.1.0\n",
            "Requirement already satisfied: descartes in /usr/local/lib/python3.7/dist-packages (1.1.0)\n",
            "Requirement already satisfied: matplotlib in /usr/local/lib/python3.7/dist-packages (from descartes) (3.2.2)\n",
            "Requirement already satisfied: python-dateutil>=2.1 in /usr/local/lib/python3.7/dist-packages (from matplotlib->descartes) (2.8.1)\n",
            "Requirement already satisfied: pyparsing!=2.0.4,!=2.1.2,!=2.1.6,>=2.0.1 in /usr/local/lib/python3.7/dist-packages (from matplotlib->descartes) (2.4.7)\n",
            "Requirement already satisfied: kiwisolver>=1.0.1 in /usr/local/lib/python3.7/dist-packages (from matplotlib->descartes) (1.3.1)\n",
            "Requirement already satisfied: numpy>=1.11 in /usr/local/lib/python3.7/dist-packages (from matplotlib->descartes) (1.19.5)\n",
            "Requirement already satisfied: cycler>=0.10 in /usr/local/lib/python3.7/dist-packages (from matplotlib->descartes) (0.10.0)\n",
            "Requirement already satisfied: six>=1.5 in /usr/local/lib/python3.7/dist-packages (from python-dateutil>=2.1->matplotlib->descartes) (1.15.0)\n",
            "Requirement already satisfied: folium in /usr/local/lib/python3.7/dist-packages (0.8.3)\n",
            "Requirement already satisfied: requests in /usr/local/lib/python3.7/dist-packages (from folium) (2.23.0)\n",
            "Requirement already satisfied: six in /usr/local/lib/python3.7/dist-packages (from folium) (1.15.0)\n",
            "Requirement already satisfied: branca>=0.3.0 in /usr/local/lib/python3.7/dist-packages (from folium) (0.4.2)\n",
            "Requirement already satisfied: jinja2 in /usr/local/lib/python3.7/dist-packages (from folium) (2.11.3)\n",
            "Requirement already satisfied: numpy in /usr/local/lib/python3.7/dist-packages (from folium) (1.19.5)\n",
            "Requirement already satisfied: urllib3!=1.25.0,!=1.25.1,<1.26,>=1.21.1 in /usr/local/lib/python3.7/dist-packages (from requests->folium) (1.24.3)\n",
            "Requirement already satisfied: chardet<4,>=3.0.2 in /usr/local/lib/python3.7/dist-packages (from requests->folium) (3.0.4)\n",
            "Requirement already satisfied: certifi>=2017.4.17 in /usr/local/lib/python3.7/dist-packages (from requests->folium) (2021.5.30)\n",
            "Requirement already satisfied: idna<3,>=2.5 in /usr/local/lib/python3.7/dist-packages (from requests->folium) (2.10)\n",
            "Requirement already satisfied: MarkupSafe>=0.23 in /usr/local/lib/python3.7/dist-packages (from jinja2->folium) (2.0.1)\n",
            "Collecting plotly_express\n",
            "  Downloading https://files.pythonhosted.org/packages/d4/d6/8a2906f51e073a4be80cab35cfa10e7a34853e60f3ed5304ac470852a08d/plotly_express-0.4.1-py2.py3-none-any.whl\n",
            "Requirement already satisfied: statsmodels>=0.9.0 in /usr/local/lib/python3.7/dist-packages (from plotly_express) (0.10.2)\n",
            "Requirement already satisfied: plotly>=4.1.0 in /usr/local/lib/python3.7/dist-packages (from plotly_express) (4.4.1)\n",
            "Requirement already satisfied: scipy>=0.18 in /usr/local/lib/python3.7/dist-packages (from plotly_express) (1.4.1)\n",
            "Requirement already satisfied: pandas>=0.20.0 in /usr/local/lib/python3.7/dist-packages (from plotly_express) (1.1.5)\n",
            "Requirement already satisfied: patsy>=0.5 in /usr/local/lib/python3.7/dist-packages (from plotly_express) (0.5.1)\n",
            "Requirement already satisfied: numpy>=1.11 in /usr/local/lib/python3.7/dist-packages (from plotly_express) (1.19.5)\n",
            "Requirement already satisfied: six in /usr/local/lib/python3.7/dist-packages (from plotly>=4.1.0->plotly_express) (1.15.0)\n",
            "Requirement already satisfied: retrying>=1.3.3 in /usr/local/lib/python3.7/dist-packages (from plotly>=4.1.0->plotly_express) (1.3.3)\n",
            "Requirement already satisfied: pytz>=2017.2 in /usr/local/lib/python3.7/dist-packages (from pandas>=0.20.0->plotly_express) (2018.9)\n",
            "Requirement already satisfied: python-dateutil>=2.7.3 in /usr/local/lib/python3.7/dist-packages (from pandas>=0.20.0->plotly_express) (2.8.1)\n",
            "Installing collected packages: plotly-express\n",
            "Successfully installed plotly-express-0.4.1\n"
          ],
          "name": "stdout"
        }
      ]
    },
    {
      "cell_type": "code",
      "metadata": {
        "id": "JEV-HtUhb1Xj"
      },
      "source": [
        "# government aid to jeju island  "
      ],
      "execution_count": 2,
      "outputs": []
    },
    {
      "cell_type": "code",
      "metadata": {
        "id": "3NX6bhL5b1Xk"
      },
      "source": [
        "# 1. data preprocessing"
      ],
      "execution_count": 3,
      "outputs": []
    },
    {
      "cell_type": "code",
      "metadata": {
        "colab": {
          "base_uri": "https://localhost:8080/"
        },
        "id": "L3bJjvpyb1Xk",
        "outputId": "19d56da3-f213-414d-8238-3c016eca7470"
      },
      "source": [
        "#data load\n",
        "\n",
        "from google.colab import drive\n",
        "drive.mount('/content/drive')\n",
        "\n",
        "import warnings\n",
        "warnings.filterwarnings(action='ignore')\n",
        "\n",
        "import numpy as np\n",
        "import pandas as pd\n",
        "\n",
        "import matplotlib.pyplot as plt\n",
        "import matplotlib as mpl\n",
        "import seaborn as sns\n",
        "\n",
        "plt.rc('font', family='AppleGothic')\n",
        "\n",
        "import folium \n",
        "import geopandas as gpd\n",
        "from IPython.display import Image\n",
        "\n",
        "import tqdm # progress bar \n",
        "import os, sys\n",
        "\n",
        "from scipy.spatial import distance\n",
        "from sklearn.cluster import AgglomerativeClustering\n",
        "\n"
      ],
      "execution_count": 4,
      "outputs": [
        {
          "output_type": "stream",
          "text": [
            "Mounted at /content/drive\n"
          ],
          "name": "stdout"
        }
      ]
    },
    {
      "cell_type": "code",
      "metadata": {
        "id": "SHLLguZZb1Xm"
      },
      "source": [
        "path = '/content/drive/MyDrive/colab/jeju/data/'\n",
        "data5= pd.read_csv(os.path.join(path,'KRI-DAC_Jeju_data5.txt'))\n",
        "data6= pd.read_csv(os.path.join(path,'KRI-DAC_Jeju_data6.txt'))\n",
        "data7= pd.read_csv(os.path.join(path,'KRI-DAC_Jeju_data7.txt'))\n",
        "data8= pd.read_csv(os.path.join(path,'KRI-DAC_Jeju_data8.txt'))\n",
        "\n",
        "\n",
        "df = pd.concat([data5, data6, data7, data8]).drop(['X','Y'], axis=1).reset_index(drop=True)\n",
        "df.columns=df.columns.str.lower()"
      ],
      "execution_count": 5,
      "outputs": []
    },
    {
      "cell_type": "code",
      "metadata": {
        "colab": {
          "base_uri": "https://localhost:8080/",
          "height": 479
        },
        "id": "cCSkVT7ab1Xm",
        "outputId": "239ed7a7-708c-4d27-8c5b-95611ca9b0cc"
      },
      "source": [
        "df.head()"
      ],
      "execution_count": 7,
      "outputs": [
        {
          "output_type": "execute_result",
          "data": {
            "text/html": [
              "<div>\n",
              "<style scoped>\n",
              "    .dataframe tbody tr th:only-of-type {\n",
              "        vertical-align: middle;\n",
              "    }\n",
              "\n",
              "    .dataframe tbody tr th {\n",
              "        vertical-align: top;\n",
              "    }\n",
              "\n",
              "    .dataframe thead th {\n",
              "        text-align: right;\n",
              "    }\n",
              "</style>\n",
              "<table border=\"1\" class=\"dataframe\">\n",
              "  <thead>\n",
              "    <tr style=\"text-align: right;\">\n",
              "      <th></th>\n",
              "      <th>objectid</th>\n",
              "      <th>field1</th>\n",
              "      <th>ym</th>\n",
              "      <th>sido</th>\n",
              "      <th>sigungu</th>\n",
              "      <th>franclass</th>\n",
              "      <th>type</th>\n",
              "      <th>time</th>\n",
              "      <th>totalspent</th>\n",
              "      <th>disspent</th>\n",
              "      <th>numofspent</th>\n",
              "      <th>numofdisspent</th>\n",
              "      <th>point_x</th>\n",
              "      <th>point_y</th>\n",
              "    </tr>\n",
              "  </thead>\n",
              "  <tbody>\n",
              "    <tr>\n",
              "      <th>0</th>\n",
              "      <td>1</td>\n",
              "      <td>1</td>\n",
              "      <td>202005</td>\n",
              "      <td>제주특별자치도</td>\n",
              "      <td>제주시</td>\n",
              "      <td>영세</td>\n",
              "      <td>일반한식</td>\n",
              "      <td>00시</td>\n",
              "      <td>363000</td>\n",
              "      <td>66500</td>\n",
              "      <td>10</td>\n",
              "      <td>2</td>\n",
              "      <td>877005.9834</td>\n",
              "      <td>1.479766e+06</td>\n",
              "    </tr>\n",
              "    <tr>\n",
              "      <th>1</th>\n",
              "      <td>2</td>\n",
              "      <td>2</td>\n",
              "      <td>202005</td>\n",
              "      <td>제주특별자치도</td>\n",
              "      <td>제주시</td>\n",
              "      <td>영세</td>\n",
              "      <td>단란주점</td>\n",
              "      <td>00시</td>\n",
              "      <td>1180000</td>\n",
              "      <td>0</td>\n",
              "      <td>3</td>\n",
              "      <td>0</td>\n",
              "      <td>877005.7447</td>\n",
              "      <td>1.479816e+06</td>\n",
              "    </tr>\n",
              "    <tr>\n",
              "      <th>2</th>\n",
              "      <td>3</td>\n",
              "      <td>3</td>\n",
              "      <td>202005</td>\n",
              "      <td>제주특별자치도</td>\n",
              "      <td>제주시</td>\n",
              "      <td>중소1</td>\n",
              "      <td>편의점</td>\n",
              "      <td>00시</td>\n",
              "      <td>157670</td>\n",
              "      <td>6850</td>\n",
              "      <td>20</td>\n",
              "      <td>2</td>\n",
              "      <td>877056.6756</td>\n",
              "      <td>1.479616e+06</td>\n",
              "    </tr>\n",
              "    <tr>\n",
              "      <th>3</th>\n",
              "      <td>4</td>\n",
              "      <td>4</td>\n",
              "      <td>202005</td>\n",
              "      <td>제주특별자치도</td>\n",
              "      <td>제주시</td>\n",
              "      <td>영세</td>\n",
              "      <td>편의점</td>\n",
              "      <td>00시</td>\n",
              "      <td>46600</td>\n",
              "      <td>0</td>\n",
              "      <td>2</td>\n",
              "      <td>0</td>\n",
              "      <td>877055.9593</td>\n",
              "      <td>1.479766e+06</td>\n",
              "    </tr>\n",
              "    <tr>\n",
              "      <th>4</th>\n",
              "      <td>5</td>\n",
              "      <td>5</td>\n",
              "      <td>202005</td>\n",
              "      <td>제주특별자치도</td>\n",
              "      <td>제주시</td>\n",
              "      <td>영세</td>\n",
              "      <td>주점</td>\n",
              "      <td>00시</td>\n",
              "      <td>66000</td>\n",
              "      <td>0</td>\n",
              "      <td>2</td>\n",
              "      <td>0</td>\n",
              "      <td>877055.4817</td>\n",
              "      <td>1.479866e+06</td>\n",
              "    </tr>\n",
              "  </tbody>\n",
              "</table>\n",
              "</div>"
            ],
            "text/plain": [
              "   objectid  field1      ym  ... numofdisspent      point_x       point_y\n",
              "0         1       1  202005  ...             2  877005.9834  1.479766e+06\n",
              "1         2       2  202005  ...             0  877005.7447  1.479816e+06\n",
              "2         3       3  202005  ...             2  877056.6756  1.479616e+06\n",
              "3         4       4  202005  ...             0  877055.9593  1.479766e+06\n",
              "4         5       5  202005  ...             0  877055.4817  1.479866e+06\n",
              "\n",
              "[5 rows x 14 columns]"
            ]
          },
          "metadata": {
            "tags": []
          },
          "execution_count": 7
        }
      ]
    },
    {
      "cell_type": "code",
      "metadata": {
        "colab": {
          "base_uri": "https://localhost:8080/"
        },
        "id": "jvofBESihNKi",
        "outputId": "d23b6df3-22b3-4844-c5f6-441c7a1064ac"
      },
      "source": [
        "df.info()"
      ],
      "execution_count": 8,
      "outputs": [
        {
          "output_type": "stream",
          "text": [
            "<class 'pandas.core.frame.DataFrame'>\n",
            "RangeIndex: 1119429 entries, 0 to 1119428\n",
            "Data columns (total 14 columns):\n",
            " #   Column         Non-Null Count    Dtype  \n",
            "---  ------         --------------    -----  \n",
            " 0   objectid       1119429 non-null  int64  \n",
            " 1   field1         1119429 non-null  int64  \n",
            " 2   ym             1119429 non-null  int64  \n",
            " 3   sido           1119429 non-null  object \n",
            " 4   sigungu        1119429 non-null  object \n",
            " 5   franclass      1119429 non-null  object \n",
            " 6   type           1119429 non-null  object \n",
            " 7   time           1119429 non-null  object \n",
            " 8   totalspent     1119429 non-null  int64  \n",
            " 9   disspent       1119429 non-null  int64  \n",
            " 10  numofspent     1119429 non-null  int64  \n",
            " 11  numofdisspent  1119429 non-null  int64  \n",
            " 12  point_x        1119429 non-null  float64\n",
            " 13  point_y        1119429 non-null  float64\n",
            "dtypes: float64(2), int64(7), object(5)\n",
            "memory usage: 119.6+ MB\n"
          ],
          "name": "stdout"
        }
      ]
    },
    {
      "cell_type": "code",
      "metadata": {
        "colab": {
          "base_uri": "https://localhost:8080/",
          "height": 317
        },
        "id": "a7dSeA-Kb1Xm",
        "outputId": "f8d2f918-c8e7-4a9b-d756-790aa042b04b"
      },
      "source": [
        "df.describe()"
      ],
      "execution_count": 9,
      "outputs": [
        {
          "output_type": "execute_result",
          "data": {
            "text/html": [
              "<div>\n",
              "<style scoped>\n",
              "    .dataframe tbody tr th:only-of-type {\n",
              "        vertical-align: middle;\n",
              "    }\n",
              "\n",
              "    .dataframe tbody tr th {\n",
              "        vertical-align: top;\n",
              "    }\n",
              "\n",
              "    .dataframe thead th {\n",
              "        text-align: right;\n",
              "    }\n",
              "</style>\n",
              "<table border=\"1\" class=\"dataframe\">\n",
              "  <thead>\n",
              "    <tr style=\"text-align: right;\">\n",
              "      <th></th>\n",
              "      <th>objectid</th>\n",
              "      <th>field1</th>\n",
              "      <th>ym</th>\n",
              "      <th>totalspent</th>\n",
              "      <th>disspent</th>\n",
              "      <th>numofspent</th>\n",
              "      <th>numofdisspent</th>\n",
              "      <th>point_x</th>\n",
              "      <th>point_y</th>\n",
              "    </tr>\n",
              "  </thead>\n",
              "  <tbody>\n",
              "    <tr>\n",
              "      <th>count</th>\n",
              "      <td>1.119429e+06</td>\n",
              "      <td>1.119429e+06</td>\n",
              "      <td>1.119429e+06</td>\n",
              "      <td>1.119429e+06</td>\n",
              "      <td>1.119429e+06</td>\n",
              "      <td>1.119429e+06</td>\n",
              "      <td>1.119429e+06</td>\n",
              "      <td>1.119429e+06</td>\n",
              "      <td>1.119429e+06</td>\n",
              "    </tr>\n",
              "    <tr>\n",
              "      <th>mean</th>\n",
              "      <td>1.399596e+05</td>\n",
              "      <td>1.399596e+05</td>\n",
              "      <td>2.020065e+05</td>\n",
              "      <td>6.256994e+05</td>\n",
              "      <td>3.192132e+04</td>\n",
              "      <td>1.957956e+01</td>\n",
              "      <td>1.109614e+00</td>\n",
              "      <td>9.092228e+05</td>\n",
              "      <td>1.493555e+06</td>\n",
              "    </tr>\n",
              "    <tr>\n",
              "      <th>std</th>\n",
              "      <td>8.084022e+04</td>\n",
              "      <td>8.084022e+04</td>\n",
              "      <td>1.112824e+00</td>\n",
              "      <td>4.965843e+06</td>\n",
              "      <td>3.125575e+05</td>\n",
              "      <td>8.062035e+01</td>\n",
              "      <td>6.542536e+00</td>\n",
              "      <td>1.321007e+04</td>\n",
              "      <td>1.194716e+04</td>\n",
              "    </tr>\n",
              "    <tr>\n",
              "      <th>min</th>\n",
              "      <td>1.000000e+00</td>\n",
              "      <td>1.000000e+00</td>\n",
              "      <td>2.020050e+05</td>\n",
              "      <td>1.000000e+00</td>\n",
              "      <td>-6.500000e+05</td>\n",
              "      <td>1.000000e+00</td>\n",
              "      <td>-1.000000e+00</td>\n",
              "      <td>8.756036e+05</td>\n",
              "      <td>1.458813e+06</td>\n",
              "    </tr>\n",
              "    <tr>\n",
              "      <th>25%</th>\n",
              "      <td>6.996500e+04</td>\n",
              "      <td>6.996500e+04</td>\n",
              "      <td>2.020060e+05</td>\n",
              "      <td>6.100000e+04</td>\n",
              "      <td>0.000000e+00</td>\n",
              "      <td>2.000000e+00</td>\n",
              "      <td>0.000000e+00</td>\n",
              "      <td>9.050022e+05</td>\n",
              "      <td>1.481856e+06</td>\n",
              "    </tr>\n",
              "    <tr>\n",
              "      <th>50%</th>\n",
              "      <td>1.399290e+05</td>\n",
              "      <td>1.399290e+05</td>\n",
              "      <td>2.020070e+05</td>\n",
              "      <td>1.853000e+05</td>\n",
              "      <td>0.000000e+00</td>\n",
              "      <td>5.000000e+00</td>\n",
              "      <td>0.000000e+00</td>\n",
              "      <td>9.093846e+05</td>\n",
              "      <td>1.499717e+06</td>\n",
              "    </tr>\n",
              "    <tr>\n",
              "      <th>75%</th>\n",
              "      <td>2.098930e+05</td>\n",
              "      <td>2.098930e+05</td>\n",
              "      <td>2.020080e+05</td>\n",
              "      <td>4.803600e+05</td>\n",
              "      <td>4.500000e+03</td>\n",
              "      <td>1.800000e+01</td>\n",
              "      <td>1.000000e+00</td>\n",
              "      <td>9.127210e+05</td>\n",
              "      <td>1.501364e+06</td>\n",
              "    </tr>\n",
              "    <tr>\n",
              "      <th>max</th>\n",
              "      <td>2.842650e+05</td>\n",
              "      <td>2.842650e+05</td>\n",
              "      <td>2.020080e+05</td>\n",
              "      <td>8.724686e+08</td>\n",
              "      <td>6.837222e+07</td>\n",
              "      <td>1.035900e+04</td>\n",
              "      <td>1.025000e+03</td>\n",
              "      <td>9.507241e+05</td>\n",
              "      <td>1.552940e+06</td>\n",
              "    </tr>\n",
              "  </tbody>\n",
              "</table>\n",
              "</div>"
            ],
            "text/plain": [
              "           objectid        field1  ...       point_x       point_y\n",
              "count  1.119429e+06  1.119429e+06  ...  1.119429e+06  1.119429e+06\n",
              "mean   1.399596e+05  1.399596e+05  ...  9.092228e+05  1.493555e+06\n",
              "std    8.084022e+04  8.084022e+04  ...  1.321007e+04  1.194716e+04\n",
              "min    1.000000e+00  1.000000e+00  ...  8.756036e+05  1.458813e+06\n",
              "25%    6.996500e+04  6.996500e+04  ...  9.050022e+05  1.481856e+06\n",
              "50%    1.399290e+05  1.399290e+05  ...  9.093846e+05  1.499717e+06\n",
              "75%    2.098930e+05  2.098930e+05  ...  9.127210e+05  1.501364e+06\n",
              "max    2.842650e+05  2.842650e+05  ...  9.507241e+05  1.552940e+06\n",
              "\n",
              "[8 rows x 9 columns]"
            ]
          },
          "metadata": {
            "tags": []
          },
          "execution_count": 9
        }
      ]
    },
    {
      "cell_type": "code",
      "metadata": {
        "id": "s0kqAHlHYiCH"
      },
      "source": [
        "#data preprocessing"
      ],
      "execution_count": 10,
      "outputs": []
    },
    {
      "cell_type": "code",
      "metadata": {
        "id": "krDzPslDjDok"
      },
      "source": [
        "# geocoding\n",
        "from pyproj import Proj, transform \n",
        "proj_itrf = Proj(init='epsg:5178') # korean grid\n",
        "proj_wgs84 = Proj(init='epsg:4326') # World Geodetic System\n",
        "df[\"lon\"],df[\"lat\"] = transform(proj_itrf,proj_wgs84,df['point_x'],df['point_y']) # itrf --> lon/lat\n",
        "\n",
        "\n",
        "df['geometry'] = gpd.points_from_xy(df.point_x, df.point_y) # points \n",
        "df_new=df.drop(['point_x','point_y'],axis=1)\n",
        "# df.drop(['point_x','point_y'],inplace=True, axis=1)\n",
        "\n",
        "# get boundary\n",
        "boundary = gpd.read_file(os.path.join(path, 'LSMD_ADM_SECT_UMD_50.shp'),encoding='euc-kr').to_crs('EPSG:4326')\n"
      ],
      "execution_count": 11,
      "outputs": []
    },
    {
      "cell_type": "code",
      "metadata": {
        "colab": {
          "base_uri": "https://localhost:8080/",
          "height": 204
        },
        "id": "o5oyOFQoW_4d",
        "outputId": "068ad716-f8bc-4509-a4d9-4a0a6bb16f5b"
      },
      "source": [
        "boundary.head()"
      ],
      "execution_count": 12,
      "outputs": [
        {
          "output_type": "execute_result",
          "data": {
            "text/html": [
              "<div>\n",
              "<style scoped>\n",
              "    .dataframe tbody tr th:only-of-type {\n",
              "        vertical-align: middle;\n",
              "    }\n",
              "\n",
              "    .dataframe tbody tr th {\n",
              "        vertical-align: top;\n",
              "    }\n",
              "\n",
              "    .dataframe thead th {\n",
              "        text-align: right;\n",
              "    }\n",
              "</style>\n",
              "<table border=\"1\" class=\"dataframe\">\n",
              "  <thead>\n",
              "    <tr style=\"text-align: right;\">\n",
              "      <th></th>\n",
              "      <th>EMD_CD</th>\n",
              "      <th>EMD_NM</th>\n",
              "      <th>SGG_OID</th>\n",
              "      <th>COL_ADM_SE</th>\n",
              "      <th>GID</th>\n",
              "      <th>geometry</th>\n",
              "    </tr>\n",
              "  </thead>\n",
              "  <tbody>\n",
              "    <tr>\n",
              "      <th>0</th>\n",
              "      <td>50130310</td>\n",
              "      <td>안덕면</td>\n",
              "      <td>1698</td>\n",
              "      <td>50130</td>\n",
              "      <td>4976</td>\n",
              "      <td>MULTIPOLYGON (((126.28206 33.30320, 126.28243 ...</td>\n",
              "    </tr>\n",
              "    <tr>\n",
              "      <th>1</th>\n",
              "      <td>50130250</td>\n",
              "      <td>대정읍</td>\n",
              "      <td>1363</td>\n",
              "      <td>50130</td>\n",
              "      <td>4977</td>\n",
              "      <td>MULTIPOLYGON (((126.16875 33.27659, 126.16876 ...</td>\n",
              "    </tr>\n",
              "    <tr>\n",
              "      <th>2</th>\n",
              "      <td>50130116</td>\n",
              "      <td>강정동</td>\n",
              "      <td>2321</td>\n",
              "      <td>50130</td>\n",
              "      <td>4978</td>\n",
              "      <td>MULTIPOLYGON (((126.46279 33.23248, 126.46292 ...</td>\n",
              "    </tr>\n",
              "    <tr>\n",
              "      <th>3</th>\n",
              "      <td>50130106</td>\n",
              "      <td>서홍동</td>\n",
              "      <td>373</td>\n",
              "      <td>50130</td>\n",
              "      <td>4979</td>\n",
              "      <td>MULTIPOLYGON (((126.51991 33.35191, 126.52008 ...</td>\n",
              "    </tr>\n",
              "    <tr>\n",
              "      <th>4</th>\n",
              "      <td>50130101</td>\n",
              "      <td>서귀동</td>\n",
              "      <td>372</td>\n",
              "      <td>50130</td>\n",
              "      <td>4980</td>\n",
              "      <td>MULTIPOLYGON (((126.55443 33.25228, 126.55445 ...</td>\n",
              "    </tr>\n",
              "  </tbody>\n",
              "</table>\n",
              "</div>"
            ],
            "text/plain": [
              "     EMD_CD EMD_NM  ...   GID                                           geometry\n",
              "0  50130310    안덕면  ...  4976  MULTIPOLYGON (((126.28206 33.30320, 126.28243 ...\n",
              "1  50130250    대정읍  ...  4977  MULTIPOLYGON (((126.16875 33.27659, 126.16876 ...\n",
              "2  50130116    강정동  ...  4978  MULTIPOLYGON (((126.46279 33.23248, 126.46292 ...\n",
              "3  50130106    서홍동  ...  4979  MULTIPOLYGON (((126.51991 33.35191, 126.52008 ...\n",
              "4  50130101    서귀동  ...  4980  MULTIPOLYGON (((126.55443 33.25228, 126.55445 ...\n",
              "\n",
              "[5 rows x 6 columns]"
            ]
          },
          "metadata": {
            "tags": []
          },
          "execution_count": 12
        }
      ]
    },
    {
      "cell_type": "code",
      "metadata": {
        "colab": {
          "base_uri": "https://localhost:8080/",
          "height": 949
        },
        "id": "-QBd7lMcXSNL",
        "outputId": "8d8c83d7-8376-4255-821a-38e30b835774"
      },
      "source": [
        "df_new"
      ],
      "execution_count": 13,
      "outputs": [
        {
          "output_type": "execute_result",
          "data": {
            "text/html": [
              "<div>\n",
              "<style scoped>\n",
              "    .dataframe tbody tr th:only-of-type {\n",
              "        vertical-align: middle;\n",
              "    }\n",
              "\n",
              "    .dataframe tbody tr th {\n",
              "        vertical-align: top;\n",
              "    }\n",
              "\n",
              "    .dataframe thead th {\n",
              "        text-align: right;\n",
              "    }\n",
              "</style>\n",
              "<table border=\"1\" class=\"dataframe\">\n",
              "  <thead>\n",
              "    <tr style=\"text-align: right;\">\n",
              "      <th></th>\n",
              "      <th>objectid</th>\n",
              "      <th>field1</th>\n",
              "      <th>ym</th>\n",
              "      <th>sido</th>\n",
              "      <th>sigungu</th>\n",
              "      <th>franclass</th>\n",
              "      <th>type</th>\n",
              "      <th>time</th>\n",
              "      <th>totalspent</th>\n",
              "      <th>disspent</th>\n",
              "      <th>numofspent</th>\n",
              "      <th>numofdisspent</th>\n",
              "      <th>lon</th>\n",
              "      <th>lat</th>\n",
              "      <th>geometry</th>\n",
              "    </tr>\n",
              "  </thead>\n",
              "  <tbody>\n",
              "    <tr>\n",
              "      <th>0</th>\n",
              "      <td>1</td>\n",
              "      <td>1</td>\n",
              "      <td>202005</td>\n",
              "      <td>제주특별자치도</td>\n",
              "      <td>제주시</td>\n",
              "      <td>영세</td>\n",
              "      <td>일반한식</td>\n",
              "      <td>00시</td>\n",
              "      <td>363000</td>\n",
              "      <td>66500</td>\n",
              "      <td>10</td>\n",
              "      <td>2</td>\n",
              "      <td>126.176746</td>\n",
              "      <td>33.305090</td>\n",
              "      <td>POINT (877005.983 1479766.073)</td>\n",
              "    </tr>\n",
              "    <tr>\n",
              "      <th>1</th>\n",
              "      <td>2</td>\n",
              "      <td>2</td>\n",
              "      <td>202005</td>\n",
              "      <td>제주특별자치도</td>\n",
              "      <td>제주시</td>\n",
              "      <td>영세</td>\n",
              "      <td>단란주점</td>\n",
              "      <td>00시</td>\n",
              "      <td>1180000</td>\n",
              "      <td>0</td>\n",
              "      <td>3</td>\n",
              "      <td>0</td>\n",
              "      <td>126.176737</td>\n",
              "      <td>33.305540</td>\n",
              "      <td>POINT (877005.745 1479816.049)</td>\n",
              "    </tr>\n",
              "    <tr>\n",
              "      <th>2</th>\n",
              "      <td>3</td>\n",
              "      <td>3</td>\n",
              "      <td>202005</td>\n",
              "      <td>제주특별자치도</td>\n",
              "      <td>제주시</td>\n",
              "      <td>중소1</td>\n",
              "      <td>편의점</td>\n",
              "      <td>00시</td>\n",
              "      <td>157670</td>\n",
              "      <td>6850</td>\n",
              "      <td>20</td>\n",
              "      <td>2</td>\n",
              "      <td>126.177311</td>\n",
              "      <td>33.303746</td>\n",
              "      <td>POINT (877056.676 1479616.384)</td>\n",
              "    </tr>\n",
              "    <tr>\n",
              "      <th>3</th>\n",
              "      <td>4</td>\n",
              "      <td>4</td>\n",
              "      <td>202005</td>\n",
              "      <td>제주특별자치도</td>\n",
              "      <td>제주시</td>\n",
              "      <td>영세</td>\n",
              "      <td>편의점</td>\n",
              "      <td>00시</td>\n",
              "      <td>46600</td>\n",
              "      <td>0</td>\n",
              "      <td>2</td>\n",
              "      <td>0</td>\n",
              "      <td>126.177283</td>\n",
              "      <td>33.305098</td>\n",
              "      <td>POINT (877055.959 1479766.312)</td>\n",
              "    </tr>\n",
              "    <tr>\n",
              "      <th>4</th>\n",
              "      <td>5</td>\n",
              "      <td>5</td>\n",
              "      <td>202005</td>\n",
              "      <td>제주특별자치도</td>\n",
              "      <td>제주시</td>\n",
              "      <td>영세</td>\n",
              "      <td>주점</td>\n",
              "      <td>00시</td>\n",
              "      <td>66000</td>\n",
              "      <td>0</td>\n",
              "      <td>2</td>\n",
              "      <td>0</td>\n",
              "      <td>126.177264</td>\n",
              "      <td>33.305999</td>\n",
              "      <td>POINT (877055.482 1479866.263)</td>\n",
              "    </tr>\n",
              "    <tr>\n",
              "      <th>...</th>\n",
              "      <td>...</td>\n",
              "      <td>...</td>\n",
              "      <td>...</td>\n",
              "      <td>...</td>\n",
              "      <td>...</td>\n",
              "      <td>...</td>\n",
              "      <td>...</td>\n",
              "      <td>...</td>\n",
              "      <td>...</td>\n",
              "      <td>...</td>\n",
              "      <td>...</td>\n",
              "      <td>...</td>\n",
              "      <td>...</td>\n",
              "      <td>...</td>\n",
              "      <td>...</td>\n",
              "    </tr>\n",
              "    <tr>\n",
              "      <th>1119424</th>\n",
              "      <td>280081</td>\n",
              "      <td>280081</td>\n",
              "      <td>202008</td>\n",
              "      <td>제주특별자치도</td>\n",
              "      <td>제주시</td>\n",
              "      <td>영세</td>\n",
              "      <td>편의점</td>\n",
              "      <td>x시</td>\n",
              "      <td>13700</td>\n",
              "      <td>0</td>\n",
              "      <td>2</td>\n",
              "      <td>0</td>\n",
              "      <td>126.962369</td>\n",
              "      <td>33.515632</td>\n",
              "      <td>POINT (950266.598 1502457.688)</td>\n",
              "    </tr>\n",
              "    <tr>\n",
              "      <th>1119425</th>\n",
              "      <td>280082</td>\n",
              "      <td>280082</td>\n",
              "      <td>202008</td>\n",
              "      <td>제주특별자치도</td>\n",
              "      <td>제주시</td>\n",
              "      <td>영세</td>\n",
              "      <td>일반한식</td>\n",
              "      <td>x시</td>\n",
              "      <td>56000</td>\n",
              "      <td>0</td>\n",
              "      <td>1</td>\n",
              "      <td>0</td>\n",
              "      <td>126.962928</td>\n",
              "      <td>33.513833</td>\n",
              "      <td>POINT (950317.538 1502258.007)</td>\n",
              "    </tr>\n",
              "    <tr>\n",
              "      <th>1119426</th>\n",
              "      <td>280083</td>\n",
              "      <td>280083</td>\n",
              "      <td>202008</td>\n",
              "      <td>제주특별자치도</td>\n",
              "      <td>제주시</td>\n",
              "      <td>영세</td>\n",
              "      <td>일반한식</td>\n",
              "      <td>x시</td>\n",
              "      <td>28000</td>\n",
              "      <td>0</td>\n",
              "      <td>1</td>\n",
              "      <td>0</td>\n",
              "      <td>126.964580</td>\n",
              "      <td>33.510691</td>\n",
              "      <td>POINT (950469.158 1501908.867)</td>\n",
              "    </tr>\n",
              "    <tr>\n",
              "      <th>1119427</th>\n",
              "      <td>280084</td>\n",
              "      <td>280084</td>\n",
              "      <td>202008</td>\n",
              "      <td>제주특별자치도</td>\n",
              "      <td>제주시</td>\n",
              "      <td>중소1</td>\n",
              "      <td>중국음식</td>\n",
              "      <td>x시</td>\n",
              "      <td>46000</td>\n",
              "      <td>0</td>\n",
              "      <td>3</td>\n",
              "      <td>0</td>\n",
              "      <td>126.965779</td>\n",
              "      <td>33.500332</td>\n",
              "      <td>POINT (950574.639 1500759.806)</td>\n",
              "    </tr>\n",
              "    <tr>\n",
              "      <th>1119428</th>\n",
              "      <td>280085</td>\n",
              "      <td>280085</td>\n",
              "      <td>202008</td>\n",
              "      <td>제주특별자치도</td>\n",
              "      <td>제주시</td>\n",
              "      <td>영세</td>\n",
              "      <td>서양음식</td>\n",
              "      <td>x시</td>\n",
              "      <td>9000</td>\n",
              "      <td>0</td>\n",
              "      <td>1</td>\n",
              "      <td>0</td>\n",
              "      <td>126.965576</td>\n",
              "      <td>33.517462</td>\n",
              "      <td>POINT (950565.518 1502659.048)</td>\n",
              "    </tr>\n",
              "  </tbody>\n",
              "</table>\n",
              "<p>1119429 rows × 15 columns</p>\n",
              "</div>"
            ],
            "text/plain": [
              "         objectid  field1  ...        lat                        geometry\n",
              "0               1       1  ...  33.305090  POINT (877005.983 1479766.073)\n",
              "1               2       2  ...  33.305540  POINT (877005.745 1479816.049)\n",
              "2               3       3  ...  33.303746  POINT (877056.676 1479616.384)\n",
              "3               4       4  ...  33.305098  POINT (877055.959 1479766.312)\n",
              "4               5       5  ...  33.305999  POINT (877055.482 1479866.263)\n",
              "...           ...     ...  ...        ...                             ...\n",
              "1119424    280081  280081  ...  33.515632  POINT (950266.598 1502457.688)\n",
              "1119425    280082  280082  ...  33.513833  POINT (950317.538 1502258.007)\n",
              "1119426    280083  280083  ...  33.510691  POINT (950469.158 1501908.867)\n",
              "1119427    280084  280084  ...  33.500332  POINT (950574.639 1500759.806)\n",
              "1119428    280085  280085  ...  33.517462  POINT (950565.518 1502659.048)\n",
              "\n",
              "[1119429 rows x 15 columns]"
            ]
          },
          "metadata": {
            "tags": []
          },
          "execution_count": 13
        }
      ]
    },
    {
      "cell_type": "code",
      "metadata": {
        "colab": {
          "base_uri": "https://localhost:8080/",
          "height": 479
        },
        "id": "pIM6U4CAVoP5",
        "outputId": "0b75e994-240c-4ac6-9e44-5f3013790d50"
      },
      "source": [
        "df_new.head()"
      ],
      "execution_count": 14,
      "outputs": [
        {
          "output_type": "execute_result",
          "data": {
            "text/html": [
              "<div>\n",
              "<style scoped>\n",
              "    .dataframe tbody tr th:only-of-type {\n",
              "        vertical-align: middle;\n",
              "    }\n",
              "\n",
              "    .dataframe tbody tr th {\n",
              "        vertical-align: top;\n",
              "    }\n",
              "\n",
              "    .dataframe thead th {\n",
              "        text-align: right;\n",
              "    }\n",
              "</style>\n",
              "<table border=\"1\" class=\"dataframe\">\n",
              "  <thead>\n",
              "    <tr style=\"text-align: right;\">\n",
              "      <th></th>\n",
              "      <th>objectid</th>\n",
              "      <th>field1</th>\n",
              "      <th>ym</th>\n",
              "      <th>sido</th>\n",
              "      <th>sigungu</th>\n",
              "      <th>franclass</th>\n",
              "      <th>type</th>\n",
              "      <th>time</th>\n",
              "      <th>totalspent</th>\n",
              "      <th>disspent</th>\n",
              "      <th>numofspent</th>\n",
              "      <th>numofdisspent</th>\n",
              "      <th>lon</th>\n",
              "      <th>lat</th>\n",
              "      <th>geometry</th>\n",
              "    </tr>\n",
              "  </thead>\n",
              "  <tbody>\n",
              "    <tr>\n",
              "      <th>0</th>\n",
              "      <td>1</td>\n",
              "      <td>1</td>\n",
              "      <td>202005</td>\n",
              "      <td>제주특별자치도</td>\n",
              "      <td>제주시</td>\n",
              "      <td>영세</td>\n",
              "      <td>일반한식</td>\n",
              "      <td>00시</td>\n",
              "      <td>363000</td>\n",
              "      <td>66500</td>\n",
              "      <td>10</td>\n",
              "      <td>2</td>\n",
              "      <td>126.176746</td>\n",
              "      <td>33.305090</td>\n",
              "      <td>POINT (877005.983 1479766.073)</td>\n",
              "    </tr>\n",
              "    <tr>\n",
              "      <th>1</th>\n",
              "      <td>2</td>\n",
              "      <td>2</td>\n",
              "      <td>202005</td>\n",
              "      <td>제주특별자치도</td>\n",
              "      <td>제주시</td>\n",
              "      <td>영세</td>\n",
              "      <td>단란주점</td>\n",
              "      <td>00시</td>\n",
              "      <td>1180000</td>\n",
              "      <td>0</td>\n",
              "      <td>3</td>\n",
              "      <td>0</td>\n",
              "      <td>126.176737</td>\n",
              "      <td>33.305540</td>\n",
              "      <td>POINT (877005.745 1479816.049)</td>\n",
              "    </tr>\n",
              "    <tr>\n",
              "      <th>2</th>\n",
              "      <td>3</td>\n",
              "      <td>3</td>\n",
              "      <td>202005</td>\n",
              "      <td>제주특별자치도</td>\n",
              "      <td>제주시</td>\n",
              "      <td>중소1</td>\n",
              "      <td>편의점</td>\n",
              "      <td>00시</td>\n",
              "      <td>157670</td>\n",
              "      <td>6850</td>\n",
              "      <td>20</td>\n",
              "      <td>2</td>\n",
              "      <td>126.177311</td>\n",
              "      <td>33.303746</td>\n",
              "      <td>POINT (877056.676 1479616.384)</td>\n",
              "    </tr>\n",
              "    <tr>\n",
              "      <th>3</th>\n",
              "      <td>4</td>\n",
              "      <td>4</td>\n",
              "      <td>202005</td>\n",
              "      <td>제주특별자치도</td>\n",
              "      <td>제주시</td>\n",
              "      <td>영세</td>\n",
              "      <td>편의점</td>\n",
              "      <td>00시</td>\n",
              "      <td>46600</td>\n",
              "      <td>0</td>\n",
              "      <td>2</td>\n",
              "      <td>0</td>\n",
              "      <td>126.177283</td>\n",
              "      <td>33.305098</td>\n",
              "      <td>POINT (877055.959 1479766.312)</td>\n",
              "    </tr>\n",
              "    <tr>\n",
              "      <th>4</th>\n",
              "      <td>5</td>\n",
              "      <td>5</td>\n",
              "      <td>202005</td>\n",
              "      <td>제주특별자치도</td>\n",
              "      <td>제주시</td>\n",
              "      <td>영세</td>\n",
              "      <td>주점</td>\n",
              "      <td>00시</td>\n",
              "      <td>66000</td>\n",
              "      <td>0</td>\n",
              "      <td>2</td>\n",
              "      <td>0</td>\n",
              "      <td>126.177264</td>\n",
              "      <td>33.305999</td>\n",
              "      <td>POINT (877055.482 1479866.263)</td>\n",
              "    </tr>\n",
              "  </tbody>\n",
              "</table>\n",
              "</div>"
            ],
            "text/plain": [
              "   objectid  field1  ...        lat                        geometry\n",
              "0         1       1  ...  33.305090  POINT (877005.983 1479766.073)\n",
              "1         2       2  ...  33.305540  POINT (877005.745 1479816.049)\n",
              "2         3       3  ...  33.303746  POINT (877056.676 1479616.384)\n",
              "3         4       4  ...  33.305098  POINT (877055.959 1479766.312)\n",
              "4         5       5  ...  33.305999  POINT (877055.482 1479866.263)\n",
              "\n",
              "[5 rows x 15 columns]"
            ]
          },
          "metadata": {
            "tags": []
          },
          "execution_count": 14
        }
      ]
    },
    {
      "cell_type": "code",
      "metadata": {
        "id": "7hwUcIxCUly8"
      },
      "source": [
        "geo_df = gpd.GeoDataFrame(columns={'dong', 'geometry'})"
      ],
      "execution_count": 15,
      "outputs": []
    },
    {
      "cell_type": "code",
      "metadata": {
        "id": "HmJzLkvWb1Xn",
        "colab": {
          "base_uri": "https://localhost:8080/",
          "height": 334
        },
        "outputId": "38051fa6-befe-42aa-f54a-cd16a2e3ce57"
      },
      "source": [
        "# import sys\n",
        "# from data import api_key \n",
        "# key=api_key.google_api_key"
      ],
      "execution_count": 16,
      "outputs": [
        {
          "output_type": "error",
          "ename": "ModuleNotFoundError",
          "evalue": "ignored",
          "traceback": [
            "\u001b[0;31m---------------------------------------------------------------------------\u001b[0m",
            "\u001b[0;31mModuleNotFoundError\u001b[0m                       Traceback (most recent call last)",
            "\u001b[0;32m<ipython-input-16-6866cd00748c>\u001b[0m in \u001b[0;36m<module>\u001b[0;34m()\u001b[0m\n\u001b[1;32m      1\u001b[0m \u001b[0;32mimport\u001b[0m \u001b[0msys\u001b[0m\u001b[0;34m\u001b[0m\u001b[0;34m\u001b[0m\u001b[0m\n\u001b[0;32m----> 2\u001b[0;31m \u001b[0;32mfrom\u001b[0m \u001b[0mdata\u001b[0m \u001b[0;32mimport\u001b[0m \u001b[0mapi_key\u001b[0m\u001b[0;34m\u001b[0m\u001b[0;34m\u001b[0m\u001b[0m\n\u001b[0m\u001b[1;32m      3\u001b[0m \u001b[0mkey\u001b[0m\u001b[0;34m=\u001b[0m\u001b[0mapi_key\u001b[0m\u001b[0;34m.\u001b[0m\u001b[0mgoogle_api_key\u001b[0m\u001b[0;34m\u001b[0m\u001b[0;34m\u001b[0m\u001b[0m\n",
            "\u001b[0;31mModuleNotFoundError\u001b[0m: No module named 'data'",
            "",
            "\u001b[0;31m---------------------------------------------------------------------------\u001b[0;32m\nNOTE: If your import is failing due to a missing package, you can\nmanually install dependencies using either !pip or !apt.\n\nTo view examples of installing some common dependencies, click the\n\"Open Examples\" button below.\n\u001b[0;31m---------------------------------------------------------------------------\u001b[0m\n"
          ]
        }
      ]
    },
    {
      "cell_type": "code",
      "metadata": {
        "id": "idqwdTMhb1Xo"
      },
      "source": [
        "df=pd.concat(concat_list)"
      ],
      "execution_count": null,
      "outputs": []
    },
    {
      "cell_type": "code",
      "metadata": {
        "id": "mYpRaFxfb1Xp"
      },
      "source": [
        "from pyproj import Proj, transform \n",
        "proj_itrf = Proj(init='epsg:5178')\n",
        "proj_wgs84 = Proj(init='epsg:4326')\n",
        "df[\"lon\"],df[\"lat\"] = transform(proj_itrf,proj_wgs84,df['point_x'],df[\"point_y\"])\n",
        "df.drop(['point_x','point_y',\"field1\",'ym'],inplace=True, axis=1)"
      ],
      "execution_count": null,
      "outputs": []
    },
    {
      "cell_type": "code",
      "metadata": {
        "id": "7pNsPBVSb1Xp"
      },
      "source": [
        "# df['lon_lat']=df['lon'].astype(str)+'_'+df['lat'].astype(str)"
      ],
      "execution_count": null,
      "outputs": []
    },
    {
      "cell_type": "code",
      "metadata": {
        "id": "SmMZLYYob1Xp"
      },
      "source": [
        "# df_lon_lat=df['lon_lat'].drop_duplicates()\n",
        "# df_lon_lat"
      ],
      "execution_count": null,
      "outputs": []
    },
    {
      "cell_type": "code",
      "metadata": {
        "id": "HFw4C4ycb1Xq"
      },
      "source": [
        "# import googlemaps\n",
        "# from datetime import datetime\n",
        "\n",
        "# gmaps = googlemaps.Client(key) \n",
        "# reverse_geocode_result = gmaps.reverse_geocode((33.302315,126.176746))\n",
        "# reverse_geocode_result\n",
        "# # geocode_result  "
      ],
      "execution_count": null,
      "outputs": []
    },
    {
      "cell_type": "code",
      "metadata": {
        "id": "_l_iLv8db1Xq"
      },
      "source": [
        "# import json\n",
        "# m=folium.Map(location=[48,-102],zoom_start=3)\n",
        "# folium.Choropleth(\n",
        "#     geo_data='./data/03_us-states.json',\n",
        "#     data=state_data, columns=[\"State\",'Unemployment'],\n",
        "#     nan_fill_color=\"purple\", nan_fill_opacity=0.4,\n",
        "#     key_on=\"    \", fill_color=\"YlGn\",\n",
        "#     legend_name=\"Unemployment Rate (%)\"\n",
        "# ).add_to(m)\n",
        "# m"
      ],
      "execution_count": null,
      "outputs": []
    },
    {
      "cell_type": "code",
      "metadata": {
        "id": "CZ4FYTM_b1Xq"
      },
      "source": [
        "#import rename module  \n",
        "import type_names\n",
        "input_data=type_names.rename()\n",
        "for key, value in input_data:\n",
        "    df[\"type\"].replace(dict.fromkeys(key, value), inplace=True)"
      ],
      "execution_count": null,
      "outputs": []
    },
    {
      "cell_type": "code",
      "metadata": {
        "id": "SN-HoawLb1Xq"
      },
      "source": [
        "df"
      ],
      "execution_count": null,
      "outputs": []
    },
    {
      "cell_type": "code",
      "metadata": {
        "id": "XfUrnRcNb1Xq"
      },
      "source": [
        "# data preprocessing\n",
        "\n",
        "df['sigungu']=df['sigungu'].replace(['제주시','서귀포시'],['jeju','Seogwipo'])\n",
        "df=df[df['time']!='x시'].reset_index(drop=True) # payments canceled \n",
        "df['time']=df['time'].apply(lambda x : x[:2])\n",
        "df.franclass=df.franclass.replace(['영세', '중소1', '중소', '중소2', '일반'],['under_0.3m','under_1m','under_0.5m','under_3m','over_3m'])\n",
        "df_final=df.rename(columns={'sigungu':'city','franclass':'class','totalspent':'total_income','disspent':'subsidies_income','numofspent':'num_of_payments','numofdisspent':'num_of_subspayment'})\n",
        "df_final[['total_income','subsidies_income']]=df_final[['total_income','subsidies_income']].astype(int).apply(lambda x:x/1000) #won to $, 1000:1\n",
        "df_final['non_subsidies_income']=df_final['total_income']-df_final['subsidies_income']"
      ],
      "execution_count": null,
      "outputs": []
    },
    {
      "cell_type": "code",
      "metadata": {
        "id": "SKe3uqkhb1Xr"
      },
      "source": [
        "df_final['month'].unique()"
      ],
      "execution_count": null,
      "outputs": []
    },
    {
      "cell_type": "code",
      "metadata": {
        "id": "rValTI_ib1Xr"
      },
      "source": [
        "# visualization \n",
        "#1. subsidies_income by month \n",
        "df_month_group=df_final.groupby('month')[\"subsidies_income\"].sum().reset_index()\n",
        "\n",
        "plt.figure(figsize=(10,6))\n",
        "sns.catplot(x=\"month\", y=\"subsidies_income\", ci=None, kind=\"bar\", data=df_month_group);"
      ],
      "execution_count": null,
      "outputs": []
    },
    {
      "cell_type": "code",
      "metadata": {
        "id": "bx2vwuGZb1Xr"
      },
      "source": [
        "df_final"
      ],
      "execution_count": null,
      "outputs": []
    },
    {
      "cell_type": "code",
      "metadata": {
        "id": "ZJ1BKxtZb1Xr"
      },
      "source": [
        "# all income by city \n",
        "# population = jeju_city (507,095), seogwipo (190,254), seogwipo/jeju_city = 0.375\n",
        "df_city_group= df_final.groupby('city')['total_income','non_subsidies_income',\"subsidies_income\"].sum() \n",
        "df_city_group\n",
        "\n",
        "f, ax = plt.subplots(1,3, figsize=(20,10))\n",
        "\n",
        "df_city_group['total_income'].plot.pie(explode=[0,0.1], autopct='%1.1f%%',ax=ax[0], shadow=True,fontsize=20)\n",
        "ax[0].set_title('total income by city',fontsize=20)\n",
        "\n",
        "df_city_group['non_subsidies_income'].plot.pie(explode=[0,0.1], autopct='%1.1f%%',ax=ax[1], shadow=True,fontsize=20)\n",
        "ax[1].set_title('non_subsidies_income by city',fontsize=20)\n",
        "\n",
        "df_city_group['subsidies_income'].plot.pie(explode=[0,0.1], autopct='%1.1f%%',ax=ax[2], shadow=True, fontsize=20)\n",
        "ax[2].set_title('subsidies_income by city',fontsize=20)\n"
      ],
      "execution_count": null,
      "outputs": []
    },
    {
      "cell_type": "code",
      "metadata": {
        "id": "79SMGLpFb1Xs"
      },
      "source": [
        "#\n",
        "df_5=df_final[df_final['month']=='5']\n",
        "df_5_sum=df_5[['non_subsidies_income','subsidies_income']].sum()\n",
        "\n",
        "plt.figure(figsize=(10,6))\n",
        "df_5_sum_plot=df_5_sum.plot.pie(explode=[0,0.1], autopct='%1.1f%%', shadow=True,fontsize=20)\n"
      ],
      "execution_count": null,
      "outputs": []
    },
    {
      "cell_type": "code",
      "metadata": {
        "id": "HN6YenIRb1Xs",
        "outputId": "aa8bb6b7-9b99-4d25-becd-a17ebfa80602"
      },
      "source": [
        "df_5_group_type=df_5.groupby('type')['total_income','non_subsidies_income',\"subsidies_income\"].sum() \n",
        "df_5_group_type.iloc[1]"
      ],
      "execution_count": null,
      "outputs": [
        {
          "output_type": "execute_result",
          "data": {
            "text/plain": [
              "total_income            1.292806e+07\n",
              "non_subsidies_income    1.091423e+07\n",
              "subsidies_income        2.013829e+06\n",
              "Name: automobile, dtype: float64"
            ]
          },
          "metadata": {
            "tags": []
          },
          "execution_count": 21
        }
      ]
    },
    {
      "cell_type": "code",
      "metadata": {
        "id": "X7HYHphnb1Xs"
      },
      "source": [
        "#error fix\n",
        "df_5_group_type.loc['beauty']=df_5_group_type.loc['beauty']+df_5_group_type.loc['화장품']\n",
        "df_5_group_type.drop(index='화장품', inplace=True)"
      ],
      "execution_count": null,
      "outputs": []
    },
    {
      "cell_type": "code",
      "metadata": {
        "id": "nduK9M1ub1Xt",
        "outputId": "559f56c7-4abd-4708-d424-ddfa1e34b5d8"
      },
      "source": [
        "df_5_group_type['replacement_rate']=df_5_group_type['subsidies_income']/df_5_group_type['non_subsidies_income']\n",
        "df_5_group_type.sort_values('replacement_rate',ascending=False)"
      ],
      "execution_count": null,
      "outputs": [
        {
          "output_type": "execute_result",
          "data": {
            "text/html": [
              "<div>\n",
              "<style scoped>\n",
              "    .dataframe tbody tr th:only-of-type {\n",
              "        vertical-align: middle;\n",
              "    }\n",
              "\n",
              "    .dataframe tbody tr th {\n",
              "        vertical-align: top;\n",
              "    }\n",
              "\n",
              "    .dataframe thead th {\n",
              "        text-align: right;\n",
              "    }\n",
              "</style>\n",
              "<table border=\"1\" class=\"dataframe\">\n",
              "  <thead>\n",
              "    <tr style=\"text-align: right;\">\n",
              "      <th></th>\n",
              "      <th>total_income</th>\n",
              "      <th>non_subsidies_income</th>\n",
              "      <th>subsidies_income</th>\n",
              "      <th>replacement_rate</th>\n",
              "    </tr>\n",
              "    <tr>\n",
              "      <th>type</th>\n",
              "      <th></th>\n",
              "      <th></th>\n",
              "      <th></th>\n",
              "      <th></th>\n",
              "    </tr>\n",
              "  </thead>\n",
              "  <tbody>\n",
              "    <tr>\n",
              "      <th>agriculture</th>\n",
              "      <td>6.499023e+06</td>\n",
              "      <td>4.669299e+06</td>\n",
              "      <td>1829724.194</td>\n",
              "      <td>0.391863</td>\n",
              "    </tr>\n",
              "    <tr>\n",
              "      <th>grocery</th>\n",
              "      <td>4.010482e+07</td>\n",
              "      <td>3.236285e+07</td>\n",
              "      <td>7741962.050</td>\n",
              "      <td>0.239224</td>\n",
              "    </tr>\n",
              "    <tr>\n",
              "      <th>housing</th>\n",
              "      <td>1.386279e+06</td>\n",
              "      <td>1.147461e+06</td>\n",
              "      <td>238817.841</td>\n",
              "      <td>0.208127</td>\n",
              "    </tr>\n",
              "    <tr>\n",
              "      <th>beauty</th>\n",
              "      <td>1.099585e+06</td>\n",
              "      <td>9.206987e+05</td>\n",
              "      <td>178886.697</td>\n",
              "      <td>0.194295</td>\n",
              "    </tr>\n",
              "    <tr>\n",
              "      <th>construction</th>\n",
              "      <td>4.322700e+06</td>\n",
              "      <td>3.621635e+06</td>\n",
              "      <td>701065.099</td>\n",
              "      <td>0.193577</td>\n",
              "    </tr>\n",
              "    <tr>\n",
              "      <th>automobile</th>\n",
              "      <td>1.292806e+07</td>\n",
              "      <td>1.091423e+07</td>\n",
              "      <td>2013829.169</td>\n",
              "      <td>0.184514</td>\n",
              "    </tr>\n",
              "    <tr>\n",
              "      <th>medical</th>\n",
              "      <td>1.110183e+07</td>\n",
              "      <td>9.426260e+06</td>\n",
              "      <td>1675572.420</td>\n",
              "      <td>0.177756</td>\n",
              "    </tr>\n",
              "    <tr>\n",
              "      <th>dinning</th>\n",
              "      <td>3.804076e+07</td>\n",
              "      <td>3.264970e+07</td>\n",
              "      <td>5391056.740</td>\n",
              "      <td>0.165118</td>\n",
              "    </tr>\n",
              "    <tr>\n",
              "      <th>service</th>\n",
              "      <td>4.397064e+06</td>\n",
              "      <td>3.777110e+06</td>\n",
              "      <td>619954.400</td>\n",
              "      <td>0.164135</td>\n",
              "    </tr>\n",
              "    <tr>\n",
              "      <th>leisure</th>\n",
              "      <td>9.888990e+06</td>\n",
              "      <td>8.657863e+06</td>\n",
              "      <td>1231127.305</td>\n",
              "      <td>0.142198</td>\n",
              "    </tr>\n",
              "    <tr>\n",
              "      <th>shopping</th>\n",
              "      <td>1.720078e+07</td>\n",
              "      <td>1.565526e+07</td>\n",
              "      <td>1545524.957</td>\n",
              "      <td>0.098722</td>\n",
              "    </tr>\n",
              "    <tr>\n",
              "      <th>education</th>\n",
              "      <td>8.582898e+06</td>\n",
              "      <td>7.907169e+06</td>\n",
              "      <td>675729.007</td>\n",
              "      <td>0.085458</td>\n",
              "    </tr>\n",
              "    <tr>\n",
              "      <th>entertain</th>\n",
              "      <td>1.781099e+06</td>\n",
              "      <td>1.648951e+06</td>\n",
              "      <td>132148.667</td>\n",
              "      <td>0.080141</td>\n",
              "    </tr>\n",
              "    <tr>\n",
              "      <th>liquor</th>\n",
              "      <td>4.620667e+06</td>\n",
              "      <td>4.512095e+06</td>\n",
              "      <td>108571.636</td>\n",
              "      <td>0.024062</td>\n",
              "    </tr>\n",
              "    <tr>\n",
              "      <th>travel</th>\n",
              "      <td>5.990732e+06</td>\n",
              "      <td>5.894607e+06</td>\n",
              "      <td>96124.442</td>\n",
              "      <td>0.016307</td>\n",
              "    </tr>\n",
              "  </tbody>\n",
              "</table>\n",
              "</div>"
            ],
            "text/plain": [
              "              total_income  non_subsidies_income  subsidies_income  \\\n",
              "type                                                                 \n",
              "agriculture   6.499023e+06          4.669299e+06       1829724.194   \n",
              "grocery       4.010482e+07          3.236285e+07       7741962.050   \n",
              "housing       1.386279e+06          1.147461e+06        238817.841   \n",
              "beauty        1.099585e+06          9.206987e+05        178886.697   \n",
              "construction  4.322700e+06          3.621635e+06        701065.099   \n",
              "automobile    1.292806e+07          1.091423e+07       2013829.169   \n",
              "medical       1.110183e+07          9.426260e+06       1675572.420   \n",
              "dinning       3.804076e+07          3.264970e+07       5391056.740   \n",
              "service       4.397064e+06          3.777110e+06        619954.400   \n",
              "leisure       9.888990e+06          8.657863e+06       1231127.305   \n",
              "shopping      1.720078e+07          1.565526e+07       1545524.957   \n",
              "education     8.582898e+06          7.907169e+06        675729.007   \n",
              "entertain     1.781099e+06          1.648951e+06        132148.667   \n",
              "liquor        4.620667e+06          4.512095e+06        108571.636   \n",
              "travel        5.990732e+06          5.894607e+06         96124.442   \n",
              "\n",
              "              replacement_rate  \n",
              "type                            \n",
              "agriculture           0.391863  \n",
              "grocery               0.239224  \n",
              "housing               0.208127  \n",
              "beauty                0.194295  \n",
              "construction          0.193577  \n",
              "automobile            0.184514  \n",
              "medical               0.177756  \n",
              "dinning               0.165118  \n",
              "service               0.164135  \n",
              "leisure               0.142198  \n",
              "shopping              0.098722  \n",
              "education             0.085458  \n",
              "entertain             0.080141  \n",
              "liquor                0.024062  \n",
              "travel                0.016307  "
            ]
          },
          "metadata": {
            "tags": []
          },
          "execution_count": 23
        }
      ]
    },
    {
      "cell_type": "code",
      "metadata": {
        "id": "GCCkUCfpb1Xt"
      },
      "source": [
        ""
      ],
      "execution_count": null,
      "outputs": []
    },
    {
      "cell_type": "code",
      "metadata": {
        "id": "QBV-_kbfb1Xt",
        "colab": {
          "base_uri": "https://localhost:8080/"
        },
        "outputId": "8e97ffe2-2bc0-4829-934e-a682dec1c467"
      },
      "source": [
        "import itertools\n",
        "a=list(itertools.permutations('ABCD', 2))\n",
        "print(a)"
      ],
      "execution_count": 22,
      "outputs": [
        {
          "output_type": "stream",
          "text": [
            "[('A', 'B'), ('A', 'C'), ('A', 'D'), ('B', 'A'), ('B', 'C'), ('B', 'D'), ('C', 'A'), ('C', 'B'), ('C', 'D'), ('D', 'A'), ('D', 'B'), ('D', 'C')]\n"
          ],
          "name": "stdout"
        }
      ]
    },
    {
      "cell_type": "code",
      "metadata": {
        "id": "6mPYjCcaoR1G"
      },
      "source": [
        "df = gpd.read_file(gpd.datasets.get_path('nybb'))"
      ],
      "execution_count": 29,
      "outputs": []
    },
    {
      "cell_type": "code",
      "metadata": {
        "colab": {
          "base_uri": "https://localhost:8080/",
          "height": 204
        },
        "id": "Rl_8PV3woidb",
        "outputId": "edfc5f6d-9e1b-4d97-df9e-baa3296dce3c"
      },
      "source": [
        "df"
      ],
      "execution_count": 30,
      "outputs": [
        {
          "output_type": "execute_result",
          "data": {
            "text/html": [
              "<div>\n",
              "<style scoped>\n",
              "    .dataframe tbody tr th:only-of-type {\n",
              "        vertical-align: middle;\n",
              "    }\n",
              "\n",
              "    .dataframe tbody tr th {\n",
              "        vertical-align: top;\n",
              "    }\n",
              "\n",
              "    .dataframe thead th {\n",
              "        text-align: right;\n",
              "    }\n",
              "</style>\n",
              "<table border=\"1\" class=\"dataframe\">\n",
              "  <thead>\n",
              "    <tr style=\"text-align: right;\">\n",
              "      <th></th>\n",
              "      <th>BoroCode</th>\n",
              "      <th>BoroName</th>\n",
              "      <th>Shape_Leng</th>\n",
              "      <th>Shape_Area</th>\n",
              "      <th>geometry</th>\n",
              "    </tr>\n",
              "  </thead>\n",
              "  <tbody>\n",
              "    <tr>\n",
              "      <th>0</th>\n",
              "      <td>5</td>\n",
              "      <td>Staten Island</td>\n",
              "      <td>330470.010332</td>\n",
              "      <td>1.623820e+09</td>\n",
              "      <td>MULTIPOLYGON (((970217.022 145643.332, 970227....</td>\n",
              "    </tr>\n",
              "    <tr>\n",
              "      <th>1</th>\n",
              "      <td>4</td>\n",
              "      <td>Queens</td>\n",
              "      <td>896344.047763</td>\n",
              "      <td>3.045213e+09</td>\n",
              "      <td>MULTIPOLYGON (((1029606.077 156073.814, 102957...</td>\n",
              "    </tr>\n",
              "    <tr>\n",
              "      <th>2</th>\n",
              "      <td>3</td>\n",
              "      <td>Brooklyn</td>\n",
              "      <td>741080.523166</td>\n",
              "      <td>1.937479e+09</td>\n",
              "      <td>MULTIPOLYGON (((1021176.479 151374.797, 102100...</td>\n",
              "    </tr>\n",
              "    <tr>\n",
              "      <th>3</th>\n",
              "      <td>1</td>\n",
              "      <td>Manhattan</td>\n",
              "      <td>359299.096471</td>\n",
              "      <td>6.364715e+08</td>\n",
              "      <td>MULTIPOLYGON (((981219.056 188655.316, 980940....</td>\n",
              "    </tr>\n",
              "    <tr>\n",
              "      <th>4</th>\n",
              "      <td>2</td>\n",
              "      <td>Bronx</td>\n",
              "      <td>464392.991824</td>\n",
              "      <td>1.186925e+09</td>\n",
              "      <td>MULTIPOLYGON (((1012821.806 229228.265, 101278...</td>\n",
              "    </tr>\n",
              "  </tbody>\n",
              "</table>\n",
              "</div>"
            ],
            "text/plain": [
              "   BoroCode  ...                                           geometry\n",
              "0         5  ...  MULTIPOLYGON (((970217.022 145643.332, 970227....\n",
              "1         4  ...  MULTIPOLYGON (((1029606.077 156073.814, 102957...\n",
              "2         3  ...  MULTIPOLYGON (((1021176.479 151374.797, 102100...\n",
              "3         1  ...  MULTIPOLYGON (((981219.056 188655.316, 980940....\n",
              "4         2  ...  MULTIPOLYGON (((1012821.806 229228.265, 101278...\n",
              "\n",
              "[5 rows x 5 columns]"
            ]
          },
          "metadata": {
            "tags": []
          },
          "execution_count": 30
        }
      ]
    },
    {
      "cell_type": "code",
      "metadata": {
        "id": "sVHUIqtCpD4D"
      },
      "source": [
        ""
      ],
      "execution_count": null,
      "outputs": []
    }
  ]
}