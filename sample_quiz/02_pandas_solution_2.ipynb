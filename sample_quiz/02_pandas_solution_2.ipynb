{
 "cells": [
  {
   "cell_type": "markdown",
   "metadata": {},
   "source": [
    "## 한국 경마 2014년도 데이터\n",
    "\n",
    "- 데이터셋 다운로드\n",
    "    - https://www.kaggle.com/parksami/koreahorseracedata\n",
    "    \n",
    "- 컬럼 설명\n",
    "    - RCHOSE_NM : 말이름\n",
    "    - RANK : 등수"
   ]
  },
  {
   "cell_type": "markdown",
   "metadata": {},
   "source": [
    "##### 데이터 로드\n",
    "- 레이스 데이터, 말 데이터"
   ]
  },
  {
   "cell_type": "code",
   "execution_count": 15,
   "metadata": {},
   "outputs": [
    {
     "name": "stdout",
     "output_type": "stream",
     "text": [
      "27218\n"
     ]
    },
    {
     "data": {
      "text/html": [
       "<div>\n",
       "<style scoped>\n",
       "    .dataframe tbody tr th:only-of-type {\n",
       "        vertical-align: middle;\n",
       "    }\n",
       "\n",
       "    .dataframe tbody tr th {\n",
       "        vertical-align: top;\n",
       "    }\n",
       "\n",
       "    .dataframe thead th {\n",
       "        text-align: right;\n",
       "    }\n",
       "</style>\n",
       "<table border=\"1\" class=\"dataframe\">\n",
       "  <thead>\n",
       "    <tr style=\"text-align: right;\">\n",
       "      <th></th>\n",
       "      <th>ID</th>\n",
       "      <th>RCTRCK</th>\n",
       "      <th>RACE_DE</th>\n",
       "      <th>RACE_NO</th>\n",
       "      <th>PARTCPT_NO</th>\n",
       "      <th>RANK</th>\n",
       "      <th>RCHOSE_NM</th>\n",
       "      <th>HRSMN</th>\n",
       "      <th>RCORD</th>\n",
       "      <th>ARVL_DFFRNC</th>\n",
       "      <th>EACH_SCTN_PASAGE_RANK</th>\n",
       "      <th>A_WIN_SYTM_EXPECT_ALOT</th>\n",
       "      <th>WIN_STA_EXPECT_ALOT</th>\n",
       "    </tr>\n",
       "  </thead>\n",
       "  <tbody>\n",
       "    <tr>\n",
       "      <th>27216</th>\n",
       "      <td>27217</td>\n",
       "      <td>제주</td>\n",
       "      <td>2014-11-29</td>\n",
       "      <td>9</td>\n",
       "      <td>7</td>\n",
       "      <td>6.0</td>\n",
       "      <td>미주여행</td>\n",
       "      <td>김경휴</td>\n",
       "      <td>0:01:31.1</td>\n",
       "      <td>13</td>\n",
       "      <td>2 -  -  - 2 - 3 - 6</td>\n",
       "      <td>6.2</td>\n",
       "      <td>9.4</td>\n",
       "    </tr>\n",
       "    <tr>\n",
       "      <th>27217</th>\n",
       "      <td>27218</td>\n",
       "      <td>제주</td>\n",
       "      <td>2014-11-29</td>\n",
       "      <td>9</td>\n",
       "      <td>6</td>\n",
       "      <td>1.0</td>\n",
       "      <td>철옹성</td>\n",
       "      <td>장우성</td>\n",
       "      <td>0:01:26.6</td>\n",
       "      <td>NaN</td>\n",
       "      <td>1 -  -  - 1 - 1 - 1</td>\n",
       "      <td>3.9</td>\n",
       "      <td>2.9</td>\n",
       "    </tr>\n",
       "  </tbody>\n",
       "</table>\n",
       "</div>"
      ],
      "text/plain": [
       "          ID RCTRCK     RACE_DE  RACE_NO  PARTCPT_NO  RANK RCHOSE_NM HRSMN  \\\n",
       "27216  27217     제주  2014-11-29        9           7   6.0      미주여행   김경휴   \n",
       "27217  27218     제주  2014-11-29        9           6   1.0       철옹성   장우성   \n",
       "\n",
       "           RCORD ARVL_DFFRNC EACH_SCTN_PASAGE_RANK  A_WIN_SYTM_EXPECT_ALOT  \\\n",
       "27216  0:01:31.1          13   2 -  -  - 2 - 3 - 6                     6.2   \n",
       "27217  0:01:26.6         NaN   1 -  -  - 1 - 1 - 1                     3.9   \n",
       "\n",
       "       WIN_STA_EXPECT_ALOT  \n",
       "27216                  9.4  \n",
       "27217                  2.9  "
      ]
     },
     "execution_count": 15,
     "metadata": {},
     "output_type": "execute_result"
    }
   ],
   "source": [
    "df_race = pd.read_csv(\"2014_p.csv\", encoding=\"euc-kr\")\n",
    "print(len(df_race))\n",
    "df_race.tail(2)"
   ]
  },
  {
   "cell_type": "code",
   "execution_count": 16,
   "metadata": {},
   "outputs": [
    {
     "name": "stdout",
     "output_type": "stream",
     "text": [
      "27218\n"
     ]
    },
    {
     "data": {
      "text/html": [
       "<div>\n",
       "<style scoped>\n",
       "    .dataframe tbody tr th:only-of-type {\n",
       "        vertical-align: middle;\n",
       "    }\n",
       "\n",
       "    .dataframe tbody tr th {\n",
       "        vertical-align: top;\n",
       "    }\n",
       "\n",
       "    .dataframe thead th {\n",
       "        text-align: right;\n",
       "    }\n",
       "</style>\n",
       "<table border=\"1\" class=\"dataframe\">\n",
       "  <thead>\n",
       "    <tr style=\"text-align: right;\">\n",
       "      <th></th>\n",
       "      <th>ID</th>\n",
       "      <th>RCTRCK</th>\n",
       "      <th>RACE_DE</th>\n",
       "      <th>PRDCTN_NATION_NM</th>\n",
       "      <th>SEX</th>\n",
       "      <th>AGE</th>\n",
       "      <th>BND_WT</th>\n",
       "      <th>TRNER</th>\n",
       "      <th>RCHOSE_OWNR_NM</th>\n",
       "      <th>RCHOSE_BDWGH</th>\n",
       "    </tr>\n",
       "  </thead>\n",
       "  <tbody>\n",
       "    <tr>\n",
       "      <th>27216</th>\n",
       "      <td>27217</td>\n",
       "      <td>제주</td>\n",
       "      <td>2014-11-29</td>\n",
       "      <td>한</td>\n",
       "      <td>거</td>\n",
       "      <td>NaN</td>\n",
       "      <td>53.0</td>\n",
       "      <td>강대은</td>\n",
       "      <td>김기준</td>\n",
       "      <td>281</td>\n",
       "    </tr>\n",
       "    <tr>\n",
       "      <th>27217</th>\n",
       "      <td>27218</td>\n",
       "      <td>제주</td>\n",
       "      <td>2014-11-29</td>\n",
       "      <td>한</td>\n",
       "      <td>거</td>\n",
       "      <td>NaN</td>\n",
       "      <td>57.5</td>\n",
       "      <td>박병진</td>\n",
       "      <td>강상우</td>\n",
       "      <td>314</td>\n",
       "    </tr>\n",
       "  </tbody>\n",
       "</table>\n",
       "</div>"
      ],
      "text/plain": [
       "          ID RCTRCK     RACE_DE PRDCTN_NATION_NM SEX  AGE  BND_WT TRNER  \\\n",
       "27216  27217     제주  2014-11-29                한   거  NaN    53.0   강대은   \n",
       "27217  27218     제주  2014-11-29                한   거  NaN    57.5   박병진   \n",
       "\n",
       "      RCHOSE_OWNR_NM  RCHOSE_BDWGH  \n",
       "27216            김기준           281  \n",
       "27217            강상우           314  "
      ]
     },
     "execution_count": 16,
     "metadata": {},
     "output_type": "execute_result"
    }
   ],
   "source": [
    "df_horse = pd.read_csv('2014_s.csv', encoding='euc-kr')\n",
    "print(len(df_horse))\n",
    "df_horse.tail(2)"
   ]
  },
  {
   "cell_type": "markdown",
   "metadata": {},
   "source": [
    "### Quiz 1\n",
    "- 1등을 가장 많이 한 말의 이름과 우승횟수를 출력하세요."
   ]
  },
  {
   "cell_type": "code",
   "execution_count": 17,
   "metadata": {},
   "outputs": [
    {
     "data": {
      "text/plain": [
       "(7, ['가리사니', '한강의기적'])"
      ]
     },
     "execution_count": 17,
     "metadata": {},
     "output_type": "execute_result"
    }
   ],
   "source": [
    "df_race[df_race[\"RANK\"] == 1].tail()\n",
    "df_rank_1 = df_race[df_race[\"RANK\"] == 1].groupby(\"RCHOSE_NM\").size().reset_index(name=\"count\")\n",
    "df_rank_1 = df_rank_1[df_rank_1[\"count\"] == df_rank_1[\"count\"].max()]\n",
    "df_rank_1[\"count\"].max(), list(df_rank_1[\"RCHOSE_NM\"])"
   ]
  },
  {
   "cell_type": "markdown",
   "metadata": {},
   "source": [
    "### Quiz 2\n",
    "\n",
    "- 말의 순위를 아래와 같이 승점제로 했을때 1등 부터 5등까지 말의 이름과 승점을 출력하세요.\n",
    "    - 1등 3점\n",
    "    - 2등 2점\n",
    "    - 3등 1점"
   ]
  },
  {
   "cell_type": "code",
   "execution_count": 18,
   "metadata": {},
   "outputs": [
    {
     "data": {
      "text/html": [
       "<div>\n",
       "<style scoped>\n",
       "    .dataframe tbody tr th:only-of-type {\n",
       "        vertical-align: middle;\n",
       "    }\n",
       "\n",
       "    .dataframe tbody tr th {\n",
       "        vertical-align: top;\n",
       "    }\n",
       "\n",
       "    .dataframe thead th {\n",
       "        text-align: right;\n",
       "    }\n",
       "</style>\n",
       "<table border=\"1\" class=\"dataframe\">\n",
       "  <thead>\n",
       "    <tr style=\"text-align: right;\">\n",
       "      <th></th>\n",
       "      <th>RCHOSE_NM</th>\n",
       "      <th>POINT</th>\n",
       "    </tr>\n",
       "  </thead>\n",
       "  <tbody>\n",
       "    <tr>\n",
       "      <th>0</th>\n",
       "      <td>신천보스</td>\n",
       "      <td>25.0</td>\n",
       "    </tr>\n",
       "    <tr>\n",
       "      <th>1</th>\n",
       "      <td>금포스카이</td>\n",
       "      <td>24.0</td>\n",
       "    </tr>\n",
       "    <tr>\n",
       "      <th>2</th>\n",
       "      <td>한강의기적</td>\n",
       "      <td>23.0</td>\n",
       "    </tr>\n",
       "    <tr>\n",
       "      <th>3</th>\n",
       "      <td>가리사니</td>\n",
       "      <td>23.0</td>\n",
       "    </tr>\n",
       "    <tr>\n",
       "      <th>4</th>\n",
       "      <td>신천돌채</td>\n",
       "      <td>22.0</td>\n",
       "    </tr>\n",
       "  </tbody>\n",
       "</table>\n",
       "</div>"
      ],
      "text/plain": [
       "  RCHOSE_NM  POINT\n",
       "0      신천보스   25.0\n",
       "1     금포스카이   24.0\n",
       "2     한강의기적   23.0\n",
       "3      가리사니   23.0\n",
       "4      신천돌채   22.0"
      ]
     },
     "execution_count": 18,
     "metadata": {},
     "output_type": "execute_result"
    }
   ],
   "source": [
    "df_merged = pd.merge(df_race, df_horse)\n",
    "df_merged[\"POINT\"] = df_merged[\"RANK\"].apply(lambda rank: 4 - rank if rank <= 3 else 0)\n",
    "df = df_merged[[\"RCHOSE_NM\", \"POINT\"]]\n",
    "df = df.groupby(\"RCHOSE_NM\").agg(\"sum\").reset_index()\n",
    "df = df.sort_values(\"POINT\", ascending=False)\n",
    "df.reset_index(drop=True, inplace=True)\n",
    "df.head()"
   ]
  },
  {
   "cell_type": "markdown",
   "metadata": {},
   "source": [
    "### Quiz 3\n",
    "- 성별에 따른 말의 성적을 데이터 프레임으로 출력하세요.\n",
    "- 아래와 같이 3가지 성별에 따른 1등부터 5등까지의 랭킹 데이터를 확률 데이터로 출력하세요.\n",
    "- 랭킹1등의 수컷의 10.81의 수치는 (1등한 수컷말의 횟수 / 전체 수컷말의 레이스 참가 횟수 ) 입니다.\n",
    "    - 수컷 말중에 레이스에 참가한 횟수가 10000번이라 10000번의 레이스중에 1등을 1081번했다는 뜻입니다."
   ]
  },
  {
   "cell_type": "code",
   "execution_count": 19,
   "metadata": {},
   "outputs": [
    {
     "data": {
      "text/html": [
       "<div>\n",
       "<style scoped>\n",
       "    .dataframe tbody tr th:only-of-type {\n",
       "        vertical-align: middle;\n",
       "    }\n",
       "\n",
       "    .dataframe tbody tr th {\n",
       "        vertical-align: top;\n",
       "    }\n",
       "\n",
       "    .dataframe thead th {\n",
       "        text-align: right;\n",
       "    }\n",
       "</style>\n",
       "<table border=\"1\" class=\"dataframe\">\n",
       "  <thead>\n",
       "    <tr style=\"text-align: right;\">\n",
       "      <th>SEX</th>\n",
       "      <th>거</th>\n",
       "      <th>수</th>\n",
       "      <th>암</th>\n",
       "    </tr>\n",
       "    <tr>\n",
       "      <th>RANK</th>\n",
       "      <th></th>\n",
       "      <th></th>\n",
       "      <th></th>\n",
       "    </tr>\n",
       "  </thead>\n",
       "  <tbody>\n",
       "    <tr>\n",
       "      <th>1.0</th>\n",
       "      <td>9.47</td>\n",
       "      <td>10.81</td>\n",
       "      <td>8.19</td>\n",
       "    </tr>\n",
       "    <tr>\n",
       "      <th>2.0</th>\n",
       "      <td>8.75</td>\n",
       "      <td>10.47</td>\n",
       "      <td>8.67</td>\n",
       "    </tr>\n",
       "    <tr>\n",
       "      <th>3.0</th>\n",
       "      <td>9.65</td>\n",
       "      <td>9.97</td>\n",
       "      <td>8.74</td>\n",
       "    </tr>\n",
       "    <tr>\n",
       "      <th>4.0</th>\n",
       "      <td>9.40</td>\n",
       "      <td>9.60</td>\n",
       "      <td>9.19</td>\n",
       "    </tr>\n",
       "    <tr>\n",
       "      <th>5.0</th>\n",
       "      <td>9.00</td>\n",
       "      <td>9.09</td>\n",
       "      <td>9.75</td>\n",
       "    </tr>\n",
       "  </tbody>\n",
       "</table>\n",
       "</div>"
      ],
      "text/plain": [
       "SEX      거      수     암\n",
       "RANK                   \n",
       "1.0   9.47  10.81  8.19\n",
       "2.0   8.75  10.47  8.67\n",
       "3.0   9.65   9.97  8.74\n",
       "4.0   9.40   9.60  9.19\n",
       "5.0   9.00   9.09  9.75"
      ]
     },
     "execution_count": 19,
     "metadata": {},
     "output_type": "execute_result"
    }
   ],
   "source": [
    "df_merged = pd.merge(df_race, df_horse)\n",
    "df_merged[\"COUNT\"] = 1\n",
    "df = df_merged.pivot_table(\"COUNT\", \"RANK\", \"SEX\", aggfunc=np.sum)\n",
    "count = df_merged.groupby(\"SEX\").size()\n",
    "df = df / count * 100\n",
    "df = round(df, 2)\n",
    "df.head()"
   ]
  }
 ],
 "metadata": {
  "kernelspec": {
   "display_name": "Python 3",
   "language": "python",
   "name": "python3"
  },
  "language_info": {
   "codemirror_mode": {
    "name": "ipython",
    "version": 3
   },
   "file_extension": ".py",
   "mimetype": "text/x-python",
   "name": "python",
   "nbconvert_exporter": "python",
   "pygments_lexer": "ipython3",
   "version": "3.7.6"
  },
  "varInspector": {
   "cols": {
    "lenName": 16,
    "lenType": 16,
    "lenVar": 40
   },
   "kernels_config": {
    "python": {
     "delete_cmd_postfix": "",
     "delete_cmd_prefix": "del ",
     "library": "var_list.py",
     "varRefreshCmd": "print(var_dic_list())"
    },
    "r": {
     "delete_cmd_postfix": ") ",
     "delete_cmd_prefix": "rm(",
     "library": "var_list.r",
     "varRefreshCmd": "cat(var_dic_list()) "
    }
   },
   "types_to_exclude": [
    "module",
    "function",
    "builtin_function_or_method",
    "instance",
    "_Feature"
   ],
   "window_display": false
  }
 },
 "nbformat": 4,
 "nbformat_minor": 4
}
